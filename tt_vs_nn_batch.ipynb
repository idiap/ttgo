{
 "cells": [
  {
   "cell_type": "code",
   "execution_count": null,
   "id": "1ddacdf5-a59b-48b1-8431-57c9032fb439",
   "metadata": {},
   "outputs": [],
   "source": [
    "import torch\n",
    "import time\n",
    "from tt_utils import *\n",
    "from fcn_approx_utils import GMM, NeuralNetwork"
   ]
  },
  {
   "cell_type": "code",
   "execution_count": null,
   "id": "ff5e3456-9ee6-4705-a749-de3abd085edc",
   "metadata": {},
   "outputs": [],
   "source": [
    "device = \"cpu\"#torch.device(\"cuda\" if torch.cuda.is_available() else \"cpu\")"
   ]
  },
  {
   "attachments": {},
   "cell_type": "markdown",
   "id": "219ee14e-e65d-42a7-9339-05d7c48cef67",
   "metadata": {},
   "source": [
    "### Fit NN-model"
   ]
  },
  {
   "cell_type": "code",
   "execution_count": null,
   "id": "69ccc462-4ef5-4321-9824-105fbc363d45",
   "metadata": {},
   "outputs": [],
   "source": [
    "dim_list = [5,10,20]\n",
    "mix_list = [5,10,20]\n",
    "s_list =[0.15,0.3,0.45]\n",
    "\n",
    "Ndim = len(dim_list)\n",
    "Nmix = len(mix_list)\n",
    "Ns = len(s_list)\n",
    "Nt = 5\n",
    "nn_gmm_data_err = torch.empty((Ndim, Nmix, Ns,Nt))\n",
    "nn_gmm_data_time = torch.empty((Ndim, Nmix, Ns,Nt))\n",
    "\n",
    "\n",
    "dim_list = [5,10,20]\n",
    "mix_list = [10,20,40]\n",
    "s_list = [0.15,0.3,0.45]\n",
    "\n",
    "tt_gmm_data_err = torch.empty((Ndim, Nmix, Ns,Nt))\n",
    "tt_gmm_data_rank = torch.empty((Ndim, Nmix, Ns,Nt))\n",
    "tt_gmm_data_time = torch.empty((Ndim, Nmix, Ns,Nt))\n",
    "L=1.0\n",
    "for i, dim_ in enumerate(dim_list):\n",
    "    for j, nmix_ in enumerate(mix_list):\n",
    "        for k, s_ in enumerate(s_list):\n",
    "            for p in range(Nt):\n",
    "                print(\"###########\")\n",
    "                print(i,j,k,p)\n",
    "                print(dim_,nmix_,s_,p)\n",
    "                print(\"###########\")\n",
    "                gmm = GMM(n=dim_,nmix=nmix_,L=L,mx_coef=None,mu=None,s=s_, device=device)\n",
    "                pdf = gmm.pdf\n",
    "                ndata_train = 100000*dim_\n",
    "                x_train = 2*L*(-0.5 + torch.rand((ndata_train,dim_)).to(device))\n",
    "                y_train = pdf(x_train).view(-1,1)\n",
    "                ndata_test = 10000\n",
    "                x_test = 2*L*(-0.5 + torch.rand((ndata_test,dim_)).to(device))\n",
    "                y_test = pdf(x_test)\n",
    "                nn = NeuralNetwork(dim=dim_, width=64, lr=1e-3)\n",
    "                data_train = torch.cat((x_train.view(-1,dim_),y_train.view(-1,1)),dim=-1)\n",
    "                data_test = torch.cat((x_test.view(-1,dim_),y_test.view(-1,1)),dim=-1)\n",
    "                nn.load_data(data_train, data_test)\n",
    "                t1_nn = time.time()\n",
    "                nn.train(num_epochs=10, batch_size=128, verbose=True)\n",
    "                t2_nn = time.time()\n",
    "                dt = t2_nn - t1_nn\n",
    "                # Test the accuracy of NN over the test set\n",
    "                y_nn = nn.model(x_test)\n",
    "                mse_nn =  ((y_nn.view(-1)-y_test.view(-1))**2).mean().detach().cpu() #(((y_nn.view(-1)-y_test.view(-1))/(1e-9+y_test.view(-1).abs()))**2).mean().detach()\n",
    "                print(\"mse_nn: \", mse_nn)\n",
    "                nn_gmm_data_err[i,j,k,p] = 1*mse_nn\n",
    "                nn_gmm_data_time[i,j,k,p] = dt\n",
    "                \n",
    "                n_discretization = torch.tensor([200]*dim_).to(device)\n",
    "                domain = [torch.linspace(-L,L,n_discretization[i_]).to(device) for i_ in range(dim_)] \n",
    "                t1 = time.time()\n",
    "                tt_gmm = cross_approximate(fcn=pdf,  max_batch=10**6, domain=domain, \n",
    "                                        rmax=200, nswp=20, eps=1e-3, verbose=False, \n",
    "                                        kickrank=10, device=device)\n",
    "                t2 = time.time()\n",
    "\n",
    "                y_tt =  get_value(tt_model=tt_gmm, x=x_test.to(device),  domain=domain, \n",
    "                                    n_discretization=n_discretization , max_batch=10**5, device=device)\n",
    "\n",
    "                mse_tt = ((y_tt.view(-1)-y_test.view(-1))**2).mean()\n",
    "                print(\"mse_tt: \", mse_tt)\n",
    "\n",
    "                tt_gmm_data_err[i,j,k,p] = 1*mse_tt\n",
    "                tt_gmm_data_rank[i,j,k,p] = max(tt_gmm.ranks_tt)\n",
    "                tt_gmm_data_time[i,j,k,p] = (t2-t1)\n",
    "\n",
    "\n",
    "                torch.save({'dim_list':dim_list,'s_list':s_list,'mix_list':mix_list,\n",
    "                          'tt_gmm_data_err':tt_gmm_data_err,\n",
    "                         'tt_gmm_data_time':tt_gmm_data_time,\n",
    "                         'tt_gmm_data_rank':tt_gmm_data_rank},'tt_gmm_data_2.pt')\n",
    "                torch.save({'dim_list':dim_list,'s_list':s_list,'mix_list':mix_list,\n",
    "                          'nn_gmm_data_err':nn_gmm_data_err,\n",
    "                         'nn_gmm_data_time':nn_gmm_data_time},'nn_gmm_data_2.pt')"
   ]
  },
  {
   "cell_type": "code",
   "execution_count": null,
   "id": "f999a701",
   "metadata": {},
   "outputs": [],
   "source": [
    "tt_data = torch.load('tt_gmm_data_1.pt')\n",
    "nn_data = torch.load('nn_gmm_data_1.pt')"
   ]
  },
  {
   "cell_type": "code",
   "execution_count": null,
   "id": "3e4962b9",
   "metadata": {},
   "outputs": [],
   "source": [
    "tt_mean = tt_data['tt_gmm_data_err'].mean(dim=(-1,-2))\n",
    "tt_std = tt_data['tt_gmm_data_err'].std(dim=(-1,-2))\n",
    "\n",
    "nn_mean = nn_data['nn_gmm_data_err'].mean(dim=(-1,-2))\n",
    "nn_std = nn_data['nn_gmm_data_err'].std(dim=(-1,-2))"
   ]
  },
  {
   "cell_type": "code",
   "execution_count": null,
   "id": "8d6d9993-5b5e-4ffa-8f53-8974110f3323",
   "metadata": {},
   "outputs": [],
   "source": [
    "tt_nn = (tt_data['tt_gmm_data_err']/nn_data['nn_gmm_data_err']).detach().cpu()"
   ]
  },
  {
   "cell_type": "code",
   "execution_count": null,
   "id": "70dc9e1d-b3f4-4726-b4f4-86043d4017ae",
   "metadata": {},
   "outputs": [],
   "source": [
    "y_mean = tt_nn.mean(dim=(-1,-2))\n",
    "y_std = tt_nn.std(dim=(-1,-2))"
   ]
  },
  {
   "cell_type": "code",
   "execution_count": null,
   "id": "82bf7fe3",
   "metadata": {},
   "outputs": [],
   "source": [
    "dim_list = tt_data['dim_list']\n",
    "dim_list"
   ]
  },
  {
   "cell_type": "code",
   "execution_count": null,
   "id": "eb0fee0a",
   "metadata": {},
   "outputs": [],
   "source": [
    "mix_list = tt_data['mix_list']\n",
    "mix_list"
   ]
  },
  {
   "cell_type": "code",
   "execution_count": null,
   "id": "70826373-40cf-4673-8ea3-09c2f23c4a7e",
   "metadata": {},
   "outputs": [],
   "source": [
    "s_list = tt_data['s_list']\n",
    "s_list"
   ]
  },
  {
   "cell_type": "code",
   "execution_count": null,
   "id": "f59cffee-56e8-4c4d-a356-83a640e5a68c",
   "metadata": {},
   "outputs": [],
   "source": [
    "y_mean.shape"
   ]
  },
  {
   "cell_type": "code",
   "execution_count": null,
   "id": "22bf0f8a-b582-4087-8db7-8aec1348622b",
   "metadata": {},
   "outputs": [],
   "source": [
    "import numpy as np\n",
    "import matplotlib\n",
    "import matplotlib.pyplot as plt\n",
    "matplotlib.rcParams.update({'font.size': 10})\n",
    "\n",
    "# Define your data\n",
    "conditions = ['k=5','k=10', 'k=20']\n",
    "m1_means =  y_mean[0] # Mean values for Method 1\n",
    "m1_stdevs = y_std[0]   # Standard deviations for Method 1\n",
    "m2_means = y_mean[1]   # Mean values for Method 2\n",
    "m2_stdevs =  y_std[1]   # Standard deviations for Method 2\n",
    "m3_means = y_mean[2]   # Mean values for Method 2\n",
    "m3_stdevs =  y_std[2]   # Standard deviations for Method 2\n",
    "m4_means = y_mean[3]   # Mean values for Method 2\n",
    "m4_stdevs = y_std[3]   # Standard deviations for Method 2\n",
    "\n",
    "\n",
    "\n",
    "# Set the width of the bars\n",
    "bar_width = 0.1\n",
    "\n",
    "# Set the positions of the bars on the x-axis\n",
    "r1 = np.arange(len(conditions))-0.1\n",
    "r2 = [x + bar_width for x in r1]\n",
    "r3 = [x + bar_width for x in r2]\n",
    "r4 = [x + bar_width for x in r3]\n",
    "\n",
    "# Plot the bars\n",
    "plt.bar(r1, m1_means,  width=bar_width, label='d=10', capsize=5)\n",
    "plt.bar(r2, m2_means,  width=bar_width, label='d=20', capsize=5)\n",
    "plt.bar(r3, m3_means,  width=bar_width, label='d=30', capsize=5)\n",
    "plt.bar(r4, m4_means,  width=bar_width, label='d=40', capsize=5)\n",
    "\n",
    "# Add labels, title, and legend\n",
    "# plt.xlabel('number of mixture components',fontsize='12')\n",
    "plt.ylabel('Error ratio TT/NN',fontsize='13')\n",
    "# plt.title('TT vs NN')\n",
    "plt.xticks([r + bar_width/2 for r in range(len(conditions))], conditions, fontsize=12)\n",
    "plt.legend(ncol=4)\n",
    "plt.yticks(fontsize=12)\n",
    "plt.yscale('log')\n",
    "plt.savefig('tt_vs_nn.jpeg', bbox_inches='tight',pad_inches=0.01, dpi=1000)\n",
    "# Show the plot\n",
    "plt.show()\n"
   ]
  },
  {
   "cell_type": "code",
   "execution_count": null,
   "id": "3da23969",
   "metadata": {},
   "outputs": [],
   "source": []
  },
  {
   "cell_type": "code",
   "execution_count": null,
   "id": "a7edc12a-b8bb-461e-ba8d-0eb9d612061b",
   "metadata": {},
   "outputs": [],
   "source": []
  },
  {
   "cell_type": "code",
   "execution_count": null,
   "id": "82295f86-373d-4382-baae-b70535824379",
   "metadata": {},
   "outputs": [],
   "source": []
  }
 ],
 "metadata": {
  "kernelspec": {
   "display_name": "Python 3 (ipykernel)",
   "language": "python",
   "name": "python3"
  },
  "language_info": {
   "codemirror_mode": {
    "name": "ipython",
    "version": 3
   },
   "file_extension": ".py",
   "mimetype": "text/x-python",
   "name": "python",
   "nbconvert_exporter": "python",
   "pygments_lexer": "ipython3",
   "version": "3.9.7"
  }
 },
 "nbformat": 4,
 "nbformat_minor": 5
}
