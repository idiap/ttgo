{
 "cells": [
  {
   "cell_type": "markdown",
   "metadata": {},
   "source": [
    "Here we consider TTGO for various 2D benchmark functions without conditioning (task parameters).\n",
    "\n",
    "Try:\n",
    " - 2D Rosenbrock function (unique global optima)\n",
    " - 2D Himmelblaue function (multiple global optima)\n",
    " - 2D GMM (multiple/unique global optima)\n",
    " - 2D Sine function ( infinite number of global optima)\n",
    " - Something of your own\n",
    " \n",
    "\n",
    "Copyright (c) 2008 Idiap Research Institute, http://www.idiap.ch/\n",
    "\n",
    "Written by Suhan Shetty <suhan.shetty@idiap.ch>,\n"
   ]
  },
  {
   "cell_type": "code",
   "execution_count": 1,
   "metadata": {},
   "outputs": [
    {
     "name": "stderr",
     "output_type": "stream",
     "text": [
      "/idiap/temp/sshetty/miniconda/envs/pyml/lib/python3.9/site-packages/tqdm/auto.py:22: TqdmWarning: IProgress not found. Please update jupyter and ipywidgets. See https://ipywidgets.readthedocs.io/en/stable/user_install.html\n",
      "  from .autonotebook import tqdm as notebook_tqdm\n",
      "Matplotlib created a temporary config/cache directory at /tmp/matplotlib-gba011st because the default path (/idiap/home/sshetty/.cache/matplotlib) is not a writable directory; it is highly recommended to set the MPLCONFIGDIR environment variable to a writable directory, in particular to speed up the import of Matplotlib and to better support multiprocessing.\n"
     ]
    }
   ],
   "source": [
    "import torch\n",
    "import numpy as np\n",
    "import sys\n",
    "sys.path.append('../')\n",
    "import tt_utils\n",
    "from ttgo import TTGO\n",
    "from fcn_plotting_utils import plot_surf, plot_contour\n",
    "%load_ext autoreload\n",
    "np.set_printoptions(precision=3)\n",
    "%autoreload 2"
   ]
  },
  {
   "cell_type": "code",
   "execution_count": 2,
   "metadata": {},
   "outputs": [
    {
     "data": {
      "text/plain": [
       "device(type='cuda')"
      ]
     },
     "execution_count": 2,
     "metadata": {},
     "output_type": "execute_result"
    }
   ],
   "source": [
    "device = torch.device(\"cuda\" if torch.cuda.is_available() else \"cpu\")\n",
    "device"
   ]
  },
  {
   "cell_type": "markdown",
   "metadata": {},
   "source": [
    "##### Define the objective function (a pdf, need not be normalized)"
   ]
  },
  {
   "cell_type": "markdown",
   "metadata": {},
   "source": [
    "Activate one of the following cells:"
   ]
  },
  {
   "cell_type": "code",
   "execution_count": 3,
   "metadata": {},
   "outputs": [
    {
     "name": "stdout",
     "output_type": "stream",
     "text": [
      "This has multiple global optima\n"
     ]
    }
   ],
   "source": [
    "#Himmelbalue2D\n",
    "from test_fcns import Himmelblaue_2D\n",
    "L=5\n",
    "n = 2 # Dimension of the domain\n",
    "a=11; b=7;\n",
    "pdf, cost = Himmelblaue_2D(alpha=1, a=a, b=b)\n",
    "print(\"This has multiple global optima\")\n",
    "z_max = 2000 # for plotting\n",
    "log_norm = True # for plotting"
   ]
  },
  {
   "cell_type": "markdown",
   "metadata": {},
   "source": [
    "##### or"
   ]
  },
  {
   "cell_type": "code",
   "execution_count": 4,
   "metadata": {},
   "outputs": [],
   "source": [
    "# # Rosenbrock 2D\n",
    "# from test_fcns import Rosenbrock_2D\n",
    "# L=2\n",
    "# n = 2 # Dimension of the domain\n",
    "# a=1;b=100\n",
    "# pdf, cost = Rosenbrock_2D(a=a,b=b,alpha=1)\n",
    "# print(\"Global optima is at: \", (a,a**2))\n",
    "# z_max = 2000 # for plotting\n",
    "# log_norm = True # for plotting"
   ]
  },
  {
   "cell_type": "markdown",
   "metadata": {},
   "source": [
    "or"
   ]
  },
  {
   "cell_type": "code",
   "execution_count": 5,
   "metadata": {},
   "outputs": [],
   "source": [
    "# # Sine 2D\n",
    "# from test_fcns import sine_nD\n",
    "# L=2\n",
    "# n = 2 # Dimension of the domain\n",
    "# pdf, cost = sine_nD(n=n,device=device)\n",
    "# print(\"An infinite number of solutions exist \")\n",
    "# z_max = 2 # for plotting\n",
    "# log_norm = True # for plotting"
   ]
  },
  {
   "cell_type": "markdown",
   "metadata": {},
   "source": [
    "##### or"
   ]
  },
  {
   "cell_type": "code",
   "execution_count": 6,
   "metadata": {},
   "outputs": [],
   "source": [
    "# # Mixture of Gaussians (un-normalized)\n",
    "# from test_fcns import gmm \n",
    "# L = 2\n",
    "# n = 2 # Dimension of the domain\n",
    "# nmix = 4\n",
    "# mx_coef = np.random.uniform(0,1,(nmix,))\n",
    "# mx_coef = torch.from_numpy(mx_coef/np.sum(mx_coef)).to(device)\n",
    "# mu = torch.from_numpy(np.random.uniform(-L,L,(nmix,n))).to(device)\n",
    "# pdf, cost = gmm(n=n,nmix=nmix,L=L,mx_coef=mx_coef,mu=mu,s=0.2,device=device)\n",
    "# print(\"centers: \",mu)\n",
    "# print(\"\\nPDF at centers: \", pdf(mu))\n",
    "# z_max = 2 # for plotting\n",
    "# log_norm = False # for plotting"
   ]
  },
  {
   "cell_type": "markdown",
   "metadata": {},
   "source": [
    "##### Discretize the domain"
   ]
  },
  {
   "cell_type": "code",
   "execution_count": 7,
   "metadata": {},
   "outputs": [],
   "source": [
    "# Define the domain of the function\n",
    "d = 100 # discretization of each axis\n",
    "domain = [torch.linspace(-L,L,d).to(device)]*2"
   ]
  },
  {
   "cell_type": "code",
   "execution_count": 8,
   "metadata": {},
   "outputs": [
    {
     "name": "stdout",
     "output_type": "stream",
     "text": [
      "cross device is cuda\n",
      "Cross-approximation over a 2D domain containing 10000 grid points:\n",
      "iter: 0  | tt-error: 1.000e+00, test-error:8.729e-01 | time:   1.1569 | largest rank:   1\n",
      "iter: 1  | tt-error: 1.923e+00, test-error:1.058e-01 | time:   1.1651 | largest rank:  11\n",
      "iter: 2  | tt-error: 1.048e-01, test-error:4.934e-03 | time:   1.1750 | largest rank:  21\n",
      "iter: 3  | tt-error: 5.073e-03, test-error:6.959e-04 | time:   1.1855 | largest rank:  31\n",
      "iter: 4  | tt-error: 7.102e-04, test-error:3.596e-09 | time:   1.1969 | largest rank:  41 <- converged: eps < 0.001\n",
      "Did 31500 function evaluations, which took 0.004719s (6.675e+06 evals/s)\n",
      "\n"
     ]
    }
   ],
   "source": [
    "# Find the tt-model correspondin to the pdf\n",
    "tt_model = tt_utils.cross_approximate(fcn=pdf,  domain=domain, \n",
    "                        rmax=200, nswp=10, eps=1e-3, verbose=True, \n",
    "                        kickrank=10, device=device)"
   ]
  },
  {
   "cell_type": "code",
   "execution_count": 9,
   "metadata": {},
   "outputs": [],
   "source": [
    "# Refine the discretization and interpolate the model\n",
    "scale_factor = 20\n",
    "site_list = torch.arange(len(domain))#len(domain_task)+torch.arange(len(domain_decision))\n",
    "domain_new = tt_utils.refine_domain(domain=domain, \n",
    "                                    site_list=site_list,\n",
    "                                    scale_factor=scale_factor, device=device)\n",
    "tt_model_new = tt_utils.refine_model(tt_model=tt_model, \n",
    "                                    site_list=site_list,\n",
    "                                    scale_factor=scale_factor, device=device)"
   ]
  },
  {
   "cell_type": "markdown",
   "metadata": {},
   "source": [
    "##### Find the TT-Model"
   ]
  },
  {
   "cell_type": "code",
   "execution_count": 10,
   "metadata": {},
   "outputs": [
    {
     "name": "stdout",
     "output_type": "stream",
     "text": [
      "TT-Rank:  tensor([ 1, 14,  1])\n"
     ]
    }
   ],
   "source": [
    "ttgo = TTGO(tt_model = tt_model_new,domain=domain_new,cost=cost,device=device)\n",
    "print(\"TT-Rank: \", ttgo.tt_model.ranks_tt)"
   ]
  },
  {
   "cell_type": "markdown",
   "metadata": {},
   "source": [
    "##### Sample from the TT-distribution (no conditioning)"
   ]
  },
  {
   "cell_type": "code",
   "execution_count": 11,
   "metadata": {},
   "outputs": [],
   "source": [
    "n_samples = 100 \n",
    "alpha = 0.75 # choose prioritized sampling parameter (0,1)\n",
    "samples = ttgo.sample_tt(n_samples=n_samples, alpha=alpha)"
   ]
  },
  {
   "cell_type": "code",
   "execution_count": null,
   "metadata": {},
   "outputs": [],
   "source": []
  },
  {
   "cell_type": "markdown",
   "metadata": {},
   "source": [
    "Choose the best solution (or top-k solution)"
   ]
  },
  {
   "cell_type": "code",
   "execution_count": 12,
   "metadata": {},
   "outputs": [],
   "source": [
    "best_estimate = ttgo.choose_best_sample(samples)[0] # best estimate\n",
    "k = 10 # number of solutions needed\n",
    "top_k_estimate = ttgo.choose_top_k_sample(samples,k=k)[0] # top-k estimates for multiple solutions"
   ]
  },
  {
   "cell_type": "code",
   "execution_count": 13,
   "metadata": {},
   "outputs": [
    {
     "name": "stdout",
     "output_type": "stream",
     "text": [
      "Cost at estimated optima:  tensor([0.0013], device='cuda:0')\n",
      "Cost at top-k proposals:  tensor([0.0013, 0.0035, 0.0093, 0.0099, 0.0133, 0.0148, 0.0195, 0.0239, 0.0271,\n",
      "        0.0290], device='cuda:0')\n"
     ]
    }
   ],
   "source": [
    "print(\"Cost at estimated optima: \", cost(best_estimate))\n",
    "print(\"Cost at top-k proposals: \", cost(top_k_estimate))"
   ]
  },
  {
   "cell_type": "code",
   "execution_count": 14,
   "metadata": {},
   "outputs": [
    {
     "data": {
      "text/plain": [
       "tensor([[-2.8081,  3.1364]], device='cuda:0')"
      ]
     },
     "execution_count": 14,
     "metadata": {},
     "output_type": "execute_result"
    }
   ],
   "source": [
    "best_estimate"
   ]
  },
  {
   "cell_type": "markdown",
   "metadata": {},
   "source": [
    "Fine tune the TTGO estimate using gradient-based optimization"
   ]
  },
  {
   "cell_type": "code",
   "execution_count": 15,
   "metadata": {},
   "outputs": [
    {
     "name": "stdout",
     "output_type": "stream",
     "text": [
      "Optimal cost:  tensor([1.0585e-07], device='cuda:0')\n",
      "Optimal pdf:  tensor([1.0000], device='cuda:0')\n"
     ]
    }
   ],
   "source": [
    "ttgo_optimized, _ = ttgo.optimize(best_estimate)\n",
    "print(\"Optimal cost: \", cost(ttgo_optimized))\n",
    "print(\"Optimal pdf: \", pdf(ttgo_optimized))"
   ]
  },
  {
   "cell_type": "code",
   "execution_count": 16,
   "metadata": {},
   "outputs": [
    {
     "name": "stdout",
     "output_type": "stream",
     "text": [
      "TTGO Approximation of Optima:  tensor([[-2.8081,  3.1364]], device='cuda:0')\n",
      "Optima:  tensor([[-2.8051,  3.1313]], device='cuda:0')\n"
     ]
    }
   ],
   "source": [
    "print(\"TTGO Approximation of Optima: \", best_estimate)\n",
    "print(\"Optima: \", ttgo_optimized)"
   ]
  },
  {
   "cell_type": "code",
   "execution_count": 17,
   "metadata": {},
   "outputs": [],
   "source": [
    "ttgo_optimized_k = 1*top_k_estimate\n",
    "for i, x in enumerate(ttgo_optimized_k):\n",
    "    ttgo_optimized_k[i],_ = ttgo.optimize(x)\n"
   ]
  },
  {
   "cell_type": "markdown",
   "metadata": {},
   "source": [
    "### Visualize  Samples from TT Model"
   ]
  },
  {
   "cell_type": "code",
   "execution_count": 18,
   "metadata": {},
   "outputs": [],
   "source": [
    "def cost_plot(x):\n",
    "    x = torch.from_numpy(x).to(device)\n",
    "    out =  cost(x).cpu()\n",
    "    if not (type(out) is np.ndarray):\n",
    "        out = out.numpy()\n",
    "    return out\n",
    "def pdf_plot(x):\n",
    "    x = torch.from_numpy(x).to(device)\n",
    "    out =  pdf(x).cpu()\n",
    "    if not (type(out) is np.ndarray):\n",
    "        out = out.numpy()\n",
    "    return out"
   ]
  },
  {
   "cell_type": "code",
   "execution_count": 19,
   "metadata": {},
   "outputs": [
    {
     "data": {
      "text/plain": [
       "[<matplotlib.lines.Line2D at 0x7fd7edcecf70>]"
      ]
     },
     "execution_count": 19,
     "metadata": {},
     "output_type": "execute_result"
    },
    {
     "data": {
      "image/png": "[encoded data removed]",
      "text/plain": [
       "<Figure size 432x288 with 2 Axes>"
      ]
     },
     "metadata": {},
     "output_type": "display_data"
    }
   ],
   "source": [
    "x = np.linspace(-L,L,d)\n",
    "y = np.linspace(-L,L,d)\n",
    "plt = plot_contour(x,y,cost_plot,data=samples[0].cpu(), contour_scale=100, figsize=5,log_norm=log_norm)\n",
    "plt.plot(ttgo_optimized_k[:,0].cpu(),ttgo_optimized_k[:,1].cpu(),'*r',markersize=10)\n",
    "# plt.plot(best_estimate[:,0].cpu(),best_estimate[:,1].cpu(),'*r',markersize=10)\n",
    "\n",
    "# plt.title(\"Cost\")\n",
    "\n",
    "#plt.title(r\"Himmelblau: $z=(x^2+y-{})^2+(x+y^2-{})^2$\".format(a,b))\n",
    "#plt.title(r\"Rosenbrock: $z=(x-1)^2+100 (y-x^2)^2$\".format(11,7))\n",
    "\n",
    "# plt.savefig('rosenbrock2D_a_99.png',pad_inches=0.01, dpi=300)\n",
    "# plt.savefig('Himmelblau2D_99.png',pad_inches=0.01, dpi=300)\n",
    "# plt.savefig('Sine2D_a_0.png',pad_inches=0.01, dpi=300)"
   ]
  },
  {
   "cell_type": "code",
   "execution_count": null,
   "metadata": {},
   "outputs": [],
   "source": []
  }
 ],
 "metadata": {
  "kernelspec": {
   "display_name": "Python 3 (ipykernel)",
   "language": "python",
   "name": "python3"
  },
  "language_info": {
   "codemirror_mode": {
    "name": "ipython",
    "version": 3
   },
   "file_extension": ".py",
   "mimetype": "text/x-python",
   "name": "python",
   "nbconvert_exporter": "python",
   "pygments_lexer": "ipython3",
   "version": "3.9.7"
  },
  "vscode": {
   "interpreter": {
    "hash": "cf96f6c213ba3f9333b362e3bb271376c1f8feeec3b85b92580d68346ee16de3"
   }
  }
 },
 "nbformat": 4,
 "nbformat_minor": 4
}
