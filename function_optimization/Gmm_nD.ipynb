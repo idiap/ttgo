{
 "cells": [
  {
   "cell_type": "markdown",
   "metadata": {},
   "source": [
    "### Optimization of n-D Gaussian Mixture Model (un-normalized)\n",
    "\n",
    "\n",
    "$$ pdf(\\mathbf{x}) = \\sum_{k=1}^{K} c_k e^{-\\frac{||\\mathbf{x}-\\mathbf{\\mu}_k||^2}{s_k^2}} $$\n",
    "$$ cost(\\mathbf{x}) = 1-pdf(\\mathbf{x}) $$ \n",
    "\n",
    "Here, $\\mathbf{x} = (\\mathbf{x}_{task},\\mathbf{x}_{decision})$\n",
    "\n",
    "The global optima is known apriori (approximately): The centers of the GMM are likely to be the maxima (or comparable to the optima). \n",
    "\n",
    "GMM can be really low-rank. We show that TTGO is able to find the global optima consistently with a hand few of samples from the constructed tt-model of the above pdf. Moreover, we can playfully choose task paramters as some of the coordinates of any of the centers (mixture component) in the online phase. Then, we can check if we get back the corresponding center (mixture component) as the optima. A naive approach of sampling from uniform distribution to initialize a Netwon-type optimizer does not usually work for larger $n$ (try $n>10$ in this notebook). We use scipy's SLSQP to fine tune the initialization provided by TTGO and uniform distribution.\n",
    "\n",
    "Exercise:\n",
    "   - Choose one of the mixture components to have larger weight than others (so that we have a unique global optima) and see if TTGO can get this global optima\n",
    "   - Choose mutiple centers to have the same weight and higher than other centers (so that we have multiple global optima).Check if TTGO can get all of them\n",
    "   - Select arbitrary number of axes as task-parmaters and choose the first few coordinates of a center as its value. Do you get back this center as optima?\n",
    "\n",
    "Copyright (c) 2008 Idiap Research Institute, http://www.idiap.ch/\n",
    "    Written by Suhan Shetty <suhan.shetty@idiap.ch>,\n"
   ]
  },
  {
   "cell_type": "code",
   "execution_count": 1,
   "metadata": {},
   "outputs": [
    {
     "name": "stderr",
     "output_type": "stream",
     "text": [
      "/idiap/temp/sshetty/miniconda/envs/pyml/lib/python3.9/site-packages/tqdm/auto.py:22: TqdmWarning: IProgress not found. Please update jupyter and ipywidgets. See https://ipywidgets.readthedocs.io/en/stable/user_install.html\n",
      "  from .autonotebook import tqdm as notebook_tqdm\n",
      "Matplotlib created a temporary config/cache directory at /tmp/matplotlib-5btiok0l because the default path (/idiap/home/sshetty/.cache/matplotlib) is not a writable directory; it is highly recommended to set the MPLCONFIGDIR environment variable to a writable directory, in particular to speed up the import of Matplotlib and to better support multiprocessing.\n"
     ]
    }
   ],
   "source": [
    "import torch\n",
    "torch.set_default_dtype(torch.float32)\n",
    "\n",
    "import numpy as np\n",
    "import sys\n",
    "sys.path.append('./fcn_opt')\n",
    "sys.path.append('../')\n",
    "\n",
    "from ttgo import TTGO\n",
    "import tt_utils\n",
    "from test_fcns import gmm\n",
    "from fcn_plotting_utils import plot_surf, plot_contour\n",
    "\n",
    "%load_ext autoreload\n",
    "np.set_printoptions(precision=2)\n",
    "torch.set_printoptions(precision=2)\n",
    "\n",
    "%autoreload 2"
   ]
  },
  {
   "cell_type": "code",
   "execution_count": 2,
   "metadata": {},
   "outputs": [
    {
     "data": {
      "text/plain": [
       "device(type='cuda')"
      ]
     },
     "execution_count": 2,
     "metadata": {},
     "output_type": "execute_result"
    }
   ],
   "source": [
    "device = torch.device(\"cuda\" if torch.cuda.is_available() else \"cpu\")\n",
    "device"
   ]
  },
  {
   "cell_type": "markdown",
   "metadata": {},
   "source": [
    "#### Define the cost and the corresponding pdf"
   ]
  },
  {
   "cell_type": "code",
   "execution_count": 3,
   "metadata": {},
   "outputs": [
    {
     "name": "stdout",
     "output_type": "stream",
     "text": [
      "centers:  tensor([[ 0.22,  0.40, -1.10, -0.22,  0.99],\n",
      "        [ 0.22,  0.40, -1.10, -0.71, -1.09],\n",
      "        [ 0.22,  0.40, -1.10, -1.39,  0.02]], device='cuda:0')\n",
      "\n",
      "PDF at centers:  tensor([0.16, 0.37, 0.47], device='cuda:0')\n",
      "Note: the center with the maximum pdf is the global optima\n"
     ]
    }
   ],
   "source": [
    "# Mixture of Gaussians (un-normalized)\n",
    "L = 2\n",
    "n = 5 # Dimension of the domain\n",
    "nmix = 3\n",
    "mx_coef = np.random.uniform(0,1,(nmix,))\n",
    "# mx_coef[0]=mx_coef[1]\n",
    "mx_coef = (torch.from_numpy(mx_coef/np.sum(mx_coef))).to(device)\n",
    "mu = torch.from_numpy(np.random.uniform(-0.75*L,0.75*L,(nmix,n))).to(device)\n",
    "\n",
    "mu[:,:-2] = mu[0,:-2] # for visualization, make the first (n-2) coordinates same (so that we can have it as task param)\n",
    "\n",
    "pdf, cost = gmm(n=n,nmix=nmix,L=1,mx_coef=mx_coef,mu=mu,s=0.2, device=device)\n",
    "print(\"centers: \",mu)\n",
    "print(\"\\nPDF at centers: \", pdf(mu))\n",
    "print(\"Note: the center with the maximum pdf is the global optima\")\n",
    "\n"
   ]
  },
  {
   "cell_type": "markdown",
   "metadata": {},
   "source": [
    "#### Define the domain and the discretization"
   ]
  },
  {
   "cell_type": "code",
   "execution_count": 4,
   "metadata": {},
   "outputs": [],
   "source": [
    "# Define the domain of the function\n",
    "domain = [torch.linspace(-L,L,100).to(device)]*(n)"
   ]
  },
  {
   "cell_type": "code",
   "execution_count": 5,
   "metadata": {},
   "outputs": [
    {
     "name": "stdout",
     "output_type": "stream",
     "text": [
      "cross device is cuda\n",
      "Cross-approximation over a 5D domain containing 1e+10 grid points:\n",
      "iter: 0  | tt-error: 1.000e+00, test-error:6.643e-01 | time:   1.0890 | largest rank:   1\n",
      "iter: 1  | tt-error: 8.383e-01, test-error:1.984e-15 | time:   1.1320 | largest rank:  11\n",
      "iter: 2  | tt-error: 4.507e-08, test-error:3.104e-15 | time:   1.1901 | largest rank:  21 <- converged: eps < 0.001\n",
      "Did 347700 function evaluations, which took 0.01682s (2.067e+07 evals/s)\n",
      "\n"
     ]
    }
   ],
   "source": [
    "# Find the tt-model correspondin to the pdf\n",
    "tt_model = tt_utils.cross_approximate(fcn=pdf,  domain=domain, \n",
    "                        rmax=200, nswp=10, eps=1e-3, verbose=True, \n",
    "                        kickrank=10, device=device).to(device)"
   ]
  },
  {
   "cell_type": "markdown",
   "metadata": {},
   "source": [
    "### Fit the TT-Model"
   ]
  },
  {
   "cell_type": "code",
   "execution_count": 6,
   "metadata": {},
   "outputs": [],
   "source": [
    "# Refine the discretization and interpolate the model\n",
    "scale_factor = 20\n",
    "site_list = torch.arange(len(domain))#len(domain_task)+torch.arange(len(domain_decision))\n",
    "domain_new = tt_utils.refine_domain(domain=domain, \n",
    "                                    site_list=site_list,\n",
    "                                    scale_factor=scale_factor, device=device)\n",
    "tt_model_new = tt_utils.refine_model(tt_model=tt_model, \n",
    "                                    site_list=site_list,\n",
    "                                    scale_factor=scale_factor, device=device)"
   ]
  },
  {
   "cell_type": "code",
   "execution_count": 7,
   "metadata": {},
   "outputs": [],
   "source": [
    "ttgo = TTGO(tt_model=tt_model_new,domain=domain_new, cost=cost, device=device)"
   ]
  },
  {
   "cell_type": "code",
   "execution_count": 8,
   "metadata": {},
   "outputs": [
    {
     "name": "stdout",
     "output_type": "stream",
     "text": [
      "TT-Rank:  tensor([1, 1, 1, 1, 3, 1])\n"
     ]
    }
   ],
   "source": [
    "print(\"TT-Rank: \", ttgo.tt_model.ranks_tt)"
   ]
  },
  {
   "cell_type": "markdown",
   "metadata": {},
   "source": [
    "### Sample from TT-Model"
   ]
  },
  {
   "cell_type": "code",
   "execution_count": 9,
   "metadata": {},
   "outputs": [],
   "source": [
    "n_samples_tt = 100\n",
    "alpha = 0.9\n",
    "samples = ttgo.sample_tt(n_samples=n_samples_tt, alpha=alpha) \n"
   ]
  },
  {
   "cell_type": "markdown",
   "metadata": {},
   "source": [
    "### Choose the best sample as an estimate for optima (initial guess)"
   ]
  },
  {
   "cell_type": "code",
   "execution_count": 10,
   "metadata": {},
   "outputs": [],
   "source": [
    "best_estimate = ttgo.choose_best_sample(samples)[0]\n",
    "top_k_estimate = ttgo.choose_top_k_sample(samples,k=10)[0] # for multiple solutions"
   ]
  },
  {
   "cell_type": "code",
   "execution_count": null,
   "metadata": {},
   "outputs": [],
   "source": []
  },
  {
   "cell_type": "markdown",
   "metadata": {},
   "source": [
    "##### Fine-tune the estimate using gradient-based optimization"
   ]
  },
  {
   "cell_type": "code",
   "execution_count": 11,
   "metadata": {},
   "outputs": [],
   "source": [
    "ttgo_optimized,_ = ttgo.optimize(best_estimate)\n",
    "\n",
    "ttgo_optimized_k = 1*top_k_estimate\n",
    "for i, x in enumerate(ttgo_optimized_k):\n",
    "    ttgo_optimized_k[i],_ = ttgo.optimize(x)\n"
   ]
  },
  {
   "cell_type": "code",
   "execution_count": 12,
   "metadata": {},
   "outputs": [
    {
     "name": "stdout",
     "output_type": "stream",
     "text": [
      "PDF at the estimated point(initial guess):  tensor([0.45], device='cuda:0')\n",
      "PDF at the TTGO Optima:  tensor([0.47], device='cuda:0')\n"
     ]
    }
   ],
   "source": [
    "print(\"PDF at the estimated point(initial guess): \", pdf(best_estimate))\n",
    "print(\"PDF at the TTGO Optima: \", pdf(ttgo_optimized))"
   ]
  },
  {
   "cell_type": "code",
   "execution_count": 13,
   "metadata": {},
   "outputs": [
    {
     "name": "stdout",
     "output_type": "stream",
     "text": [
      "Estimated Optima:  tensor([[ 0.25,  0.32, -1.10, -1.38,  0.03]], device='cuda:0')\n",
      "Optima from TTGO:  tensor([[ 0.22,  0.41, -1.10, -1.39,  0.02]], device='cuda:0')\n"
     ]
    }
   ],
   "source": [
    "print(\"Estimated Optima: \", best_estimate)\n",
    "print(\"Optima from TTGO: \", ttgo_optimized)"
   ]
  },
  {
   "cell_type": "markdown",
   "metadata": {},
   "source": [
    "### Compare with samples from uniform distribution (for initialization)"
   ]
  },
  {
   "cell_type": "code",
   "execution_count": 14,
   "metadata": {},
   "outputs": [
    {
     "name": "stdout",
     "output_type": "stream",
     "text": [
      "PDF at the estimated point(initial guess):  tensor([0.10], device='cuda:0')\n",
      "PDF at the Optima:  tensor([0.47], device='cuda:0')\n"
     ]
    }
   ],
   "source": [
    "n_samples_rand = 10*n_samples_tt # Try increasing the number of samples! \n",
    "samples_rand = ttgo.sample_random(n_samples=n_samples_rand)\n",
    "\n",
    "rand_best_estimate = ttgo.choose_best_sample(samples_rand)[0]\n",
    "rand_optimized,_ = ttgo.optimize(rand_best_estimate, tol=1e-9)\n",
    "\n",
    "print(\"PDF at the estimated point(initial guess): \", pdf(rand_best_estimate))\n",
    "print(\"PDF at the Optima: \", pdf(rand_optimized))"
   ]
  },
  {
   "cell_type": "code",
   "execution_count": 15,
   "metadata": {},
   "outputs": [
    {
     "data": {
      "text/plain": [
       "tensor([[ 0.70,  0.45, -1.04, -1.64, -0.05]], device='cuda:0')"
      ]
     },
     "execution_count": 15,
     "metadata": {},
     "output_type": "execute_result"
    }
   ],
   "source": [
    "rand_best_estimate"
   ]
  },
  {
   "cell_type": "markdown",
   "metadata": {},
   "source": [
    "### Let us try to specify some of the variables as the task parmaters"
   ]
  },
  {
   "cell_type": "code",
   "execution_count": 16,
   "metadata": {},
   "outputs": [],
   "source": [
    "ttgo_2 = ttgo.clone()"
   ]
  },
  {
   "cell_type": "markdown",
   "metadata": {},
   "source": [
    "Set the task parameters as the first few coordinated of one of the centers of the mixtures"
   ]
  },
  {
   "cell_type": "code",
   "execution_count": 17,
   "metadata": {},
   "outputs": [
    {
     "name": "stdout",
     "output_type": "stream",
     "text": [
      "Task parameters:  tensor([[ 0.22,  0.40, -1.10]], device='cuda:0')\n"
     ]
    }
   ],
   "source": [
    "k = torch.randint(low=0,high=nmix,size=(1,))[0] # choose a mixture component randomly\n",
    "x_task = mu[k,:-2].view(1,-1) \n",
    "print(\"Task parameters: \",x_task)"
   ]
  },
  {
   "cell_type": "code",
   "execution_count": 18,
   "metadata": {},
   "outputs": [
    {
     "name": "stdout",
     "output_type": "stream",
     "text": [
      "PDF at the estimated point(initial guess):  tensor([0.47], device='cuda:0')\n",
      "PDF at the TTGO Optima:  tensor([0.47], device='cuda:0')\n",
      "\n",
      "Estimated Optima:  tensor([[ 0.22,  0.40, -1.10, -1.40, -0.00]], device='cuda:0')\n",
      "Optima from TTGO:  tensor([[ 0.22,  0.40, -1.10, -1.39,  0.02]], device='cuda:0')\n"
     ]
    }
   ],
   "source": [
    "# Collect Samples\n",
    "n_samples_tt = 100\n",
    "samples = ttgo_2.sample_tt(n_samples=n_samples_tt,x_task=x_task, alpha=0.9) \n",
    "\n",
    "# Filter the smaples\n",
    "best_estimate = ttgo_2.choose_best_sample(samples)[0]\n",
    "top_k_estimate = ttgo_2.choose_top_k_sample(samples,k=10)[0] # for multiple solutions\n",
    "\n",
    "# Fine-tune\n",
    "\n",
    "ttgo_optimized, _ = ttgo_2.optimize(best_estimate)\n",
    "\n",
    "ttgo_optimized_k = 1*top_k_estimate\n",
    "for i, x in enumerate(ttgo_optimized_k):\n",
    "    ttgo_optimized_k[i], _ = ttgo.optimize(x)\n",
    "\n",
    "\n",
    "print(\"PDF at the estimated point(initial guess): \", pdf(best_estimate))\n",
    "print(\"PDF at the TTGO Optima: \", pdf(ttgo_optimized))\n",
    "\n",
    "print(\"\\nEstimated Optima: \", best_estimate)\n",
    "print(\"Optima from TTGO: \", ttgo_optimized)"
   ]
  },
  {
   "cell_type": "code",
   "execution_count": 19,
   "metadata": {},
   "outputs": [],
   "source": [
    "# Redefinig the function given the coefficients\n",
    "def cost_fcn(X):\n",
    "    X = torch.from_numpy(X)\n",
    "    X_ext = torch.empty(X.shape[0],len(domain))\n",
    "    X_ext[:,:-2] = x_task\n",
    "    X_ext[:,-2:] = X\n",
    "    cost_ = pdf(X_ext.to(device)).cpu().numpy()\n",
    "    return cost_\n"
   ]
  },
  {
   "cell_type": "code",
   "execution_count": 20,
   "metadata": {},
   "outputs": [
    {
     "data": {
      "text/plain": [
       "[<matplotlib.lines.Line2D at 0x7fbd24d74370>]"
      ]
     },
     "execution_count": 20,
     "metadata": {},
     "output_type": "execute_result"
    },
    {
     "data": {
      "image/png": "[encoded data removed]",
      "text/plain": [
       "<Figure size 432x288 with 2 Axes>"
      ]
     },
     "metadata": {},
     "output_type": "display_data"
    }
   ],
   "source": [
    "data = samples[0,:,-2:].cpu()\n",
    "x = np.linspace(-L,L,500)\n",
    "y = np.linspace(-L,L,500)\n",
    "\n",
    "plt=plot_contour(x,y,cost_fcn,data=data, contour_scale=20, figsize=5, markersize=1,log_norm=False)\n",
    "plt.plot(ttgo_optimized[:,-2].cpu(),ttgo_optimized[:,-1].cpu(),'.r',markersize=10)\n",
    "# plt.xlabel(\"$y_{n_1-1}$\")\n",
    "# plt.ylabel(\"$y_{n_1}$\")\n",
    "\n",
    "# plt.savefig('gmm_n20_K5_s15_alpha10_ns1000_k10.png',pad_inches=0.01, dpi=300)\n"
   ]
  },
  {
   "cell_type": "code",
   "execution_count": null,
   "metadata": {},
   "outputs": [],
   "source": []
  },
  {
   "cell_type": "code",
   "execution_count": null,
   "metadata": {},
   "outputs": [],
   "source": []
  }
 ],
 "metadata": {
  "kernelspec": {
   "display_name": "Python 3 (ipykernel)",
   "language": "python",
   "name": "python3"
  },
  "language_info": {
   "codemirror_mode": {
    "name": "ipython",
    "version": 3
   },
   "file_extension": ".py",
   "mimetype": "text/x-python",
   "name": "python",
   "nbconvert_exporter": "python",
   "pygments_lexer": "ipython3",
   "version": "3.9.7"
  },
  "vscode": {
   "interpreter": {
    "hash": "cf96f6c213ba3f9333b362e3bb271376c1f8feeec3b85b92580d68346ee16de3"
   }
  }
 },
 "nbformat": 4,
 "nbformat_minor": 4
}
