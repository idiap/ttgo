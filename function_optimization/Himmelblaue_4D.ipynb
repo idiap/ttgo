{
 "cells": [
  {
   "cell_type": "markdown",
   "metadata": {},
   "source": [
    "### Optimization of 2-D Himmelblaue function for varied coefficients\n",
    "##### Reference: https://en.wikipedia.org/wiki/Himmelblau%27s_function\n",
    "$$ cost(a,b,x,y) =  (x^2+y-a)^2 + (x+y^2-b)^2 ,$$\n",
    "$$pdf(a,b,x,y) = e^{-cost(a,b,x,y)}$$ \n",
    "\n",
    "Here, $\\mathbf{x}_{task}=(a,b)$ and $\\mathbf{x}_{decision} = (x,y)$\n",
    "\n",
    "Depending on the choice of task-parameters $(a,b)$ there could be several global optima.\n",
    "\n",
    "We show that TTGO is able to find the multiple global optima consistently with a hand few of samples from the constructed tt-model of the above pdf (constructed offline) for various selection of $\\mathbf{x}_{task}=(a,b)$ in the online phase.  We use scipy's SLSQP to fine tune the initialization. \n",
    "\n",
    "Condition on different values of $\\mathbf{x}_{task}=(a,b)$ to test the model. Watch out for the multimodality in the solutions of TTGO!\n",
    "\n",
    "Copyright (c) 2008 Idiap Research Institute, http://www.idiap.ch/\n",
    "    Written by Suhan Shetty <suhan.shetty@idiap.ch>,\n"
   ]
  },
  {
   "cell_type": "code",
   "execution_count": null,
   "metadata": {},
   "outputs": [],
   "source": [
    "import torch\n",
    "import numpy as np\n",
    "import sys\n",
    "sys.path.append('./fcn_opt')\n",
    "sys.path.append('../')\n",
    "\n",
    "from ttgo import TTGO\n",
    "import tt_utils\n",
    "from test_fcns import Himmelblaue_4D \n",
    "from fcn_plotting_utils import plot_surf, plot_contour\n",
    "\n",
    "%load_ext autoreload\n",
    "np.set_printoptions(precision=3)\n",
    "%autoreload 2"
   ]
  },
  {
   "cell_type": "code",
   "execution_count": null,
   "metadata": {},
   "outputs": [],
   "source": [
    "device = torch.device(\"cuda\" if torch.cuda.is_available() else \"cpu\")\n",
    "device"
   ]
  },
  {
   "cell_type": "markdown",
   "metadata": {},
   "source": [
    "### Define the function"
   ]
  },
  {
   "cell_type": "code",
   "execution_count": null,
   "metadata": {},
   "outputs": [],
   "source": [
    "pdf, cost =  Himmelblaue_4D(alpha=0.25)"
   ]
  },
  {
   "cell_type": "markdown",
   "metadata": {},
   "source": [
    "### Define the domain and the discretization"
   ]
  },
  {
   "cell_type": "code",
   "execution_count": null,
   "metadata": {},
   "outputs": [],
   "source": [
    "# Define the domain of the function\n",
    "L = 5 # [-L,L]^2 is the domain of the function\n",
    "# domain of task params: domain of coefficients a and b in Himmelblaue \n",
    "domain_task = [torch.linspace(1,15,100).to(device)]+[torch.linspace(1,15,500).to(device)] \n",
    "# domain of decision variables\n",
    "domain_decision = [torch.linspace(-L,L,100).to(device)]*2 # domain of x-y coordinates \n",
    "domain = domain_task+domain_decision\n"
   ]
  },
  {
   "cell_type": "code",
   "execution_count": null,
   "metadata": {},
   "outputs": [],
   "source": [
    "# Find the tt-model corresponding to the pdf\n",
    "tt_model = tt_utils.cross_approximate(fcn=pdf,  domain=domain, \n",
    "                        rmax=200, nswp=20, eps=1e-3, verbose=True, \n",
    "                        kickrank=5, device=device)"
   ]
  },
  {
   "cell_type": "markdown",
   "metadata": {},
   "source": [
    "### Fit the TT-Model"
   ]
  },
  {
   "cell_type": "code",
   "execution_count": null,
   "metadata": {},
   "outputs": [],
   "source": [
    "# Refine the discretization and interpolate the model\n",
    "scale_factor = 20\n",
    "site_list = torch.arange(len(domain))#len(domain_task)+torch.arange(len(domain_decision))\n",
    "domain_new = tt_utils.refine_domain(domain=domain, \n",
    "                                    site_list=site_list,\n",
    "                                    scale_factor=scale_factor, device=device)\n",
    "tt_model_new = tt_utils.refine_model(tt_model=tt_model, \n",
    "                                    site_list=site_list,\n",
    "                                    scale_factor=scale_factor, device=device)"
   ]
  },
  {
   "cell_type": "code",
   "execution_count": null,
   "metadata": {},
   "outputs": [],
   "source": [
    "ttgo = TTGO(tt_model=tt_model_new,domain=domain_new,cost=cost, device=device)"
   ]
  },
  {
   "cell_type": "code",
   "execution_count": null,
   "metadata": {},
   "outputs": [],
   "source": [
    "# torch.save([ttgo.tt_model,domain],'himmel4D.pickle')"
   ]
  },
  {
   "cell_type": "markdown",
   "metadata": {},
   "source": [
    "### Sample from TT-Model"
   ]
  },
  {
   "cell_type": "code",
   "execution_count": null,
   "metadata": {},
   "outputs": [],
   "source": [
    "a=14; b=2.\n",
    "x_task = torch.tensor([a,b]).view(1,-1).to(device) #given task-parameters\n",
    "n_samples_tt = 100\n",
    "samples = ttgo.sample_tt(n_samples=n_samples_tt, x_task=x_task.view(1,-1), alpha=0.9) "
   ]
  },
  {
   "cell_type": "markdown",
   "metadata": {},
   "source": [
    "### Choose the best sample as an estimate for optima"
   ]
  },
  {
   "cell_type": "code",
   "execution_count": null,
   "metadata": {},
   "outputs": [],
   "source": [
    "best_estimate = ttgo.choose_best_sample(samples)[0]\n",
    "top_k_estimate = ttgo.choose_top_k_sample(samples,k=50)[0] # for multiple solutions"
   ]
  },
  {
   "cell_type": "markdown",
   "metadata": {},
   "source": [
    "##### Fine-tune the estimate using gradient-based optimization"
   ]
  },
  {
   "cell_type": "code",
   "execution_count": null,
   "metadata": {},
   "outputs": [],
   "source": [
    "ttgo_optimized, _ = ttgo.optimize(best_estimate)\n",
    "\n",
    "ttgo_optimized_k = 1*top_k_estimate\n",
    "for i, x in enumerate(ttgo_optimized_k):\n",
    "    ttgo_optimized_k[i], _ = ttgo.optimize(x)\n"
   ]
  },
  {
   "cell_type": "code",
   "execution_count": null,
   "metadata": {},
   "outputs": [],
   "source": [
    "print(\"PDF at the estimated point: \", pdf(best_estimate))\n",
    "print(\"PDF at the optima: \", pdf(ttgo_optimized))"
   ]
  },
  {
   "cell_type": "code",
   "execution_count": null,
   "metadata": {},
   "outputs": [],
   "source": [
    "print(\"Estimated Optima: \", best_estimate)\n",
    "print(\"Optima: \", ttgo_optimized)"
   ]
  },
  {
   "cell_type": "markdown",
   "metadata": {},
   "source": [
    "### Visualization"
   ]
  },
  {
   "cell_type": "code",
   "execution_count": null,
   "metadata": {},
   "outputs": [],
   "source": [
    "# Redefinig the function given the coefficients\n",
    "def cost_fcn(X):\n",
    "    X = torch.from_numpy(X)\n",
    "    X_ext = torch.empty(X.shape[0],4)\n",
    "    X_ext[:,:2] = x_task\n",
    "    X_ext[:,2:] = X\n",
    "    return cost(X_ext.to(device)).cpu().numpy()"
   ]
  },
  {
   "cell_type": "code",
   "execution_count": null,
   "metadata": {},
   "outputs": [],
   "source": [
    "x = np.linspace(-L,L,200)\n",
    "y = np.linspace(-L,L,200)\n",
    "data = samples[0,:,2:].cpu()\n",
    "\n",
    "plt=plot_contour(x,y,cost_fcn,data=data, contour_scale=1000, figsize=10, markersize=1)\n",
    "# plt.plot(ttgo_optimized[:,2],ttgo_optimized[:,3],'*r',markersize=10)\n",
    "plt.plot(ttgo_optimized_k[:,2].cpu(),ttgo_optimized_k[:,3].cpu(),'.r',markersize=10)\n",
    "# plt.legend([\"samples\",\"optima\"])\n",
    "# plt.title(r\"Himmelblau: $cost=(x^2+y-{})^2+(x+y^2-{})^2$\".format(a,b))\n",
    "# plt.savefig('Himmelblau4D_a13_b5_alpha0_ns1000_k10.png',pad_inches=0.01, dpi=300)\n",
    "# plt.plot(gott_top_k_estimate[:,2],gott_top_k_estimate[:,3],'*r',markersize=8)"
   ]
  },
  {
   "cell_type": "code",
   "execution_count": null,
   "metadata": {},
   "outputs": [],
   "source": []
  }
 ],
 "metadata": {
  "kernelspec": {
   "display_name": "Python 3 (ipykernel)",
   "language": "python",
   "name": "python3"
  },
  "language_info": {
   "codemirror_mode": {
    "name": "ipython",
    "version": 3
   },
   "file_extension": ".py",
   "mimetype": "text/x-python",
   "name": "python",
   "nbconvert_exporter": "python",
   "pygments_lexer": "ipython3",
   "version": "3.9.7"
  },
  "vscode": {
   "interpreter": {
    "hash": "cf96f6c213ba3f9333b362e3bb271376c1f8feeec3b85b92580d68346ee16de3"
   }
  }
 },
 "nbformat": 4,
 "nbformat_minor": 4
}
