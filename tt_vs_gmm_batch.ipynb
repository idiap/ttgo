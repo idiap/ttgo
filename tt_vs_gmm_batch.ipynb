{
 "cells": [
  {
   "cell_type": "code",
   "execution_count": 1,
   "id": "1ddacdf5-a59b-48b1-8431-57c9032fb439",
   "metadata": {},
   "outputs": [],
   "source": [
    "import torch\n",
    "import time\n",
    "from tt_utils import *\n",
    "from fcn_approx_utils import GMM, BGMM"
   ]
  },
  {
   "cell_type": "code",
   "execution_count": 2,
   "id": "ff5e3456-9ee6-4705-a749-de3abd085edc",
   "metadata": {},
   "outputs": [],
   "source": [
    "device = \"cpu\" #torch.device(\"cuda\" if torch.cuda.is_available() else \"cpu\")"
   ]
  },
  {
   "cell_type": "code",
   "execution_count": 3,
   "id": "9ebc81ef",
   "metadata": {},
   "outputs": [
    {
     "data": {
      "text/plain": [
       "0.7943282347242815"
      ]
     },
     "execution_count": 3,
     "metadata": {},
     "output_type": "execute_result"
    }
   ],
   "source": [
    "0.1**(1./10.0)"
   ]
  },
  {
   "cell_type": "code",
   "execution_count": 4,
   "id": "69ccc462-4ef5-4321-9824-105fbc363d45",
   "metadata": {},
   "outputs": [
    {
     "name": "stdout",
     "output_type": "stream",
     "text": [
      "###########\n",
      "0 0 0 0\n",
      "2 5 0.1 0\n",
      "###########\n"
     ]
    },
    {
     "name": "stderr",
     "output_type": "stream",
     "text": [
      "/idiap/temp/sshetty/miniconda/envs/pyml/lib/python3.9/site-packages/sklearn/mixture/_base.py:268: ConvergenceWarning: Initialization 1 did not converge. Try different init parameters, or increase max_iter, tol or check for degenerate data.\n",
      "  warnings.warn(\n"
     ]
    },
    {
     "name": "stdout",
     "output_type": "stream",
     "text": [
      "mse_bgmm:  tensor(0.0245)\n",
      "mse_tt:  tensor(0.0002)\n",
      "###########\n",
      "0 0 0 1\n",
      "2 5 0.1 1\n",
      "###########\n"
     ]
    },
    {
     "name": "stderr",
     "output_type": "stream",
     "text": [
      "/idiap/temp/sshetty/miniconda/envs/pyml/lib/python3.9/site-packages/sklearn/mixture/_base.py:268: ConvergenceWarning: Initialization 1 did not converge. Try different init parameters, or increase max_iter, tol or check for degenerate data.\n",
      "  warnings.warn(\n"
     ]
    },
    {
     "name": "stdout",
     "output_type": "stream",
     "text": [
      "mse_bgmm:  tensor(0.6577)\n",
      "mse_tt:  tensor(0.0002)\n",
      "###########\n",
      "0 0 0 2\n",
      "2 5 0.1 2\n",
      "###########\n"
     ]
    },
    {
     "name": "stderr",
     "output_type": "stream",
     "text": [
      "/idiap/temp/sshetty/miniconda/envs/pyml/lib/python3.9/site-packages/sklearn/mixture/_base.py:268: ConvergenceWarning: Initialization 1 did not converge. Try different init parameters, or increase max_iter, tol or check for degenerate data.\n",
      "  warnings.warn(\n"
     ]
    },
    {
     "name": "stdout",
     "output_type": "stream",
     "text": [
      "mse_bgmm:  tensor(2410.0391)\n",
      "mse_tt:  tensor(0.0002)\n",
      "###########\n",
      "0 0 1 0\n",
      "2 5 0.25 0\n",
      "###########\n"
     ]
    },
    {
     "name": "stderr",
     "output_type": "stream",
     "text": [
      "/idiap/temp/sshetty/miniconda/envs/pyml/lib/python3.9/site-packages/sklearn/mixture/_base.py:268: ConvergenceWarning: Initialization 1 did not converge. Try different init parameters, or increase max_iter, tol or check for degenerate data.\n",
      "  warnings.warn(\n"
     ]
    },
    {
     "name": "stdout",
     "output_type": "stream",
     "text": [
      "mse_bgmm:  tensor(0.0111)\n",
      "mse_tt:  tensor(7.6700e-07)\n",
      "###########\n",
      "0 0 1 1\n",
      "2 5 0.25 1\n",
      "###########\n"
     ]
    },
    {
     "name": "stderr",
     "output_type": "stream",
     "text": [
      "/idiap/temp/sshetty/miniconda/envs/pyml/lib/python3.9/site-packages/sklearn/mixture/_base.py:268: ConvergenceWarning: Initialization 1 did not converge. Try different init parameters, or increase max_iter, tol or check for degenerate data.\n",
      "  warnings.warn(\n"
     ]
    },
    {
     "name": "stdout",
     "output_type": "stream",
     "text": [
      "mse_bgmm:  tensor(0.0009)\n",
      "mse_tt:  tensor(2.1644e-07)\n",
      "###########\n",
      "0 0 1 2\n",
      "2 5 0.25 2\n",
      "###########\n"
     ]
    },
    {
     "name": "stderr",
     "output_type": "stream",
     "text": [
      "/idiap/temp/sshetty/miniconda/envs/pyml/lib/python3.9/site-packages/sklearn/mixture/_base.py:268: ConvergenceWarning: Initialization 1 did not converge. Try different init parameters, or increase max_iter, tol or check for degenerate data.\n",
      "  warnings.warn(\n"
     ]
    },
    {
     "name": "stdout",
     "output_type": "stream",
     "text": [
      "mse_bgmm:  tensor(0.0024)\n",
      "mse_tt:  tensor(4.1933e-07)\n",
      "###########\n",
      "0 0 2 0\n",
      "2 5 0.5 0\n",
      "###########\n"
     ]
    },
    {
     "name": "stderr",
     "output_type": "stream",
     "text": [
      "/idiap/temp/sshetty/miniconda/envs/pyml/lib/python3.9/site-packages/sklearn/mixture/_base.py:268: ConvergenceWarning: Initialization 1 did not converge. Try different init parameters, or increase max_iter, tol or check for degenerate data.\n",
      "  warnings.warn(\n"
     ]
    },
    {
     "name": "stdout",
     "output_type": "stream",
     "text": [
      "mse_bgmm:  tensor(0.0004)\n",
      "mse_tt:  tensor(6.6299e-09)\n",
      "###########\n",
      "0 0 2 1\n",
      "2 5 0.5 1\n",
      "###########\n"
     ]
    },
    {
     "name": "stderr",
     "output_type": "stream",
     "text": [
      "/idiap/temp/sshetty/miniconda/envs/pyml/lib/python3.9/site-packages/sklearn/mixture/_base.py:268: ConvergenceWarning: Initialization 1 did not converge. Try different init parameters, or increase max_iter, tol or check for degenerate data.\n",
      "  warnings.warn(\n"
     ]
    },
    {
     "name": "stdout",
     "output_type": "stream",
     "text": [
      "mse_bgmm:  tensor(0.0015)\n",
      "mse_tt:  tensor(8.5902e-09)\n",
      "###########\n",
      "0 0 2 2\n",
      "2 5 0.5 2\n",
      "###########\n"
     ]
    },
    {
     "name": "stderr",
     "output_type": "stream",
     "text": [
      "/idiap/temp/sshetty/miniconda/envs/pyml/lib/python3.9/site-packages/sklearn/mixture/_base.py:268: ConvergenceWarning: Initialization 1 did not converge. Try different init parameters, or increase max_iter, tol or check for degenerate data.\n",
      "  warnings.warn(\n"
     ]
    },
    {
     "name": "stdout",
     "output_type": "stream",
     "text": [
      "mse_bgmm:  tensor(0.0003)\n",
      "mse_tt:  tensor(1.6517e-09)\n",
      "###########\n",
      "0 0 3 0\n",
      "2 5 0.75 0\n",
      "###########\n"
     ]
    },
    {
     "name": "stderr",
     "output_type": "stream",
     "text": [
      "/idiap/temp/sshetty/miniconda/envs/pyml/lib/python3.9/site-packages/sklearn/mixture/_base.py:268: ConvergenceWarning: Initialization 1 did not converge. Try different init parameters, or increase max_iter, tol or check for degenerate data.\n",
      "  warnings.warn(\n"
     ]
    },
    {
     "name": "stdout",
     "output_type": "stream",
     "text": [
      "mse_bgmm:  tensor(0.0004)\n",
      "mse_tt:  tensor(3.1403e-10)\n",
      "###########\n",
      "0 0 3 1\n",
      "2 5 0.75 1\n",
      "###########\n"
     ]
    },
    {
     "name": "stderr",
     "output_type": "stream",
     "text": [
      "/idiap/temp/sshetty/miniconda/envs/pyml/lib/python3.9/site-packages/sklearn/mixture/_base.py:268: ConvergenceWarning: Initialization 1 did not converge. Try different init parameters, or increase max_iter, tol or check for degenerate data.\n",
      "  warnings.warn(\n"
     ]
    },
    {
     "name": "stdout",
     "output_type": "stream",
     "text": [
      "mse_bgmm:  tensor(0.0001)\n",
      "mse_tt:  tensor(2.4430e-10)\n",
      "###########\n",
      "0 0 3 2\n",
      "2 5 0.75 2\n",
      "###########\n"
     ]
    },
    {
     "name": "stderr",
     "output_type": "stream",
     "text": [
      "/idiap/temp/sshetty/miniconda/envs/pyml/lib/python3.9/site-packages/sklearn/mixture/_base.py:268: ConvergenceWarning: Initialization 1 did not converge. Try different init parameters, or increase max_iter, tol or check for degenerate data.\n",
      "  warnings.warn(\n"
     ]
    },
    {
     "name": "stdout",
     "output_type": "stream",
     "text": [
      "mse_bgmm:  tensor(0.0002)\n",
      "mse_tt:  tensor(5.0358e-10)\n",
      "###########\n",
      "0 1 0 0\n",
      "2 10 0.1 0\n",
      "###########\n"
     ]
    },
    {
     "name": "stderr",
     "output_type": "stream",
     "text": [
      "/idiap/temp/sshetty/miniconda/envs/pyml/lib/python3.9/site-packages/sklearn/mixture/_base.py:268: ConvergenceWarning: Initialization 1 did not converge. Try different init parameters, or increase max_iter, tol or check for degenerate data.\n",
      "  warnings.warn(\n"
     ]
    },
    {
     "name": "stdout",
     "output_type": "stream",
     "text": [
      "mse_bgmm:  tensor(0.0410)\n",
      "mse_tt:  tensor(0.0001)\n",
      "###########\n",
      "0 1 0 1\n",
      "2 10 0.1 1\n",
      "###########\n"
     ]
    },
    {
     "name": "stderr",
     "output_type": "stream",
     "text": [
      "/idiap/temp/sshetty/miniconda/envs/pyml/lib/python3.9/site-packages/sklearn/mixture/_base.py:268: ConvergenceWarning: Initialization 1 did not converge. Try different init parameters, or increase max_iter, tol or check for degenerate data.\n",
      "  warnings.warn(\n"
     ]
    },
    {
     "name": "stdout",
     "output_type": "stream",
     "text": [
      "mse_bgmm:  tensor(0.1220)\n",
      "mse_tt:  tensor(0.0002)\n",
      "###########\n",
      "0 1 0 2\n",
      "2 10 0.1 2\n",
      "###########\n"
     ]
    },
    {
     "name": "stderr",
     "output_type": "stream",
     "text": [
      "/idiap/temp/sshetty/miniconda/envs/pyml/lib/python3.9/site-packages/sklearn/mixture/_base.py:268: ConvergenceWarning: Initialization 1 did not converge. Try different init parameters, or increase max_iter, tol or check for degenerate data.\n",
      "  warnings.warn(\n"
     ]
    },
    {
     "name": "stdout",
     "output_type": "stream",
     "text": [
      "mse_bgmm:  tensor(0.0147)\n",
      "mse_tt:  tensor(0.0001)\n",
      "###########\n",
      "0 1 1 0\n",
      "2 10 0.25 0\n",
      "###########\n"
     ]
    },
    {
     "name": "stderr",
     "output_type": "stream",
     "text": [
      "/idiap/temp/sshetty/miniconda/envs/pyml/lib/python3.9/site-packages/sklearn/mixture/_base.py:268: ConvergenceWarning: Initialization 1 did not converge. Try different init parameters, or increase max_iter, tol or check for degenerate data.\n",
      "  warnings.warn(\n"
     ]
    },
    {
     "name": "stdout",
     "output_type": "stream",
     "text": [
      "mse_bgmm:  tensor(0.0123)\n",
      "mse_tt:  tensor(2.9681e-07)\n",
      "###########\n",
      "0 1 1 1\n",
      "2 10 0.25 1\n",
      "###########\n"
     ]
    },
    {
     "name": "stderr",
     "output_type": "stream",
     "text": [
      "/idiap/temp/sshetty/miniconda/envs/pyml/lib/python3.9/site-packages/sklearn/mixture/_base.py:268: ConvergenceWarning: Initialization 1 did not converge. Try different init parameters, or increase max_iter, tol or check for degenerate data.\n",
      "  warnings.warn(\n"
     ]
    },
    {
     "name": "stdout",
     "output_type": "stream",
     "text": [
      "mse_bgmm:  tensor(0.0008)\n",
      "mse_tt:  tensor(6.3614e-08)\n",
      "###########\n",
      "0 1 1 2\n",
      "2 10 0.25 2\n",
      "###########\n"
     ]
    },
    {
     "name": "stderr",
     "output_type": "stream",
     "text": [
      "/idiap/temp/sshetty/miniconda/envs/pyml/lib/python3.9/site-packages/sklearn/mixture/_base.py:268: ConvergenceWarning: Initialization 1 did not converge. Try different init parameters, or increase max_iter, tol or check for degenerate data.\n",
      "  warnings.warn(\n"
     ]
    },
    {
     "name": "stdout",
     "output_type": "stream",
     "text": [
      "mse_bgmm:  tensor(0.0010)\n",
      "mse_tt:  tensor(1.5281e-07)\n",
      "###########\n",
      "0 1 2 0\n",
      "2 10 0.5 0\n",
      "###########\n"
     ]
    },
    {
     "name": "stderr",
     "output_type": "stream",
     "text": [
      "/idiap/temp/sshetty/miniconda/envs/pyml/lib/python3.9/site-packages/sklearn/mixture/_base.py:268: ConvergenceWarning: Initialization 1 did not converge. Try different init parameters, or increase max_iter, tol or check for degenerate data.\n",
      "  warnings.warn(\n"
     ]
    },
    {
     "name": "stdout",
     "output_type": "stream",
     "text": [
      "mse_bgmm:  tensor(0.0005)\n",
      "mse_tt:  tensor(1.3572e-09)\n",
      "###########\n",
      "0 1 2 1\n",
      "2 10 0.5 1\n",
      "###########\n"
     ]
    },
    {
     "name": "stderr",
     "output_type": "stream",
     "text": [
      "/idiap/temp/sshetty/miniconda/envs/pyml/lib/python3.9/site-packages/sklearn/mixture/_base.py:268: ConvergenceWarning: Initialization 1 did not converge. Try different init parameters, or increase max_iter, tol or check for degenerate data.\n",
      "  warnings.warn(\n"
     ]
    },
    {
     "name": "stdout",
     "output_type": "stream",
     "text": [
      "mse_bgmm:  tensor(0.0003)\n",
      "mse_tt:  tensor(7.5748e-10)\n",
      "###########\n",
      "0 1 2 2\n",
      "2 10 0.5 2\n",
      "###########\n"
     ]
    },
    {
     "name": "stderr",
     "output_type": "stream",
     "text": [
      "/idiap/temp/sshetty/miniconda/envs/pyml/lib/python3.9/site-packages/sklearn/mixture/_base.py:268: ConvergenceWarning: Initialization 1 did not converge. Try different init parameters, or increase max_iter, tol or check for degenerate data.\n",
      "  warnings.warn(\n"
     ]
    },
    {
     "name": "stdout",
     "output_type": "stream",
     "text": [
      "mse_bgmm:  tensor(0.0005)\n",
      "mse_tt:  tensor(7.0841e-10)\n",
      "###########\n",
      "0 1 3 0\n",
      "2 10 0.75 0\n",
      "###########\n"
     ]
    },
    {
     "name": "stderr",
     "output_type": "stream",
     "text": [
      "/idiap/temp/sshetty/miniconda/envs/pyml/lib/python3.9/site-packages/sklearn/mixture/_base.py:268: ConvergenceWarning: Initialization 1 did not converge. Try different init parameters, or increase max_iter, tol or check for degenerate data.\n",
      "  warnings.warn(\n"
     ]
    },
    {
     "name": "stdout",
     "output_type": "stream",
     "text": [
      "mse_bgmm:  tensor(0.0002)\n",
      "mse_tt:  tensor(1.4821e-10)\n",
      "###########\n",
      "0 1 3 1\n",
      "2 10 0.75 1\n",
      "###########\n"
     ]
    },
    {
     "name": "stderr",
     "output_type": "stream",
     "text": [
      "/idiap/temp/sshetty/miniconda/envs/pyml/lib/python3.9/site-packages/sklearn/mixture/_base.py:268: ConvergenceWarning: Initialization 1 did not converge. Try different init parameters, or increase max_iter, tol or check for degenerate data.\n",
      "  warnings.warn(\n"
     ]
    },
    {
     "name": "stdout",
     "output_type": "stream",
     "text": [
      "mse_bgmm:  tensor(0.0003)\n",
      "mse_tt:  tensor(2.2818e-10)\n",
      "###########\n",
      "0 1 3 2\n",
      "2 10 0.75 2\n",
      "###########\n"
     ]
    },
    {
     "name": "stderr",
     "output_type": "stream",
     "text": [
      "/idiap/temp/sshetty/miniconda/envs/pyml/lib/python3.9/site-packages/sklearn/mixture/_base.py:268: ConvergenceWarning: Initialization 1 did not converge. Try different init parameters, or increase max_iter, tol or check for degenerate data.\n",
      "  warnings.warn(\n"
     ]
    },
    {
     "name": "stdout",
     "output_type": "stream",
     "text": [
      "mse_bgmm:  tensor(0.0004)\n",
      "mse_tt:  tensor(2.3204e-10)\n",
      "###########\n",
      "0 2 0 0\n",
      "2 20 0.1 0\n",
      "###########\n"
     ]
    },
    {
     "name": "stderr",
     "output_type": "stream",
     "text": [
      "/idiap/temp/sshetty/miniconda/envs/pyml/lib/python3.9/site-packages/sklearn/mixture/_base.py:268: ConvergenceWarning: Initialization 1 did not converge. Try different init parameters, or increase max_iter, tol or check for degenerate data.\n",
      "  warnings.warn(\n"
     ]
    },
    {
     "name": "stdout",
     "output_type": "stream",
     "text": [
      "mse_bgmm:  tensor(2.5565)\n",
      "mse_tt:  tensor(6.1399e-05)\n",
      "###########\n",
      "0 2 0 1\n",
      "2 20 0.1 1\n",
      "###########\n"
     ]
    },
    {
     "name": "stderr",
     "output_type": "stream",
     "text": [
      "/idiap/temp/sshetty/miniconda/envs/pyml/lib/python3.9/site-packages/sklearn/mixture/_base.py:268: ConvergenceWarning: Initialization 1 did not converge. Try different init parameters, or increase max_iter, tol or check for degenerate data.\n",
      "  warnings.warn(\n"
     ]
    },
    {
     "name": "stdout",
     "output_type": "stream",
     "text": [
      "mse_bgmm:  tensor(0.2031)\n",
      "mse_tt:  tensor(5.8503e-05)\n",
      "###########\n",
      "0 2 0 2\n",
      "2 20 0.1 2\n",
      "###########\n"
     ]
    },
    {
     "name": "stderr",
     "output_type": "stream",
     "text": [
      "/idiap/temp/sshetty/miniconda/envs/pyml/lib/python3.9/site-packages/sklearn/mixture/_base.py:268: ConvergenceWarning: Initialization 1 did not converge. Try different init parameters, or increase max_iter, tol or check for degenerate data.\n",
      "  warnings.warn(\n"
     ]
    },
    {
     "name": "stdout",
     "output_type": "stream",
     "text": [
      "mse_bgmm:  tensor(0.0462)\n",
      "mse_tt:  tensor(3.0847e-05)\n",
      "###########\n",
      "0 2 1 0\n",
      "2 20 0.25 0\n",
      "###########\n"
     ]
    },
    {
     "name": "stderr",
     "output_type": "stream",
     "text": [
      "/idiap/temp/sshetty/miniconda/envs/pyml/lib/python3.9/site-packages/sklearn/mixture/_base.py:268: ConvergenceWarning: Initialization 1 did not converge. Try different init parameters, or increase max_iter, tol or check for degenerate data.\n",
      "  warnings.warn(\n"
     ]
    },
    {
     "name": "stdout",
     "output_type": "stream",
     "text": [
      "mse_bgmm:  tensor(0.0006)\n",
      "mse_tt:  tensor(2.4395e-08)\n",
      "###########\n",
      "0 2 1 1\n",
      "2 20 0.25 1\n",
      "###########\n"
     ]
    },
    {
     "name": "stderr",
     "output_type": "stream",
     "text": [
      "/idiap/temp/sshetty/miniconda/envs/pyml/lib/python3.9/site-packages/sklearn/mixture/_base.py:268: ConvergenceWarning: Initialization 1 did not converge. Try different init parameters, or increase max_iter, tol or check for degenerate data.\n",
      "  warnings.warn(\n"
     ]
    },
    {
     "name": "stdout",
     "output_type": "stream",
     "text": [
      "mse_bgmm:  tensor(0.0007)\n",
      "mse_tt:  tensor(3.8797e-08)\n",
      "###########\n",
      "0 2 1 2\n",
      "2 20 0.25 2\n",
      "###########\n"
     ]
    },
    {
     "name": "stderr",
     "output_type": "stream",
     "text": [
      "/idiap/temp/sshetty/miniconda/envs/pyml/lib/python3.9/site-packages/sklearn/mixture/_base.py:268: ConvergenceWarning: Initialization 1 did not converge. Try different init parameters, or increase max_iter, tol or check for degenerate data.\n",
      "  warnings.warn(\n"
     ]
    },
    {
     "name": "stdout",
     "output_type": "stream",
     "text": [
      "mse_bgmm:  tensor(0.0007)\n",
      "mse_tt:  tensor(3.7638e-08)\n",
      "###########\n",
      "0 2 2 0\n",
      "2 20 0.5 0\n",
      "###########\n"
     ]
    },
    {
     "name": "stderr",
     "output_type": "stream",
     "text": [
      "/idiap/temp/sshetty/miniconda/envs/pyml/lib/python3.9/site-packages/sklearn/mixture/_base.py:268: ConvergenceWarning: Initialization 1 did not converge. Try different init parameters, or increase max_iter, tol or check for degenerate data.\n",
      "  warnings.warn(\n"
     ]
    },
    {
     "name": "stdout",
     "output_type": "stream",
     "text": [
      "mse_bgmm:  tensor(0.0003)\n",
      "mse_tt:  tensor(3.9455e-10)\n",
      "###########\n",
      "0 2 2 1\n",
      "2 20 0.5 1\n",
      "###########\n"
     ]
    },
    {
     "name": "stderr",
     "output_type": "stream",
     "text": [
      "/idiap/temp/sshetty/miniconda/envs/pyml/lib/python3.9/site-packages/sklearn/mixture/_base.py:268: ConvergenceWarning: Initialization 1 did not converge. Try different init parameters, or increase max_iter, tol or check for degenerate data.\n",
      "  warnings.warn(\n"
     ]
    },
    {
     "name": "stdout",
     "output_type": "stream",
     "text": [
      "mse_bgmm:  tensor(0.0004)\n",
      "mse_tt:  tensor(3.6673e-10)\n",
      "###########\n",
      "0 2 2 2\n",
      "2 20 0.5 2\n",
      "###########\n"
     ]
    },
    {
     "name": "stderr",
     "output_type": "stream",
     "text": [
      "/idiap/temp/sshetty/miniconda/envs/pyml/lib/python3.9/site-packages/sklearn/mixture/_base.py:268: ConvergenceWarning: Initialization 1 did not converge. Try different init parameters, or increase max_iter, tol or check for degenerate data.\n",
      "  warnings.warn(\n"
     ]
    },
    {
     "name": "stdout",
     "output_type": "stream",
     "text": [
      "mse_bgmm:  tensor(0.0005)\n",
      "mse_tt:  tensor(1.3738e-09)\n",
      "###########\n",
      "0 2 3 0\n",
      "2 20 0.75 0\n",
      "###########\n"
     ]
    },
    {
     "name": "stderr",
     "output_type": "stream",
     "text": [
      "/idiap/temp/sshetty/miniconda/envs/pyml/lib/python3.9/site-packages/sklearn/mixture/_base.py:268: ConvergenceWarning: Initialization 1 did not converge. Try different init parameters, or increase max_iter, tol or check for degenerate data.\n",
      "  warnings.warn(\n"
     ]
    },
    {
     "name": "stdout",
     "output_type": "stream",
     "text": [
      "mse_bgmm:  tensor(0.0004)\n",
      "mse_tt:  tensor(1.7598e-10)\n",
      "###########\n",
      "0 2 3 1\n",
      "2 20 0.75 1\n",
      "###########\n"
     ]
    },
    {
     "name": "stderr",
     "output_type": "stream",
     "text": [
      "/idiap/temp/sshetty/miniconda/envs/pyml/lib/python3.9/site-packages/sklearn/mixture/_base.py:268: ConvergenceWarning: Initialization 1 did not converge. Try different init parameters, or increase max_iter, tol or check for degenerate data.\n",
      "  warnings.warn(\n"
     ]
    },
    {
     "name": "stdout",
     "output_type": "stream",
     "text": [
      "mse_bgmm:  tensor(0.0004)\n",
      "mse_tt:  tensor(1.9569e-10)\n",
      "###########\n",
      "0 2 3 2\n",
      "2 20 0.75 2\n",
      "###########\n"
     ]
    },
    {
     "name": "stderr",
     "output_type": "stream",
     "text": [
      "/idiap/temp/sshetty/miniconda/envs/pyml/lib/python3.9/site-packages/sklearn/mixture/_base.py:268: ConvergenceWarning: Initialization 1 did not converge. Try different init parameters, or increase max_iter, tol or check for degenerate data.\n",
      "  warnings.warn(\n"
     ]
    },
    {
     "name": "stdout",
     "output_type": "stream",
     "text": [
      "mse_bgmm:  tensor(0.0004)\n",
      "mse_tt:  tensor(1.3070e-10)\n",
      "###########\n",
      "1 0 0 0\n",
      "5 5 0.1 0\n",
      "###########\n"
     ]
    },
    {
     "name": "stderr",
     "output_type": "stream",
     "text": [
      "/idiap/temp/sshetty/miniconda/envs/pyml/lib/python3.9/site-packages/sklearn/mixture/_base.py:268: ConvergenceWarning: Initialization 1 did not converge. Try different init parameters, or increase max_iter, tol or check for degenerate data.\n",
      "  warnings.warn(\n"
     ]
    },
    {
     "name": "stdout",
     "output_type": "stream",
     "text": [
      "mse_bgmm:  tensor(0.0040)\n",
      "mse_tt:  tensor(6.1356e-05)\n",
      "###########\n",
      "1 0 0 1\n",
      "5 5 0.1 1\n",
      "###########\n"
     ]
    },
    {
     "name": "stderr",
     "output_type": "stream",
     "text": [
      "/idiap/temp/sshetty/miniconda/envs/pyml/lib/python3.9/site-packages/sklearn/mixture/_base.py:268: ConvergenceWarning: Initialization 1 did not converge. Try different init parameters, or increase max_iter, tol or check for degenerate data.\n",
      "  warnings.warn(\n"
     ]
    },
    {
     "name": "stdout",
     "output_type": "stream",
     "text": [
      "mse_bgmm:  tensor(0.0033)\n",
      "mse_tt:  tensor(5.9156e-05)\n",
      "###########\n",
      "1 0 0 2\n",
      "5 5 0.1 2\n",
      "###########\n"
     ]
    },
    {
     "name": "stderr",
     "output_type": "stream",
     "text": [
      "/idiap/temp/sshetty/miniconda/envs/pyml/lib/python3.9/site-packages/sklearn/mixture/_base.py:268: ConvergenceWarning: Initialization 1 did not converge. Try different init parameters, or increase max_iter, tol or check for degenerate data.\n",
      "  warnings.warn(\n"
     ]
    },
    {
     "name": "stdout",
     "output_type": "stream",
     "text": [
      "mse_bgmm:  tensor(0.0025)\n",
      "mse_tt:  tensor(5.8745e-05)\n",
      "###########\n",
      "1 0 1 0\n",
      "5 5 0.25 0\n",
      "###########\n"
     ]
    },
    {
     "name": "stderr",
     "output_type": "stream",
     "text": [
      "/idiap/temp/sshetty/miniconda/envs/pyml/lib/python3.9/site-packages/sklearn/mixture/_base.py:268: ConvergenceWarning: Initialization 1 did not converge. Try different init parameters, or increase max_iter, tol or check for degenerate data.\n",
      "  warnings.warn(\n"
     ]
    },
    {
     "name": "stdout",
     "output_type": "stream",
     "text": [
      "mse_bgmm:  tensor(0.0163)\n",
      "mse_tt:  tensor(5.9547e-06)\n",
      "###########\n",
      "1 0 1 1\n",
      "5 5 0.25 1\n",
      "###########\n"
     ]
    },
    {
     "name": "stderr",
     "output_type": "stream",
     "text": [
      "/idiap/temp/sshetty/miniconda/envs/pyml/lib/python3.9/site-packages/sklearn/mixture/_base.py:268: ConvergenceWarning: Initialization 1 did not converge. Try different init parameters, or increase max_iter, tol or check for degenerate data.\n",
      "  warnings.warn(\n"
     ]
    },
    {
     "name": "stdout",
     "output_type": "stream",
     "text": [
      "mse_bgmm:  tensor(0.0162)\n",
      "mse_tt:  tensor(6.2503e-06)\n",
      "###########\n",
      "1 0 1 2\n",
      "5 5 0.25 2\n",
      "###########\n"
     ]
    },
    {
     "name": "stderr",
     "output_type": "stream",
     "text": [
      "/idiap/temp/sshetty/miniconda/envs/pyml/lib/python3.9/site-packages/sklearn/mixture/_base.py:268: ConvergenceWarning: Initialization 1 did not converge. Try different init parameters, or increase max_iter, tol or check for degenerate data.\n",
      "  warnings.warn(\n"
     ]
    },
    {
     "name": "stdout",
     "output_type": "stream",
     "text": [
      "mse_bgmm:  tensor(0.0224)\n",
      "mse_tt:  tensor(6.4275e-06)\n",
      "###########\n",
      "1 0 2 0\n",
      "5 5 0.5 0\n",
      "###########\n"
     ]
    },
    {
     "name": "stderr",
     "output_type": "stream",
     "text": [
      "/idiap/temp/sshetty/miniconda/envs/pyml/lib/python3.9/site-packages/sklearn/mixture/_base.py:268: ConvergenceWarning: Initialization 1 did not converge. Try different init parameters, or increase max_iter, tol or check for degenerate data.\n",
      "  warnings.warn(\n"
     ]
    },
    {
     "name": "stdout",
     "output_type": "stream",
     "text": [
      "mse_bgmm:  tensor(0.0025)\n",
      "mse_tt:  tensor(3.4065e-08)\n",
      "###########\n",
      "1 0 2 1\n",
      "5 5 0.5 1\n",
      "###########\n"
     ]
    },
    {
     "name": "stderr",
     "output_type": "stream",
     "text": [
      "/idiap/temp/sshetty/miniconda/envs/pyml/lib/python3.9/site-packages/sklearn/mixture/_base.py:268: ConvergenceWarning: Initialization 1 did not converge. Try different init parameters, or increase max_iter, tol or check for degenerate data.\n",
      "  warnings.warn(\n"
     ]
    },
    {
     "name": "stdout",
     "output_type": "stream",
     "text": [
      "mse_bgmm:  tensor(0.0027)\n",
      "mse_tt:  tensor(2.9787e-08)\n",
      "###########\n",
      "1 0 2 2\n",
      "5 5 0.5 2\n",
      "###########\n"
     ]
    },
    {
     "name": "stderr",
     "output_type": "stream",
     "text": [
      "/idiap/temp/sshetty/miniconda/envs/pyml/lib/python3.9/site-packages/sklearn/mixture/_base.py:268: ConvergenceWarning: Initialization 1 did not converge. Try different init parameters, or increase max_iter, tol or check for degenerate data.\n",
      "  warnings.warn(\n"
     ]
    },
    {
     "name": "stdout",
     "output_type": "stream",
     "text": [
      "mse_bgmm:  tensor(0.0007)\n",
      "mse_tt:  tensor(2.6933e-08)\n",
      "###########\n",
      "1 0 3 0\n",
      "5 5 0.75 0\n",
      "###########\n"
     ]
    },
    {
     "name": "stderr",
     "output_type": "stream",
     "text": [
      "/idiap/temp/sshetty/miniconda/envs/pyml/lib/python3.9/site-packages/sklearn/mixture/_base.py:268: ConvergenceWarning: Initialization 1 did not converge. Try different init parameters, or increase max_iter, tol or check for degenerate data.\n",
      "  warnings.warn(\n"
     ]
    },
    {
     "name": "stdout",
     "output_type": "stream",
     "text": [
      "mse_bgmm:  tensor(0.0005)\n",
      "mse_tt:  tensor(9.0710e-10)\n",
      "###########\n",
      "1 0 3 1\n",
      "5 5 0.75 1\n",
      "###########\n"
     ]
    },
    {
     "name": "stderr",
     "output_type": "stream",
     "text": [
      "/idiap/temp/sshetty/miniconda/envs/pyml/lib/python3.9/site-packages/sklearn/mixture/_base.py:268: ConvergenceWarning: Initialization 1 did not converge. Try different init parameters, or increase max_iter, tol or check for degenerate data.\n",
      "  warnings.warn(\n"
     ]
    },
    {
     "name": "stdout",
     "output_type": "stream",
     "text": [
      "mse_bgmm:  tensor(0.0003)\n",
      "mse_tt:  tensor(9.9372e-10)\n",
      "###########\n",
      "1 0 3 2\n",
      "5 5 0.75 2\n",
      "###########\n"
     ]
    },
    {
     "name": "stderr",
     "output_type": "stream",
     "text": [
      "/idiap/temp/sshetty/miniconda/envs/pyml/lib/python3.9/site-packages/sklearn/mixture/_base.py:268: ConvergenceWarning: Initialization 1 did not converge. Try different init parameters, or increase max_iter, tol or check for degenerate data.\n",
      "  warnings.warn(\n"
     ]
    },
    {
     "name": "stdout",
     "output_type": "stream",
     "text": [
      "mse_bgmm:  tensor(0.0004)\n",
      "mse_tt:  tensor(9.6600e-10)\n",
      "###########\n",
      "1 1 0 0\n",
      "5 10 0.1 0\n",
      "###########\n"
     ]
    },
    {
     "name": "stderr",
     "output_type": "stream",
     "text": [
      "/idiap/temp/sshetty/miniconda/envs/pyml/lib/python3.9/site-packages/sklearn/mixture/_base.py:268: ConvergenceWarning: Initialization 1 did not converge. Try different init parameters, or increase max_iter, tol or check for degenerate data.\n",
      "  warnings.warn(\n"
     ]
    },
    {
     "name": "stdout",
     "output_type": "stream",
     "text": [
      "mse_bgmm:  tensor(0.0544)\n",
      "mse_tt:  tensor(0.0001)\n",
      "###########\n",
      "1 1 0 1\n",
      "5 10 0.1 1\n",
      "###########\n"
     ]
    },
    {
     "name": "stderr",
     "output_type": "stream",
     "text": [
      "/idiap/temp/sshetty/miniconda/envs/pyml/lib/python3.9/site-packages/sklearn/mixture/_base.py:268: ConvergenceWarning: Initialization 1 did not converge. Try different init parameters, or increase max_iter, tol or check for degenerate data.\n",
      "  warnings.warn(\n"
     ]
    },
    {
     "name": "stdout",
     "output_type": "stream",
     "text": [
      "mse_bgmm:  tensor(0.0080)\n",
      "mse_tt:  tensor(6.2828e-05)\n",
      "###########\n",
      "1 1 0 2\n",
      "5 10 0.1 2\n",
      "###########\n"
     ]
    },
    {
     "name": "stderr",
     "output_type": "stream",
     "text": [
      "/idiap/temp/sshetty/miniconda/envs/pyml/lib/python3.9/site-packages/sklearn/mixture/_base.py:268: ConvergenceWarning: Initialization 1 did not converge. Try different init parameters, or increase max_iter, tol or check for degenerate data.\n",
      "  warnings.warn(\n"
     ]
    },
    {
     "name": "stdout",
     "output_type": "stream",
     "text": [
      "mse_bgmm:  tensor(0.0206)\n",
      "mse_tt:  tensor(8.8920e-05)\n",
      "###########\n",
      "1 1 1 0\n",
      "5 10 0.25 0\n",
      "###########\n"
     ]
    },
    {
     "name": "stderr",
     "output_type": "stream",
     "text": [
      "/idiap/temp/sshetty/miniconda/envs/pyml/lib/python3.9/site-packages/sklearn/mixture/_base.py:268: ConvergenceWarning: Initialization 1 did not converge. Try different init parameters, or increase max_iter, tol or check for degenerate data.\n",
      "  warnings.warn(\n"
     ]
    },
    {
     "name": "stdout",
     "output_type": "stream",
     "text": [
      "mse_bgmm:  tensor(0.0164)\n",
      "mse_tt:  tensor(5.1096e-06)\n",
      "###########\n",
      "1 1 1 1\n",
      "5 10 0.25 1\n",
      "###########\n"
     ]
    },
    {
     "name": "stderr",
     "output_type": "stream",
     "text": [
      "/idiap/temp/sshetty/miniconda/envs/pyml/lib/python3.9/site-packages/sklearn/mixture/_base.py:268: ConvergenceWarning: Initialization 1 did not converge. Try different init parameters, or increase max_iter, tol or check for degenerate data.\n",
      "  warnings.warn(\n"
     ]
    },
    {
     "name": "stdout",
     "output_type": "stream",
     "text": [
      "mse_bgmm:  tensor(0.0174)\n",
      "mse_tt:  tensor(4.5675e-06)\n",
      "###########\n",
      "1 1 1 2\n",
      "5 10 0.25 2\n",
      "###########\n"
     ]
    },
    {
     "name": "stderr",
     "output_type": "stream",
     "text": [
      "/idiap/temp/sshetty/miniconda/envs/pyml/lib/python3.9/site-packages/sklearn/mixture/_base.py:268: ConvergenceWarning: Initialization 1 did not converge. Try different init parameters, or increase max_iter, tol or check for degenerate data.\n",
      "  warnings.warn(\n"
     ]
    },
    {
     "name": "stdout",
     "output_type": "stream",
     "text": [
      "mse_bgmm:  tensor(3.1312)\n",
      "mse_tt:  tensor(3.8588e-06)\n",
      "###########\n",
      "1 1 2 0\n",
      "5 10 0.5 0\n",
      "###########\n"
     ]
    },
    {
     "name": "stderr",
     "output_type": "stream",
     "text": [
      "/idiap/temp/sshetty/miniconda/envs/pyml/lib/python3.9/site-packages/sklearn/mixture/_base.py:268: ConvergenceWarning: Initialization 1 did not converge. Try different init parameters, or increase max_iter, tol or check for degenerate data.\n",
      "  warnings.warn(\n"
     ]
    },
    {
     "name": "stdout",
     "output_type": "stream",
     "text": [
      "mse_bgmm:  tensor(0.0013)\n",
      "mse_tt:  tensor(6.8285e-09)\n",
      "###########\n",
      "1 1 2 1\n",
      "5 10 0.5 1\n",
      "###########\n"
     ]
    },
    {
     "name": "stderr",
     "output_type": "stream",
     "text": [
      "/idiap/temp/sshetty/miniconda/envs/pyml/lib/python3.9/site-packages/sklearn/mixture/_base.py:268: ConvergenceWarning: Initialization 1 did not converge. Try different init parameters, or increase max_iter, tol or check for degenerate data.\n",
      "  warnings.warn(\n"
     ]
    },
    {
     "name": "stdout",
     "output_type": "stream",
     "text": [
      "mse_bgmm:  tensor(0.0017)\n",
      "mse_tt:  tensor(9.8973e-09)\n",
      "###########\n",
      "1 1 2 2\n",
      "5 10 0.5 2\n",
      "###########\n"
     ]
    },
    {
     "name": "stderr",
     "output_type": "stream",
     "text": [
      "/idiap/temp/sshetty/miniconda/envs/pyml/lib/python3.9/site-packages/sklearn/mixture/_base.py:268: ConvergenceWarning: Initialization 1 did not converge. Try different init parameters, or increase max_iter, tol or check for degenerate data.\n",
      "  warnings.warn(\n"
     ]
    },
    {
     "name": "stdout",
     "output_type": "stream",
     "text": [
      "mse_bgmm:  tensor(0.0016)\n",
      "mse_tt:  tensor(9.2903e-09)\n",
      "###########\n",
      "1 1 3 0\n",
      "5 10 0.75 0\n",
      "###########\n"
     ]
    },
    {
     "name": "stderr",
     "output_type": "stream",
     "text": [
      "/idiap/temp/sshetty/miniconda/envs/pyml/lib/python3.9/site-packages/sklearn/mixture/_base.py:268: ConvergenceWarning: Initialization 1 did not converge. Try different init parameters, or increase max_iter, tol or check for degenerate data.\n",
      "  warnings.warn(\n"
     ]
    },
    {
     "name": "stdout",
     "output_type": "stream",
     "text": [
      "mse_bgmm:  tensor(0.0004)\n",
      "mse_tt:  tensor(9.5552e-10)\n",
      "###########\n",
      "1 1 3 1\n",
      "5 10 0.75 1\n",
      "###########\n"
     ]
    },
    {
     "name": "stderr",
     "output_type": "stream",
     "text": [
      "/idiap/temp/sshetty/miniconda/envs/pyml/lib/python3.9/site-packages/sklearn/mixture/_base.py:268: ConvergenceWarning: Initialization 1 did not converge. Try different init parameters, or increase max_iter, tol or check for degenerate data.\n",
      "  warnings.warn(\n"
     ]
    },
    {
     "name": "stdout",
     "output_type": "stream",
     "text": [
      "mse_bgmm:  tensor(0.0004)\n",
      "mse_tt:  tensor(1.0332e-09)\n",
      "###########\n",
      "1 1 3 2\n",
      "5 10 0.75 2\n",
      "###########\n"
     ]
    },
    {
     "name": "stderr",
     "output_type": "stream",
     "text": [
      "/idiap/temp/sshetty/miniconda/envs/pyml/lib/python3.9/site-packages/sklearn/mixture/_base.py:268: ConvergenceWarning: Initialization 1 did not converge. Try different init parameters, or increase max_iter, tol or check for degenerate data.\n",
      "  warnings.warn(\n"
     ]
    },
    {
     "name": "stdout",
     "output_type": "stream",
     "text": [
      "mse_bgmm:  tensor(0.0006)\n",
      "mse_tt:  tensor(8.5436e-10)\n",
      "###########\n",
      "1 2 0 0\n",
      "5 20 0.1 0\n",
      "###########\n"
     ]
    },
    {
     "name": "stderr",
     "output_type": "stream",
     "text": [
      "/idiap/temp/sshetty/miniconda/envs/pyml/lib/python3.9/site-packages/sklearn/mixture/_base.py:268: ConvergenceWarning: Initialization 1 did not converge. Try different init parameters, or increase max_iter, tol or check for degenerate data.\n",
      "  warnings.warn(\n"
     ]
    },
    {
     "name": "stdout",
     "output_type": "stream",
     "text": [
      "mse_bgmm:  tensor(0.0716)\n",
      "mse_tt:  tensor(0.0002)\n",
      "###########\n",
      "1 2 0 1\n",
      "5 20 0.1 1\n",
      "###########\n"
     ]
    },
    {
     "name": "stderr",
     "output_type": "stream",
     "text": [
      "/idiap/temp/sshetty/miniconda/envs/pyml/lib/python3.9/site-packages/sklearn/mixture/_base.py:268: ConvergenceWarning: Initialization 1 did not converge. Try different init parameters, or increase max_iter, tol or check for degenerate data.\n",
      "  warnings.warn(\n"
     ]
    },
    {
     "name": "stdout",
     "output_type": "stream",
     "text": [
      "mse_bgmm:  tensor(0.4117)\n",
      "mse_tt:  tensor(0.0001)\n",
      "###########\n",
      "1 2 0 2\n",
      "5 20 0.1 2\n",
      "###########\n"
     ]
    },
    {
     "name": "stderr",
     "output_type": "stream",
     "text": [
      "/idiap/temp/sshetty/miniconda/envs/pyml/lib/python3.9/site-packages/sklearn/mixture/_base.py:268: ConvergenceWarning: Initialization 1 did not converge. Try different init parameters, or increase max_iter, tol or check for degenerate data.\n",
      "  warnings.warn(\n"
     ]
    },
    {
     "name": "stdout",
     "output_type": "stream",
     "text": [
      "mse_bgmm:  tensor(170.0826)\n",
      "mse_tt:  tensor(0.0001)\n",
      "###########\n",
      "1 2 1 0\n",
      "5 20 0.25 0\n",
      "###########\n"
     ]
    },
    {
     "name": "stderr",
     "output_type": "stream",
     "text": [
      "/idiap/temp/sshetty/miniconda/envs/pyml/lib/python3.9/site-packages/sklearn/mixture/_base.py:268: ConvergenceWarning: Initialization 1 did not converge. Try different init parameters, or increase max_iter, tol or check for degenerate data.\n",
      "  warnings.warn(\n"
     ]
    },
    {
     "name": "stdout",
     "output_type": "stream",
     "text": [
      "mse_bgmm:  tensor(0.0806)\n",
      "mse_tt:  tensor(3.1304e-06)\n",
      "###########\n",
      "1 2 1 1\n",
      "5 20 0.25 1\n",
      "###########\n"
     ]
    },
    {
     "name": "stderr",
     "output_type": "stream",
     "text": [
      "/idiap/temp/sshetty/miniconda/envs/pyml/lib/python3.9/site-packages/sklearn/mixture/_base.py:268: ConvergenceWarning: Initialization 1 did not converge. Try different init parameters, or increase max_iter, tol or check for degenerate data.\n",
      "  warnings.warn(\n"
     ]
    },
    {
     "name": "stdout",
     "output_type": "stream",
     "text": [
      "mse_bgmm:  tensor(0.0347)\n",
      "mse_tt:  tensor(2.4609e-06)\n",
      "###########\n",
      "1 2 1 2\n",
      "5 20 0.25 2\n",
      "###########\n"
     ]
    },
    {
     "name": "stderr",
     "output_type": "stream",
     "text": [
      "/idiap/temp/sshetty/miniconda/envs/pyml/lib/python3.9/site-packages/sklearn/mixture/_base.py:268: ConvergenceWarning: Initialization 1 did not converge. Try different init parameters, or increase max_iter, tol or check for degenerate data.\n",
      "  warnings.warn(\n"
     ]
    },
    {
     "name": "stdout",
     "output_type": "stream",
     "text": [
      "mse_bgmm:  tensor(0.0101)\n",
      "mse_tt:  tensor(2.1125e-06)\n",
      "###########\n",
      "1 2 2 0\n",
      "5 20 0.5 0\n",
      "###########\n"
     ]
    },
    {
     "name": "stderr",
     "output_type": "stream",
     "text": [
      "/idiap/temp/sshetty/miniconda/envs/pyml/lib/python3.9/site-packages/sklearn/mixture/_base.py:268: ConvergenceWarning: Initialization 1 did not converge. Try different init parameters, or increase max_iter, tol or check for degenerate data.\n",
      "  warnings.warn(\n"
     ]
    },
    {
     "name": "stdout",
     "output_type": "stream",
     "text": [
      "mse_bgmm:  tensor(0.0012)\n",
      "mse_tt:  tensor(3.8348e-09)\n",
      "###########\n",
      "1 2 2 1\n",
      "5 20 0.5 1\n",
      "###########\n"
     ]
    },
    {
     "name": "stderr",
     "output_type": "stream",
     "text": [
      "/idiap/temp/sshetty/miniconda/envs/pyml/lib/python3.9/site-packages/sklearn/mixture/_base.py:268: ConvergenceWarning: Initialization 1 did not converge. Try different init parameters, or increase max_iter, tol or check for degenerate data.\n",
      "  warnings.warn(\n"
     ]
    },
    {
     "name": "stdout",
     "output_type": "stream",
     "text": [
      "mse_bgmm:  tensor(0.0014)\n",
      "mse_tt:  tensor(5.7346e-09)\n",
      "###########\n",
      "1 2 2 2\n",
      "5 20 0.5 2\n",
      "###########\n"
     ]
    },
    {
     "name": "stderr",
     "output_type": "stream",
     "text": [
      "/idiap/temp/sshetty/miniconda/envs/pyml/lib/python3.9/site-packages/sklearn/mixture/_base.py:268: ConvergenceWarning: Initialization 1 did not converge. Try different init parameters, or increase max_iter, tol or check for degenerate data.\n",
      "  warnings.warn(\n"
     ]
    },
    {
     "name": "stdout",
     "output_type": "stream",
     "text": [
      "mse_bgmm:  tensor(0.0015)\n",
      "mse_tt:  tensor(4.1845e-09)\n",
      "###########\n",
      "1 2 3 0\n",
      "5 20 0.75 0\n",
      "###########\n"
     ]
    },
    {
     "name": "stderr",
     "output_type": "stream",
     "text": [
      "/idiap/temp/sshetty/miniconda/envs/pyml/lib/python3.9/site-packages/sklearn/mixture/_base.py:268: ConvergenceWarning: Initialization 1 did not converge. Try different init parameters, or increase max_iter, tol or check for degenerate data.\n",
      "  warnings.warn(\n"
     ]
    },
    {
     "name": "stdout",
     "output_type": "stream",
     "text": [
      "mse_bgmm:  tensor(0.0005)\n",
      "mse_tt:  tensor(9.0269e-10)\n",
      "###########\n",
      "1 2 3 1\n",
      "5 20 0.75 1\n",
      "###########\n"
     ]
    },
    {
     "name": "stderr",
     "output_type": "stream",
     "text": [
      "/idiap/temp/sshetty/miniconda/envs/pyml/lib/python3.9/site-packages/sklearn/mixture/_base.py:268: ConvergenceWarning: Initialization 1 did not converge. Try different init parameters, or increase max_iter, tol or check for degenerate data.\n",
      "  warnings.warn(\n"
     ]
    },
    {
     "name": "stdout",
     "output_type": "stream",
     "text": [
      "mse_bgmm:  tensor(0.0006)\n",
      "mse_tt:  tensor(8.7617e-10)\n",
      "###########\n",
      "1 2 3 2\n",
      "5 20 0.75 2\n",
      "###########\n"
     ]
    },
    {
     "name": "stderr",
     "output_type": "stream",
     "text": [
      "/idiap/temp/sshetty/miniconda/envs/pyml/lib/python3.9/site-packages/sklearn/mixture/_base.py:268: ConvergenceWarning: Initialization 1 did not converge. Try different init parameters, or increase max_iter, tol or check for degenerate data.\n",
      "  warnings.warn(\n"
     ]
    },
    {
     "name": "stdout",
     "output_type": "stream",
     "text": [
      "mse_bgmm:  tensor(0.0006)\n",
      "mse_tt:  tensor(8.1961e-10)\n",
      "###########\n",
      "2 0 0 0\n",
      "10 5 0.1 0\n",
      "###########\n"
     ]
    },
    {
     "name": "stderr",
     "output_type": "stream",
     "text": [
      "/idiap/temp/sshetty/miniconda/envs/pyml/lib/python3.9/site-packages/sklearn/mixture/_base.py:268: ConvergenceWarning: Initialization 1 did not converge. Try different init parameters, or increase max_iter, tol or check for degenerate data.\n",
      "  warnings.warn(\n"
     ]
    },
    {
     "name": "stdout",
     "output_type": "stream",
     "text": [
      "mse_bgmm:  tensor(2.0780e-05)\n",
      "mse_tt:  tensor(9.0813e-07)\n",
      "###########\n",
      "2 0 0 1\n",
      "10 5 0.1 1\n",
      "###########\n"
     ]
    },
    {
     "name": "stderr",
     "output_type": "stream",
     "text": [
      "/idiap/temp/sshetty/miniconda/envs/pyml/lib/python3.9/site-packages/sklearn/mixture/_base.py:268: ConvergenceWarning: Initialization 1 did not converge. Try different init parameters, or increase max_iter, tol or check for degenerate data.\n",
      "  warnings.warn(\n"
     ]
    },
    {
     "name": "stdout",
     "output_type": "stream",
     "text": [
      "mse_bgmm:  tensor(2.5540e-05)\n",
      "mse_tt:  tensor(9.7862e-05)\n",
      "###########\n",
      "2 0 0 2\n",
      "10 5 0.1 2\n",
      "###########\n"
     ]
    },
    {
     "name": "stderr",
     "output_type": "stream",
     "text": [
      "/idiap/temp/sshetty/miniconda/envs/pyml/lib/python3.9/site-packages/sklearn/mixture/_base.py:268: ConvergenceWarning: Initialization 1 did not converge. Try different init parameters, or increase max_iter, tol or check for degenerate data.\n",
      "  warnings.warn(\n"
     ]
    },
    {
     "name": "stdout",
     "output_type": "stream",
     "text": [
      "mse_bgmm:  tensor(2.2620e-05)\n",
      "mse_tt:  tensor(6.6168e-07)\n",
      "###########\n",
      "2 0 1 0\n",
      "10 5 0.25 0\n",
      "###########\n"
     ]
    },
    {
     "name": "stderr",
     "output_type": "stream",
     "text": [
      "/idiap/temp/sshetty/miniconda/envs/pyml/lib/python3.9/site-packages/sklearn/mixture/_base.py:268: ConvergenceWarning: Initialization 1 did not converge. Try different init parameters, or increase max_iter, tol or check for degenerate data.\n",
      "  warnings.warn(\n"
     ]
    },
    {
     "name": "stdout",
     "output_type": "stream",
     "text": [
      "mse_bgmm:  tensor(0.0037)\n",
      "mse_tt:  tensor(3.4120e-06)\n",
      "###########\n",
      "2 0 1 1\n",
      "10 5 0.25 1\n",
      "###########\n"
     ]
    },
    {
     "name": "stderr",
     "output_type": "stream",
     "text": [
      "/idiap/temp/sshetty/miniconda/envs/pyml/lib/python3.9/site-packages/sklearn/mixture/_base.py:268: ConvergenceWarning: Initialization 1 did not converge. Try different init parameters, or increase max_iter, tol or check for degenerate data.\n",
      "  warnings.warn(\n"
     ]
    },
    {
     "name": "stdout",
     "output_type": "stream",
     "text": [
      "mse_bgmm:  tensor(0.0044)\n",
      "mse_tt:  tensor(2.6480e-06)\n",
      "###########\n",
      "2 0 1 2\n",
      "10 5 0.25 2\n",
      "###########\n"
     ]
    },
    {
     "name": "stderr",
     "output_type": "stream",
     "text": [
      "/idiap/temp/sshetty/miniconda/envs/pyml/lib/python3.9/site-packages/sklearn/mixture/_base.py:268: ConvergenceWarning: Initialization 1 did not converge. Try different init parameters, or increase max_iter, tol or check for degenerate data.\n",
      "  warnings.warn(\n"
     ]
    },
    {
     "name": "stdout",
     "output_type": "stream",
     "text": [
      "mse_bgmm:  tensor(0.0023)\n",
      "mse_tt:  tensor(2.0937e-06)\n",
      "###########\n",
      "2 0 2 0\n",
      "10 5 0.5 0\n",
      "###########\n"
     ]
    },
    {
     "name": "stderr",
     "output_type": "stream",
     "text": [
      "/idiap/temp/sshetty/miniconda/envs/pyml/lib/python3.9/site-packages/sklearn/mixture/_base.py:268: ConvergenceWarning: Initialization 1 did not converge. Try different init parameters, or increase max_iter, tol or check for degenerate data.\n",
      "  warnings.warn(\n"
     ]
    },
    {
     "name": "stdout",
     "output_type": "stream",
     "text": [
      "mse_bgmm:  tensor(0.0014)\n",
      "mse_tt:  tensor(1.1662e-07)\n",
      "###########\n",
      "2 0 2 1\n",
      "10 5 0.5 1\n",
      "###########\n"
     ]
    },
    {
     "name": "stderr",
     "output_type": "stream",
     "text": [
      "/idiap/temp/sshetty/miniconda/envs/pyml/lib/python3.9/site-packages/sklearn/mixture/_base.py:268: ConvergenceWarning: Initialization 1 did not converge. Try different init parameters, or increase max_iter, tol or check for degenerate data.\n",
      "  warnings.warn(\n"
     ]
    },
    {
     "name": "stdout",
     "output_type": "stream",
     "text": [
      "mse_bgmm:  tensor(0.0025)\n",
      "mse_tt:  tensor(1.3321e-07)\n",
      "###########\n",
      "2 0 2 2\n",
      "10 5 0.5 2\n",
      "###########\n"
     ]
    },
    {
     "name": "stderr",
     "output_type": "stream",
     "text": [
      "/idiap/temp/sshetty/miniconda/envs/pyml/lib/python3.9/site-packages/sklearn/mixture/_base.py:268: ConvergenceWarning: Initialization 1 did not converge. Try different init parameters, or increase max_iter, tol or check for degenerate data.\n",
      "  warnings.warn(\n"
     ]
    },
    {
     "name": "stdout",
     "output_type": "stream",
     "text": [
      "mse_bgmm:  tensor(0.0017)\n",
      "mse_tt:  tensor(7.6387e-08)\n",
      "###########\n",
      "2 0 3 0\n",
      "10 5 0.75 0\n",
      "###########\n"
     ]
    },
    {
     "name": "stderr",
     "output_type": "stream",
     "text": [
      "/idiap/temp/sshetty/miniconda/envs/pyml/lib/python3.9/site-packages/sklearn/mixture/_base.py:268: ConvergenceWarning: Initialization 1 did not converge. Try different init parameters, or increase max_iter, tol or check for degenerate data.\n",
      "  warnings.warn(\n"
     ]
    },
    {
     "name": "stdout",
     "output_type": "stream",
     "text": [
      "mse_bgmm:  tensor(0.0008)\n",
      "mse_tt:  tensor(2.3080e-09)\n",
      "###########\n",
      "2 0 3 1\n",
      "10 5 0.75 1\n",
      "###########\n"
     ]
    },
    {
     "name": "stderr",
     "output_type": "stream",
     "text": [
      "/idiap/temp/sshetty/miniconda/envs/pyml/lib/python3.9/site-packages/sklearn/mixture/_base.py:268: ConvergenceWarning: Initialization 1 did not converge. Try different init parameters, or increase max_iter, tol or check for degenerate data.\n",
      "  warnings.warn(\n"
     ]
    },
    {
     "name": "stdout",
     "output_type": "stream",
     "text": [
      "mse_bgmm:  tensor(0.0007)\n",
      "mse_tt:  tensor(2.8521e-09)\n",
      "###########\n",
      "2 0 3 2\n",
      "10 5 0.75 2\n",
      "###########\n"
     ]
    },
    {
     "name": "stderr",
     "output_type": "stream",
     "text": [
      "/idiap/temp/sshetty/miniconda/envs/pyml/lib/python3.9/site-packages/sklearn/mixture/_base.py:268: ConvergenceWarning: Initialization 1 did not converge. Try different init parameters, or increase max_iter, tol or check for degenerate data.\n",
      "  warnings.warn(\n"
     ]
    },
    {
     "name": "stdout",
     "output_type": "stream",
     "text": [
      "mse_bgmm:  tensor(0.0006)\n",
      "mse_tt:  tensor(2.5917e-09)\n",
      "###########\n",
      "2 1 0 0\n",
      "10 10 0.1 0\n",
      "###########\n"
     ]
    },
    {
     "name": "stderr",
     "output_type": "stream",
     "text": [
      "/idiap/temp/sshetty/miniconda/envs/pyml/lib/python3.9/site-packages/sklearn/mixture/_base.py:268: ConvergenceWarning: Initialization 1 did not converge. Try different init parameters, or increase max_iter, tol or check for degenerate data.\n",
      "  warnings.warn(\n"
     ]
    },
    {
     "name": "stdout",
     "output_type": "stream",
     "text": [
      "mse_bgmm:  tensor(0.0002)\n",
      "mse_tt:  tensor(8.3547e-07)\n",
      "###########\n",
      "2 1 0 1\n",
      "10 10 0.1 1\n",
      "###########\n"
     ]
    },
    {
     "name": "stderr",
     "output_type": "stream",
     "text": [
      "/idiap/temp/sshetty/miniconda/envs/pyml/lib/python3.9/site-packages/sklearn/mixture/_base.py:268: ConvergenceWarning: Initialization 1 did not converge. Try different init parameters, or increase max_iter, tol or check for degenerate data.\n",
      "  warnings.warn(\n"
     ]
    },
    {
     "name": "stdout",
     "output_type": "stream",
     "text": [
      "mse_bgmm:  tensor(7.8268e-05)\n",
      "mse_tt:  tensor(1.0738e-06)\n",
      "###########\n",
      "2 1 0 2\n",
      "10 10 0.1 2\n",
      "###########\n"
     ]
    },
    {
     "name": "stderr",
     "output_type": "stream",
     "text": [
      "/idiap/temp/sshetty/miniconda/envs/pyml/lib/python3.9/site-packages/sklearn/mixture/_base.py:268: ConvergenceWarning: Initialization 1 did not converge. Try different init parameters, or increase max_iter, tol or check for degenerate data.\n",
      "  warnings.warn(\n"
     ]
    },
    {
     "name": "stdout",
     "output_type": "stream",
     "text": [
      "mse_bgmm:  tensor(2.5734e-07)\n",
      "mse_tt:  tensor(2.5516e-08)\n",
      "###########\n",
      "2 1 1 0\n",
      "10 10 0.25 0\n",
      "###########\n"
     ]
    },
    {
     "name": "stderr",
     "output_type": "stream",
     "text": [
      "/idiap/temp/sshetty/miniconda/envs/pyml/lib/python3.9/site-packages/sklearn/mixture/_base.py:268: ConvergenceWarning: Initialization 1 did not converge. Try different init parameters, or increase max_iter, tol or check for degenerate data.\n",
      "  warnings.warn(\n"
     ]
    },
    {
     "name": "stdout",
     "output_type": "stream",
     "text": [
      "mse_bgmm:  tensor(0.0084)\n",
      "mse_tt:  tensor(4.3193e-06)\n",
      "###########\n",
      "2 1 1 1\n",
      "10 10 0.25 1\n",
      "###########\n"
     ]
    },
    {
     "name": "stderr",
     "output_type": "stream",
     "text": [
      "/idiap/temp/sshetty/miniconda/envs/pyml/lib/python3.9/site-packages/sklearn/mixture/_base.py:268: ConvergenceWarning: Initialization 1 did not converge. Try different init parameters, or increase max_iter, tol or check for degenerate data.\n",
      "  warnings.warn(\n"
     ]
    },
    {
     "name": "stdout",
     "output_type": "stream",
     "text": [
      "mse_bgmm:  tensor(0.0055)\n",
      "mse_tt:  tensor(4.4869e-06)\n",
      "###########\n",
      "2 1 1 2\n",
      "10 10 0.25 2\n",
      "###########\n"
     ]
    },
    {
     "name": "stderr",
     "output_type": "stream",
     "text": [
      "/idiap/temp/sshetty/miniconda/envs/pyml/lib/python3.9/site-packages/sklearn/mixture/_base.py:268: ConvergenceWarning: Initialization 1 did not converge. Try different init parameters, or increase max_iter, tol or check for degenerate data.\n",
      "  warnings.warn(\n"
     ]
    },
    {
     "name": "stdout",
     "output_type": "stream",
     "text": [
      "mse_bgmm:  tensor(0.0046)\n",
      "mse_tt:  tensor(4.2443e-06)\n",
      "###########\n",
      "2 1 2 0\n",
      "10 10 0.5 0\n",
      "###########\n"
     ]
    },
    {
     "name": "stderr",
     "output_type": "stream",
     "text": [
      "/idiap/temp/sshetty/miniconda/envs/pyml/lib/python3.9/site-packages/sklearn/mixture/_base.py:268: ConvergenceWarning: Initialization 1 did not converge. Try different init parameters, or increase max_iter, tol or check for degenerate data.\n",
      "  warnings.warn(\n"
     ]
    },
    {
     "name": "stdout",
     "output_type": "stream",
     "text": [
      "mse_bgmm:  tensor(0.0386)\n",
      "mse_tt:  tensor(7.1343e-08)\n",
      "###########\n",
      "2 1 2 1\n",
      "10 10 0.5 1\n",
      "###########\n"
     ]
    },
    {
     "name": "stderr",
     "output_type": "stream",
     "text": [
      "/idiap/temp/sshetty/miniconda/envs/pyml/lib/python3.9/site-packages/sklearn/mixture/_base.py:268: ConvergenceWarning: Initialization 1 did not converge. Try different init parameters, or increase max_iter, tol or check for degenerate data.\n",
      "  warnings.warn(\n"
     ]
    },
    {
     "name": "stdout",
     "output_type": "stream",
     "text": [
      "mse_bgmm:  tensor(0.0022)\n",
      "mse_tt:  tensor(5.5921e-08)\n",
      "###########\n",
      "2 1 2 2\n",
      "10 10 0.5 2\n",
      "###########\n"
     ]
    },
    {
     "name": "stderr",
     "output_type": "stream",
     "text": [
      "/idiap/temp/sshetty/miniconda/envs/pyml/lib/python3.9/site-packages/sklearn/mixture/_base.py:268: ConvergenceWarning: Initialization 1 did not converge. Try different init parameters, or increase max_iter, tol or check for degenerate data.\n",
      "  warnings.warn(\n"
     ]
    },
    {
     "name": "stdout",
     "output_type": "stream",
     "text": [
      "mse_bgmm:  tensor(0.0506)\n",
      "mse_tt:  tensor(7.0548e-08)\n",
      "###########\n",
      "2 1 3 0\n",
      "10 10 0.75 0\n",
      "###########\n"
     ]
    },
    {
     "name": "stderr",
     "output_type": "stream",
     "text": [
      "/idiap/temp/sshetty/miniconda/envs/pyml/lib/python3.9/site-packages/sklearn/mixture/_base.py:268: ConvergenceWarning: Initialization 1 did not converge. Try different init parameters, or increase max_iter, tol or check for degenerate data.\n",
      "  warnings.warn(\n"
     ]
    },
    {
     "name": "stdout",
     "output_type": "stream",
     "text": [
      "mse_bgmm:  tensor(0.0006)\n",
      "mse_tt:  tensor(2.5904e-09)\n",
      "###########\n",
      "2 1 3 1\n",
      "10 10 0.75 1\n",
      "###########\n"
     ]
    },
    {
     "name": "stderr",
     "output_type": "stream",
     "text": [
      "/idiap/temp/sshetty/miniconda/envs/pyml/lib/python3.9/site-packages/sklearn/mixture/_base.py:268: ConvergenceWarning: Initialization 1 did not converge. Try different init parameters, or increase max_iter, tol or check for degenerate data.\n",
      "  warnings.warn(\n"
     ]
    },
    {
     "name": "stdout",
     "output_type": "stream",
     "text": [
      "mse_bgmm:  tensor(0.0005)\n",
      "mse_tt:  tensor(2.4234e-09)\n",
      "###########\n",
      "2 1 3 2\n",
      "10 10 0.75 2\n",
      "###########\n"
     ]
    },
    {
     "name": "stderr",
     "output_type": "stream",
     "text": [
      "/idiap/temp/sshetty/miniconda/envs/pyml/lib/python3.9/site-packages/sklearn/mixture/_base.py:268: ConvergenceWarning: Initialization 1 did not converge. Try different init parameters, or increase max_iter, tol or check for degenerate data.\n",
      "  warnings.warn(\n"
     ]
    },
    {
     "name": "stdout",
     "output_type": "stream",
     "text": [
      "mse_bgmm:  tensor(0.0011)\n",
      "mse_tt:  tensor(2.9529e-09)\n",
      "###########\n",
      "2 2 0 0\n",
      "10 20 0.1 0\n",
      "###########\n"
     ]
    },
    {
     "name": "stderr",
     "output_type": "stream",
     "text": [
      "/idiap/temp/sshetty/miniconda/envs/pyml/lib/python3.9/site-packages/sklearn/mixture/_base.py:268: ConvergenceWarning: Initialization 1 did not converge. Try different init parameters, or increase max_iter, tol or check for degenerate data.\n",
      "  warnings.warn(\n"
     ]
    },
    {
     "name": "stdout",
     "output_type": "stream",
     "text": [
      "mse_bgmm:  tensor(0.0004)\n",
      "mse_tt:  tensor(2.5779e-06)\n",
      "###########\n",
      "2 2 0 1\n",
      "10 20 0.1 1\n",
      "###########\n"
     ]
    },
    {
     "name": "stderr",
     "output_type": "stream",
     "text": [
      "/idiap/temp/sshetty/miniconda/envs/pyml/lib/python3.9/site-packages/sklearn/mixture/_base.py:268: ConvergenceWarning: Initialization 1 did not converge. Try different init parameters, or increase max_iter, tol or check for degenerate data.\n",
      "  warnings.warn(\n"
     ]
    },
    {
     "name": "stdout",
     "output_type": "stream",
     "text": [
      "mse_bgmm:  tensor(0.0007)\n",
      "mse_tt:  tensor(2.5085e-06)\n",
      "###########\n",
      "2 2 0 2\n",
      "10 20 0.1 2\n",
      "###########\n"
     ]
    },
    {
     "name": "stderr",
     "output_type": "stream",
     "text": [
      "/idiap/temp/sshetty/miniconda/envs/pyml/lib/python3.9/site-packages/sklearn/mixture/_base.py:268: ConvergenceWarning: Initialization 1 did not converge. Try different init parameters, or increase max_iter, tol or check for degenerate data.\n",
      "  warnings.warn(\n"
     ]
    },
    {
     "name": "stdout",
     "output_type": "stream",
     "text": [
      "mse_bgmm:  tensor(0.0001)\n",
      "mse_tt:  tensor(1.8102e-06)\n",
      "###########\n",
      "2 2 1 0\n",
      "10 20 0.25 0\n",
      "###########\n"
     ]
    },
    {
     "name": "stderr",
     "output_type": "stream",
     "text": [
      "/idiap/temp/sshetty/miniconda/envs/pyml/lib/python3.9/site-packages/sklearn/mixture/_base.py:268: ConvergenceWarning: Initialization 1 did not converge. Try different init parameters, or increase max_iter, tol or check for degenerate data.\n",
      "  warnings.warn(\n"
     ]
    },
    {
     "name": "stdout",
     "output_type": "stream",
     "text": [
      "mse_bgmm:  tensor(23203.2820)\n",
      "mse_tt:  tensor(5.2206e-06)\n",
      "###########\n",
      "2 2 1 1\n",
      "10 20 0.25 1\n",
      "###########\n"
     ]
    },
    {
     "name": "stderr",
     "output_type": "stream",
     "text": [
      "/idiap/temp/sshetty/miniconda/envs/pyml/lib/python3.9/site-packages/sklearn/mixture/_base.py:268: ConvergenceWarning: Initialization 1 did not converge. Try different init parameters, or increase max_iter, tol or check for degenerate data.\n",
      "  warnings.warn(\n"
     ]
    },
    {
     "name": "stdout",
     "output_type": "stream",
     "text": [
      "mse_bgmm:  tensor(0.0197)\n",
      "mse_tt:  tensor(4.6819e-06)\n",
      "###########\n",
      "2 2 1 2\n",
      "10 20 0.25 2\n",
      "###########\n"
     ]
    },
    {
     "name": "stderr",
     "output_type": "stream",
     "text": [
      "/idiap/temp/sshetty/miniconda/envs/pyml/lib/python3.9/site-packages/sklearn/mixture/_base.py:268: ConvergenceWarning: Initialization 1 did not converge. Try different init parameters, or increase max_iter, tol or check for degenerate data.\n",
      "  warnings.warn(\n"
     ]
    },
    {
     "name": "stdout",
     "output_type": "stream",
     "text": [
      "mse_bgmm:  tensor(0.0202)\n",
      "mse_tt:  tensor(5.0775e-06)\n",
      "###########\n",
      "2 2 2 0\n",
      "10 20 0.5 0\n",
      "###########\n"
     ]
    },
    {
     "name": "stderr",
     "output_type": "stream",
     "text": [
      "/idiap/temp/sshetty/miniconda/envs/pyml/lib/python3.9/site-packages/sklearn/mixture/_base.py:268: ConvergenceWarning: Initialization 1 did not converge. Try different init parameters, or increase max_iter, tol or check for degenerate data.\n",
      "  warnings.warn(\n"
     ]
    },
    {
     "name": "stdout",
     "output_type": "stream",
     "text": [
      "mse_bgmm:  tensor(0.0031)\n",
      "mse_tt:  tensor(2.4485e-08)\n",
      "###########\n",
      "2 2 2 1\n",
      "10 20 0.5 1\n",
      "###########\n"
     ]
    },
    {
     "name": "stderr",
     "output_type": "stream",
     "text": [
      "/idiap/temp/sshetty/miniconda/envs/pyml/lib/python3.9/site-packages/sklearn/mixture/_base.py:268: ConvergenceWarning: Initialization 1 did not converge. Try different init parameters, or increase max_iter, tol or check for degenerate data.\n",
      "  warnings.warn(\n"
     ]
    },
    {
     "name": "stdout",
     "output_type": "stream",
     "text": [
      "mse_bgmm:  tensor(0.0031)\n",
      "mse_tt:  tensor(2.4524e-08)\n",
      "###########\n",
      "2 2 2 2\n",
      "10 20 0.5 2\n",
      "###########\n"
     ]
    },
    {
     "name": "stderr",
     "output_type": "stream",
     "text": [
      "/idiap/temp/sshetty/miniconda/envs/pyml/lib/python3.9/site-packages/sklearn/mixture/_base.py:268: ConvergenceWarning: Initialization 1 did not converge. Try different init parameters, or increase max_iter, tol or check for degenerate data.\n",
      "  warnings.warn(\n"
     ]
    },
    {
     "name": "stdout",
     "output_type": "stream",
     "text": [
      "mse_bgmm:  tensor(0.0025)\n",
      "mse_tt:  tensor(2.4727e-08)\n",
      "###########\n",
      "2 2 3 0\n",
      "10 20 0.75 0\n",
      "###########\n"
     ]
    },
    {
     "name": "stderr",
     "output_type": "stream",
     "text": [
      "/idiap/temp/sshetty/miniconda/envs/pyml/lib/python3.9/site-packages/sklearn/mixture/_base.py:268: ConvergenceWarning: Initialization 1 did not converge. Try different init parameters, or increase max_iter, tol or check for degenerate data.\n",
      "  warnings.warn(\n"
     ]
    },
    {
     "name": "stdout",
     "output_type": "stream",
     "text": [
      "mse_bgmm:  tensor(0.0011)\n",
      "mse_tt:  tensor(2.7418e-09)\n",
      "###########\n",
      "2 2 3 1\n",
      "10 20 0.75 1\n",
      "###########\n"
     ]
    },
    {
     "name": "stderr",
     "output_type": "stream",
     "text": [
      "/idiap/temp/sshetty/miniconda/envs/pyml/lib/python3.9/site-packages/sklearn/mixture/_base.py:268: ConvergenceWarning: Initialization 1 did not converge. Try different init parameters, or increase max_iter, tol or check for degenerate data.\n",
      "  warnings.warn(\n"
     ]
    },
    {
     "name": "stdout",
     "output_type": "stream",
     "text": [
      "mse_bgmm:  tensor(0.0014)\n",
      "mse_tt:  tensor(2.6941e-09)\n",
      "###########\n",
      "2 2 3 2\n",
      "10 20 0.75 2\n",
      "###########\n"
     ]
    },
    {
     "name": "stderr",
     "output_type": "stream",
     "text": [
      "/idiap/temp/sshetty/miniconda/envs/pyml/lib/python3.9/site-packages/sklearn/mixture/_base.py:268: ConvergenceWarning: Initialization 1 did not converge. Try different init parameters, or increase max_iter, tol or check for degenerate data.\n",
      "  warnings.warn(\n"
     ]
    },
    {
     "name": "stdout",
     "output_type": "stream",
     "text": [
      "mse_bgmm:  tensor(0.0015)\n",
      "mse_tt:  tensor(3.0406e-09)\n"
     ]
    }
   ],
   "source": [
    "dim_list = [2,5,10]\n",
    "mix_list = [5,10,20]\n",
    "s_list =[0.1,0.25, 0.5, 0.75]\n",
    "\n",
    "Ndim = len(dim_list)\n",
    "Nmix = len(mix_list)\n",
    "Ns = len(s_list)\n",
    "Nt = 3\n",
    "\n",
    "tt_data_err = torch.empty((Ndim, Nmix, Ns,Nt))\n",
    "tt_data_time = torch.empty((Ndim, Nmix, Ns,Nt))\n",
    "tt_data_rank = torch.empty((Ndim, Nmix, Ns,Nt))\n",
    "\n",
    "bgmm_data_err = torch.empty((Ndim, Nmix, Ns,Nt))\n",
    "bgmm_data_time = torch.empty((Ndim, Nmix, Ns,Nt))\n",
    "L = 1.0\n",
    "\n",
    "for i, dim_ in enumerate(dim_list):\n",
    "    for j, nmix_ in enumerate(mix_list):\n",
    "        for k, s_ in enumerate(s_list):\n",
    "            for p in range(Nt):\n",
    "                print(\"###########\")\n",
    "                print(i,j,k,p)\n",
    "                print(dim_,nmix_,s_,p)\n",
    "                print(\"###########\")\n",
    "                gmm = GMM(n=dim_,nmix=nmix_,L=L,mx_coef=None,mu=None,s=s_, device=device)\n",
    "                pdf = gmm.pdf\n",
    "                ndata_train = int(1e5)*dim_\n",
    "                x_train = 2*L*(-0.5 + torch.rand((ndata_train,dim_)).to(device))\n",
    "                y_train = pdf(x_train).view(-1,1)\n",
    "                ndata_test = 10000\n",
    "                x_test = 2*L*(-0.5 + torch.rand((ndata_test,dim_)).to(device))\n",
    "                y_test = pdf(x_test)\n",
    "                x_test_np = x_test.detach().cpu().numpy()\n",
    "                y_test_np = y_test.detach().cpu().numpy()\n",
    "                bgmm = BGMM(nmix = 2*nmix_)\n",
    "                x_train_np = gmm.generate_sample(ndata_train)\n",
    "                bgmm.load_data(x_train_np)\n",
    "                t01 = time.time()\n",
    "                bgmm.fit()\n",
    "                t02=time.time()\n",
    "                y_bgmm = bgmm.pdf(x_test_np)\n",
    "                mse_bgmm =  (((y_bgmm.reshape(-1)-y_test_np.reshape(-1))/(1e-9+np.abs(y_test_np).reshape(-1)))**2).mean()\n",
    "                 \n",
    "                dt = t02-t01\n",
    "                bgmm_data_err[i,j,k,p] = 1*mse_bgmm\n",
    "                bgmm_data_time[i,j,k,p] = dt\n",
    "                print(\"mse_bgmm: \", mse_bgmm)\n",
    "                \n",
    "                n_discretization = torch.tensor([200]*dim_).to(device)\n",
    "                domain = [torch.linspace(-L,L,n_discretization[i_]).to(device) for i_ in range(dim_)] \n",
    "                t1 = time.time()\n",
    "                tt = cross_approximate(fcn=pdf,  max_batch=10**6, domain=domain, \n",
    "                                        rmax=200, nswp=20, eps=1e-3, verbose=False, \n",
    "                                        kickrank=10, device=device)\n",
    "                t2 = time.time()\n",
    "\n",
    "                y_tt =  get_value(tt_model=tt, x=x_test.to(device),  domain=domain, \n",
    "                                    n_discretization=n_discretization , max_batch=10**5, device=device)\n",
    "\n",
    "                mse_tt = (((y_tt.view(-1)-y_test.view(-1))/(1e-9+y_test.view(-1).abs()))**2).mean()\n",
    "                print(\"mse_tt: \", mse_tt)\n",
    "                tt_data_err[i,j,k,p] = 1*mse_tt\n",
    "                tt_data_rank[i,j,k,p] = max(tt.ranks_tt)\n",
    "                tt_data_time[i,j,k,p] = (t2-t1)\n",
    "\n",
    "\n",
    "                torch.save({'dim_list':dim_list,'s_list':s_list,'mix_list':mix_list,\n",
    "                          'tt_data_err':tt_data_err,\n",
    "                         'tt_data_time':tt_data_time,\n",
    "                         'tt_data_rank':tt_data_rank},'tt_data_2.pt')\n",
    "                torch.save({'dim_list':dim_list,'s_list':s_list,'mix_list':mix_list,\n",
    "                          'bgmm_data_err':bgmm_data_err,\n",
    "                         'bgmm_data_time':bgmm_data_time},'bgmm_data_2.pt')"
   ]
  },
  {
   "cell_type": "code",
   "execution_count": null,
   "id": "446e12f6",
   "metadata": {},
   "outputs": [],
   "source": []
  },
  {
   "cell_type": "code",
   "execution_count": 5,
   "id": "f999a701",
   "metadata": {},
   "outputs": [],
   "source": [
    "tt_data = torch.load('tt_data_2.pt')\n",
    "bgmm_data = torch.load('bgmm_data_2.pt')"
   ]
  },
  {
   "cell_type": "code",
   "execution_count": 6,
   "id": "3e4962b9",
   "metadata": {},
   "outputs": [],
   "source": [
    "tt_mean = tt_data['tt_data_err'].mean(dim=(-1,-2))\n",
    "tt_std = tt_data['tt_data_err'].std(dim=(-1,-2))\n",
    "\n",
    "bgmm_mean = bgmm_data['bgmm_data_err'].mean(dim=(-1,-2))\n",
    "bgmm_std = bgmm_data['bgmm_data_err'].std(dim=(-1,-2))"
   ]
  },
  {
   "cell_type": "code",
   "execution_count": 7,
   "id": "8d6d9993-5b5e-4ffa-8f53-8974110f3323",
   "metadata": {},
   "outputs": [],
   "source": [
    "tt_bgmm = (tt_data['tt_data_err']/bgmm_data['bgmm_data_err']).detach().cpu()"
   ]
  },
  {
   "cell_type": "code",
   "execution_count": 8,
   "id": "70dc9e1d-b3f4-4726-b4f4-86043d4017ae",
   "metadata": {},
   "outputs": [],
   "source": [
    "y_mean = tt_bgmm.mean(dim=(-1,-2))\n",
    "y_std = tt_bgmm.std(dim=(-1,-2))"
   ]
  },
  {
   "cell_type": "code",
   "execution_count": 9,
   "id": "82bf7fe3",
   "metadata": {},
   "outputs": [
    {
     "data": {
      "text/plain": [
       "[2, 5, 10]"
      ]
     },
     "execution_count": 9,
     "metadata": {},
     "output_type": "execute_result"
    }
   ],
   "source": [
    "dim_list = tt_data['dim_list']\n",
    "dim_list"
   ]
  },
  {
   "cell_type": "code",
   "execution_count": 10,
   "id": "eb0fee0a",
   "metadata": {},
   "outputs": [
    {
     "data": {
      "text/plain": [
       "[5, 10, 20]"
      ]
     },
     "execution_count": 10,
     "metadata": {},
     "output_type": "execute_result"
    }
   ],
   "source": [
    "mix_list = tt_data['mix_list']\n",
    "mix_list"
   ]
  },
  {
   "cell_type": "code",
   "execution_count": 11,
   "id": "70826373-40cf-4673-8ea3-09c2f23c4a7e",
   "metadata": {},
   "outputs": [
    {
     "data": {
      "text/plain": [
       "[0.1, 0.25, 0.5, 0.75]"
      ]
     },
     "execution_count": 11,
     "metadata": {},
     "output_type": "execute_result"
    }
   ],
   "source": [
    "s_list = tt_data['s_list']\n",
    "s_list"
   ]
  },
  {
   "cell_type": "code",
   "execution_count": 12,
   "id": "f59cffee-56e8-4c4d-a356-83a640e5a68c",
   "metadata": {},
   "outputs": [
    {
     "data": {
      "text/plain": [
       "torch.Size([3, 3])"
      ]
     },
     "execution_count": 12,
     "metadata": {},
     "output_type": "execute_result"
    }
   ],
   "source": [
    "y_mean.shape"
   ]
  },
  {
   "cell_type": "code",
   "execution_count": 13,
   "id": "22bf0f8a-b582-4087-8db7-8aec1348622b",
   "metadata": {},
   "outputs": [
    {
     "data": {
      "image/png": "[encoded data removed]",
      "text/plain": [
       "<Figure size 432x288 with 1 Axes>"
      ]
     },
     "metadata": {
      "needs_background": "light"
     },
     "output_type": "display_data"
    }
   ],
   "source": [
    "import numpy as np\n",
    "import matplotlib\n",
    "import matplotlib.pyplot as plt\n",
    "matplotlib.rcParams.update({'font.size': 10})\n",
    "\n",
    "# Define your data\n",
    "conditions = ['k=5','k=10', 'k=20']\n",
    "m1_means =  y_mean[0] # Mean values for Method 1\n",
    "m1_stdevs = y_std[0]   # Standard deviations for Method 1\n",
    "m2_means = y_mean[1]   # Mean values for Method 2\n",
    "m2_stdevs =  y_std[1]   # Standard deviations for Method 2\n",
    "m3_means = y_mean[2]   # Mean values for Method 2\n",
    "m3_stdevs =  y_std[2]   # Standard deviations for Method 2\n",
    "# m4_means = y_mean[3]   # Mean values for Method 2\n",
    "# m4_stdevs = y_std[3]   # Standard deviations for Method 2\n",
    "\n",
    "\n",
    "\n",
    "# Set the width of the bars\n",
    "bar_width = 0.1\n",
    "\n",
    "# Set the positions of the bars on the x-axis\n",
    "r1 = np.arange(len(conditions))-0.1\n",
    "r2 = [x + bar_width for x in r1]\n",
    "r3 = [x + bar_width for x in r2]\n",
    "# r4 = [x + bar_width for x in r3]\n",
    "\n",
    "# Plot the bars\n",
    "plt.bar(r1, m1_means,  width=bar_width, label='d=2', capsize=5)\n",
    "plt.bar(r2, m2_means,  width=bar_width, label='d=5', capsize=5)\n",
    "plt.bar(r3, m3_means,  width=bar_width, label='d=10', capsize=5)\n",
    "# plt.bar(r4, m4_means,  width=bar_width, label='d=40', capsize=5)\n",
    "\n",
    "# Add labels, title, and legend\n",
    "# plt.xlabel('number of mixture components',fontsize='12')\n",
    "plt.ylabel('Error ratio TT/BGMM',fontsize='13')\n",
    "# plt.title('TT vs NN')\n",
    "plt.xticks([r + bar_width/2 for r in range(len(conditions))], conditions, fontsize=12)\n",
    "plt.legend(ncol=4)\n",
    "plt.yticks(fontsize=12)\n",
    "plt.yscale('log')\n",
    "plt.savefig('tt_vs_bgmm.jpeg', bbox_inches='tight',pad_inches=0.01, dpi=1000)\n",
    "# Show the plot\n",
    "plt.show()\n"
   ]
  },
  {
   "cell_type": "code",
   "execution_count": null,
   "id": "3da23969",
   "metadata": {},
   "outputs": [],
   "source": []
  },
  {
   "cell_type": "code",
   "execution_count": null,
   "id": "a7edc12a-b8bb-461e-ba8d-0eb9d612061b",
   "metadata": {},
   "outputs": [],
   "source": []
  },
  {
   "cell_type": "code",
   "execution_count": null,
   "id": "82295f86-373d-4382-baae-b70535824379",
   "metadata": {},
   "outputs": [],
   "source": []
  }
 ],
 "metadata": {
  "kernelspec": {
   "display_name": "Python 3 (ipykernel)",
   "language": "python",
   "name": "python3"
  },
  "language_info": {
   "codemirror_mode": {
    "name": "ipython",
    "version": 3
   },
   "file_extension": ".py",
   "mimetype": "text/x-python",
   "name": "python",
   "nbconvert_exporter": "python",
   "pygments_lexer": "ipython3",
   "version": "3.9.7"
  }
 },
 "nbformat": 4,
 "nbformat_minor": 5
}
