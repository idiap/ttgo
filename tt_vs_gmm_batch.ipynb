{
 "cells": [
  {
   "cell_type": "code",
   "execution_count": 1,
   "id": "1ddacdf5-a59b-48b1-8431-57c9032fb439",
   "metadata": {},
   "outputs": [],
   "source": [
    "import torch\n",
    "import time\n",
    "from tt_utils import *\n",
    "from fcn_approx_utils import GMM, BGMM"
   ]
  },
  {
   "cell_type": "code",
   "execution_count": 2,
   "id": "ff5e3456-9ee6-4705-a749-de3abd085edc",
   "metadata": {},
   "outputs": [],
   "source": [
    "device = \"cpu\" #torch.device(\"cuda\" if torch.cuda.is_available() else \"cpu\")"
   ]
  },
  {
   "cell_type": "code",
   "execution_count": 3,
   "id": "69ccc462-4ef5-4321-9824-105fbc363d45",
   "metadata": {},
   "outputs": [
    {
     "name": "stdout",
     "output_type": "stream",
     "text": [
      "###########\n",
      "0 0 0 0\n",
      "2 5 0.15 0\n",
      "###########\n"
     ]
    },
    {
     "name": "stderr",
     "output_type": "stream",
     "text": [
      "/idiap/temp/sshetty/miniconda/envs/pyml/lib/python3.9/site-packages/sklearn/mixture/_base.py:268: ConvergenceWarning: Initialization 1 did not converge. Try different init parameters, or increase max_iter, tol or check for degenerate data.\n",
      "  warnings.warn(\n"
     ]
    },
    {
     "name": "stdout",
     "output_type": "stream",
     "text": [
      "mse_bgmm:  tensor(0.3203)\n",
      "mse_tt:  tensor(3.3938e-05)\n",
      "###########\n",
      "0 0 0 1\n",
      "2 5 0.15 1\n",
      "###########\n"
     ]
    },
    {
     "name": "stderr",
     "output_type": "stream",
     "text": [
      "/idiap/temp/sshetty/miniconda/envs/pyml/lib/python3.9/site-packages/sklearn/mixture/_base.py:268: ConvergenceWarning: Initialization 1 did not converge. Try different init parameters, or increase max_iter, tol or check for degenerate data.\n",
      "  warnings.warn(\n"
     ]
    },
    {
     "name": "stdout",
     "output_type": "stream",
     "text": [
      "mse_bgmm:  tensor(0.1323)\n",
      "mse_tt:  tensor(2.8331e-05)\n",
      "###########\n",
      "0 0 0 2\n",
      "2 5 0.15 2\n",
      "###########\n"
     ]
    },
    {
     "name": "stderr",
     "output_type": "stream",
     "text": [
      "/idiap/temp/sshetty/miniconda/envs/pyml/lib/python3.9/site-packages/sklearn/mixture/_base.py:268: ConvergenceWarning: Initialization 1 did not converge. Try different init parameters, or increase max_iter, tol or check for degenerate data.\n",
      "  warnings.warn(\n"
     ]
    },
    {
     "name": "stdout",
     "output_type": "stream",
     "text": [
      "mse_bgmm:  tensor(0.2642)\n",
      "mse_tt:  tensor(3.1604e-05)\n",
      "###########\n",
      "0 0 0 3\n",
      "2 5 0.15 3\n",
      "###########\n"
     ]
    },
    {
     "name": "stderr",
     "output_type": "stream",
     "text": [
      "/idiap/temp/sshetty/miniconda/envs/pyml/lib/python3.9/site-packages/sklearn/mixture/_base.py:268: ConvergenceWarning: Initialization 1 did not converge. Try different init parameters, or increase max_iter, tol or check for degenerate data.\n",
      "  warnings.warn(\n"
     ]
    },
    {
     "name": "stdout",
     "output_type": "stream",
     "text": [
      "mse_bgmm:  tensor(0.0449)\n",
      "mse_tt:  tensor(2.7365e-05)\n",
      "###########\n",
      "0 0 0 4\n",
      "2 5 0.15 4\n",
      "###########\n"
     ]
    },
    {
     "name": "stderr",
     "output_type": "stream",
     "text": [
      "/idiap/temp/sshetty/miniconda/envs/pyml/lib/python3.9/site-packages/sklearn/mixture/_base.py:268: ConvergenceWarning: Initialization 1 did not converge. Try different init parameters, or increase max_iter, tol or check for degenerate data.\n",
      "  warnings.warn(\n"
     ]
    },
    {
     "name": "stdout",
     "output_type": "stream",
     "text": [
      "mse_bgmm:  tensor(34.0130)\n",
      "mse_tt:  tensor(2.6498e-05)\n",
      "###########\n",
      "0 0 1 0\n",
      "2 5 0.3 0\n",
      "###########\n"
     ]
    },
    {
     "name": "stderr",
     "output_type": "stream",
     "text": [
      "/idiap/temp/sshetty/miniconda/envs/pyml/lib/python3.9/site-packages/sklearn/mixture/_base.py:268: ConvergenceWarning: Initialization 1 did not converge. Try different init parameters, or increase max_iter, tol or check for degenerate data.\n",
      "  warnings.warn(\n"
     ]
    },
    {
     "name": "stdout",
     "output_type": "stream",
     "text": [
      "mse_bgmm:  tensor(0.0018)\n",
      "mse_tt:  tensor(2.1828e-07)\n",
      "###########\n",
      "0 0 1 1\n",
      "2 5 0.3 1\n",
      "###########\n"
     ]
    },
    {
     "name": "stderr",
     "output_type": "stream",
     "text": [
      "/idiap/temp/sshetty/miniconda/envs/pyml/lib/python3.9/site-packages/sklearn/mixture/_base.py:268: ConvergenceWarning: Initialization 1 did not converge. Try different init parameters, or increase max_iter, tol or check for degenerate data.\n",
      "  warnings.warn(\n"
     ]
    },
    {
     "name": "stdout",
     "output_type": "stream",
     "text": [
      "mse_bgmm:  tensor(0.0042)\n",
      "mse_tt:  tensor(2.6531e-07)\n",
      "###########\n",
      "0 0 1 2\n",
      "2 5 0.3 2\n",
      "###########\n"
     ]
    },
    {
     "name": "stderr",
     "output_type": "stream",
     "text": [
      "/idiap/temp/sshetty/miniconda/envs/pyml/lib/python3.9/site-packages/sklearn/mixture/_base.py:268: ConvergenceWarning: Initialization 1 did not converge. Try different init parameters, or increase max_iter, tol or check for degenerate data.\n",
      "  warnings.warn(\n"
     ]
    },
    {
     "name": "stdout",
     "output_type": "stream",
     "text": [
      "mse_bgmm:  tensor(0.0080)\n",
      "mse_tt:  tensor(2.0067e-07)\n",
      "###########\n",
      "0 0 1 3\n",
      "2 5 0.3 3\n",
      "###########\n"
     ]
    },
    {
     "name": "stderr",
     "output_type": "stream",
     "text": [
      "/idiap/temp/sshetty/miniconda/envs/pyml/lib/python3.9/site-packages/sklearn/mixture/_base.py:268: ConvergenceWarning: Initialization 1 did not converge. Try different init parameters, or increase max_iter, tol or check for degenerate data.\n",
      "  warnings.warn(\n"
     ]
    },
    {
     "name": "stdout",
     "output_type": "stream",
     "text": [
      "mse_bgmm:  tensor(0.0088)\n",
      "mse_tt:  tensor(5.8650e-08)\n",
      "###########\n",
      "0 0 1 4\n",
      "2 5 0.3 4\n",
      "###########\n"
     ]
    },
    {
     "name": "stderr",
     "output_type": "stream",
     "text": [
      "/idiap/temp/sshetty/miniconda/envs/pyml/lib/python3.9/site-packages/sklearn/mixture/_base.py:268: ConvergenceWarning: Initialization 1 did not converge. Try different init parameters, or increase max_iter, tol or check for degenerate data.\n",
      "  warnings.warn(\n"
     ]
    },
    {
     "name": "stdout",
     "output_type": "stream",
     "text": [
      "mse_bgmm:  tensor(0.0120)\n",
      "mse_tt:  tensor(3.9641e-07)\n",
      "###########\n",
      "0 0 2 0\n",
      "2 5 0.45 0\n",
      "###########\n"
     ]
    },
    {
     "name": "stderr",
     "output_type": "stream",
     "text": [
      "/idiap/temp/sshetty/miniconda/envs/pyml/lib/python3.9/site-packages/sklearn/mixture/_base.py:268: ConvergenceWarning: Initialization 1 did not converge. Try different init parameters, or increase max_iter, tol or check for degenerate data.\n",
      "  warnings.warn(\n"
     ]
    },
    {
     "name": "stdout",
     "output_type": "stream",
     "text": [
      "mse_bgmm:  tensor(0.0012)\n",
      "mse_tt:  tensor(2.8331e-09)\n",
      "###########\n",
      "0 0 2 1\n",
      "2 5 0.45 1\n",
      "###########\n"
     ]
    },
    {
     "name": "stderr",
     "output_type": "stream",
     "text": [
      "/idiap/temp/sshetty/miniconda/envs/pyml/lib/python3.9/site-packages/sklearn/mixture/_base.py:268: ConvergenceWarning: Initialization 1 did not converge. Try different init parameters, or increase max_iter, tol or check for degenerate data.\n",
      "  warnings.warn(\n"
     ]
    },
    {
     "name": "stdout",
     "output_type": "stream",
     "text": [
      "mse_bgmm:  tensor(0.0030)\n",
      "mse_tt:  tensor(1.1001e-08)\n",
      "###########\n",
      "0 0 2 2\n",
      "2 5 0.45 2\n",
      "###########\n"
     ]
    },
    {
     "name": "stderr",
     "output_type": "stream",
     "text": [
      "/idiap/temp/sshetty/miniconda/envs/pyml/lib/python3.9/site-packages/sklearn/mixture/_base.py:268: ConvergenceWarning: Initialization 1 did not converge. Try different init parameters, or increase max_iter, tol or check for degenerate data.\n",
      "  warnings.warn(\n"
     ]
    },
    {
     "name": "stdout",
     "output_type": "stream",
     "text": [
      "mse_bgmm:  tensor(0.0016)\n",
      "mse_tt:  tensor(1.1452e-08)\n",
      "###########\n",
      "0 0 2 3\n",
      "2 5 0.45 3\n",
      "###########\n"
     ]
    },
    {
     "name": "stderr",
     "output_type": "stream",
     "text": [
      "/idiap/temp/sshetty/miniconda/envs/pyml/lib/python3.9/site-packages/sklearn/mixture/_base.py:268: ConvergenceWarning: Initialization 1 did not converge. Try different init parameters, or increase max_iter, tol or check for degenerate data.\n",
      "  warnings.warn(\n"
     ]
    },
    {
     "name": "stdout",
     "output_type": "stream",
     "text": [
      "mse_bgmm:  tensor(0.0006)\n",
      "mse_tt:  tensor(2.8508e-09)\n",
      "###########\n",
      "0 0 2 4\n",
      "2 5 0.45 4\n",
      "###########\n"
     ]
    },
    {
     "name": "stderr",
     "output_type": "stream",
     "text": [
      "/idiap/temp/sshetty/miniconda/envs/pyml/lib/python3.9/site-packages/sklearn/mixture/_base.py:268: ConvergenceWarning: Initialization 1 did not converge. Try different init parameters, or increase max_iter, tol or check for degenerate data.\n",
      "  warnings.warn(\n"
     ]
    },
    {
     "name": "stdout",
     "output_type": "stream",
     "text": [
      "mse_bgmm:  tensor(0.0015)\n",
      "mse_tt:  tensor(1.7704e-09)\n",
      "###########\n",
      "0 1 0 0\n",
      "2 10 0.15 0\n",
      "###########\n"
     ]
    },
    {
     "name": "stderr",
     "output_type": "stream",
     "text": [
      "/idiap/temp/sshetty/miniconda/envs/pyml/lib/python3.9/site-packages/sklearn/mixture/_base.py:268: ConvergenceWarning: Initialization 1 did not converge. Try different init parameters, or increase max_iter, tol or check for degenerate data.\n",
      "  warnings.warn(\n"
     ]
    },
    {
     "name": "stdout",
     "output_type": "stream",
     "text": [
      "mse_bgmm:  tensor(0.0201)\n",
      "mse_tt:  tensor(1.2675e-05)\n",
      "###########\n",
      "0 1 0 1\n",
      "2 10 0.15 1\n",
      "###########\n"
     ]
    },
    {
     "name": "stderr",
     "output_type": "stream",
     "text": [
      "/idiap/temp/sshetty/miniconda/envs/pyml/lib/python3.9/site-packages/sklearn/mixture/_base.py:268: ConvergenceWarning: Initialization 1 did not converge. Try different init parameters, or increase max_iter, tol or check for degenerate data.\n",
      "  warnings.warn(\n"
     ]
    },
    {
     "name": "stdout",
     "output_type": "stream",
     "text": [
      "mse_bgmm:  tensor(2.0806)\n",
      "mse_tt:  tensor(1.3071e-05)\n",
      "###########\n",
      "0 1 0 2\n",
      "2 10 0.15 2\n",
      "###########\n"
     ]
    },
    {
     "name": "stderr",
     "output_type": "stream",
     "text": [
      "/idiap/temp/sshetty/miniconda/envs/pyml/lib/python3.9/site-packages/sklearn/mixture/_base.py:268: ConvergenceWarning: Initialization 1 did not converge. Try different init parameters, or increase max_iter, tol or check for degenerate data.\n",
      "  warnings.warn(\n"
     ]
    },
    {
     "name": "stdout",
     "output_type": "stream",
     "text": [
      "mse_bgmm:  tensor(0.2488)\n",
      "mse_tt:  tensor(1.5198e-05)\n",
      "###########\n",
      "0 1 0 3\n",
      "2 10 0.15 3\n",
      "###########\n"
     ]
    },
    {
     "name": "stderr",
     "output_type": "stream",
     "text": [
      "/idiap/temp/sshetty/miniconda/envs/pyml/lib/python3.9/site-packages/sklearn/mixture/_base.py:268: ConvergenceWarning: Initialization 1 did not converge. Try different init parameters, or increase max_iter, tol or check for degenerate data.\n",
      "  warnings.warn(\n"
     ]
    },
    {
     "name": "stdout",
     "output_type": "stream",
     "text": [
      "mse_bgmm:  tensor(0.0332)\n",
      "mse_tt:  tensor(6.0333e-06)\n",
      "###########\n",
      "0 1 0 4\n",
      "2 10 0.15 4\n",
      "###########\n"
     ]
    },
    {
     "name": "stderr",
     "output_type": "stream",
     "text": [
      "/idiap/temp/sshetty/miniconda/envs/pyml/lib/python3.9/site-packages/sklearn/mixture/_base.py:268: ConvergenceWarning: Initialization 1 did not converge. Try different init parameters, or increase max_iter, tol or check for degenerate data.\n",
      "  warnings.warn(\n"
     ]
    },
    {
     "name": "stdout",
     "output_type": "stream",
     "text": [
      "mse_bgmm:  tensor(0.0461)\n",
      "mse_tt:  tensor(1.1317e-05)\n",
      "###########\n",
      "0 1 1 0\n",
      "2 10 0.3 0\n",
      "###########\n"
     ]
    },
    {
     "name": "stderr",
     "output_type": "stream",
     "text": [
      "/idiap/temp/sshetty/miniconda/envs/pyml/lib/python3.9/site-packages/sklearn/mixture/_base.py:268: ConvergenceWarning: Initialization 1 did not converge. Try different init parameters, or increase max_iter, tol or check for degenerate data.\n",
      "  warnings.warn(\n"
     ]
    },
    {
     "name": "stdout",
     "output_type": "stream",
     "text": [
      "mse_bgmm:  tensor(0.0034)\n",
      "mse_tt:  tensor(3.2775e-08)\n",
      "###########\n",
      "0 1 1 1\n",
      "2 10 0.3 1\n",
      "###########\n"
     ]
    },
    {
     "name": "stderr",
     "output_type": "stream",
     "text": [
      "/idiap/temp/sshetty/miniconda/envs/pyml/lib/python3.9/site-packages/sklearn/mixture/_base.py:268: ConvergenceWarning: Initialization 1 did not converge. Try different init parameters, or increase max_iter, tol or check for degenerate data.\n",
      "  warnings.warn(\n"
     ]
    },
    {
     "name": "stdout",
     "output_type": "stream",
     "text": [
      "mse_bgmm:  tensor(0.0022)\n",
      "mse_tt:  tensor(2.5341e-08)\n",
      "###########\n",
      "0 1 1 2\n",
      "2 10 0.3 2\n",
      "###########\n"
     ]
    },
    {
     "name": "stderr",
     "output_type": "stream",
     "text": [
      "/idiap/temp/sshetty/miniconda/envs/pyml/lib/python3.9/site-packages/sklearn/mixture/_base.py:268: ConvergenceWarning: Initialization 1 did not converge. Try different init parameters, or increase max_iter, tol or check for degenerate data.\n",
      "  warnings.warn(\n"
     ]
    },
    {
     "name": "stdout",
     "output_type": "stream",
     "text": [
      "mse_bgmm:  tensor(0.0018)\n",
      "mse_tt:  tensor(2.0368e-08)\n",
      "###########\n",
      "0 1 1 3\n",
      "2 10 0.3 3\n",
      "###########\n"
     ]
    },
    {
     "name": "stderr",
     "output_type": "stream",
     "text": [
      "/idiap/temp/sshetty/miniconda/envs/pyml/lib/python3.9/site-packages/sklearn/mixture/_base.py:268: ConvergenceWarning: Initialization 1 did not converge. Try different init parameters, or increase max_iter, tol or check for degenerate data.\n",
      "  warnings.warn(\n"
     ]
    },
    {
     "name": "stdout",
     "output_type": "stream",
     "text": [
      "mse_bgmm:  tensor(0.0024)\n",
      "mse_tt:  tensor(5.5943e-08)\n",
      "###########\n",
      "0 1 1 4\n",
      "2 10 0.3 4\n",
      "###########\n"
     ]
    },
    {
     "name": "stderr",
     "output_type": "stream",
     "text": [
      "/idiap/temp/sshetty/miniconda/envs/pyml/lib/python3.9/site-packages/sklearn/mixture/_base.py:268: ConvergenceWarning: Initialization 1 did not converge. Try different init parameters, or increase max_iter, tol or check for degenerate data.\n",
      "  warnings.warn(\n"
     ]
    },
    {
     "name": "stdout",
     "output_type": "stream",
     "text": [
      "mse_bgmm:  tensor(0.0047)\n",
      "mse_tt:  tensor(6.5445e-08)\n",
      "###########\n",
      "0 1 2 0\n",
      "2 10 0.45 0\n",
      "###########\n"
     ]
    },
    {
     "name": "stderr",
     "output_type": "stream",
     "text": [
      "/idiap/temp/sshetty/miniconda/envs/pyml/lib/python3.9/site-packages/sklearn/mixture/_base.py:268: ConvergenceWarning: Initialization 1 did not converge. Try different init parameters, or increase max_iter, tol or check for degenerate data.\n",
      "  warnings.warn(\n"
     ]
    },
    {
     "name": "stdout",
     "output_type": "stream",
     "text": [
      "mse_bgmm:  tensor(0.0029)\n",
      "mse_tt:  tensor(2.5002e-09)\n",
      "###########\n",
      "0 1 2 1\n",
      "2 10 0.45 1\n",
      "###########\n"
     ]
    },
    {
     "name": "stderr",
     "output_type": "stream",
     "text": [
      "/idiap/temp/sshetty/miniconda/envs/pyml/lib/python3.9/site-packages/sklearn/mixture/_base.py:268: ConvergenceWarning: Initialization 1 did not converge. Try different init parameters, or increase max_iter, tol or check for degenerate data.\n",
      "  warnings.warn(\n"
     ]
    },
    {
     "name": "stdout",
     "output_type": "stream",
     "text": [
      "mse_bgmm:  tensor(0.0006)\n",
      "mse_tt:  tensor(7.4051e-10)\n",
      "###########\n",
      "0 1 2 2\n",
      "2 10 0.45 2\n",
      "###########\n"
     ]
    },
    {
     "name": "stderr",
     "output_type": "stream",
     "text": [
      "/idiap/temp/sshetty/miniconda/envs/pyml/lib/python3.9/site-packages/sklearn/mixture/_base.py:268: ConvergenceWarning: Initialization 1 did not converge. Try different init parameters, or increase max_iter, tol or check for degenerate data.\n",
      "  warnings.warn(\n"
     ]
    },
    {
     "name": "stdout",
     "output_type": "stream",
     "text": [
      "mse_bgmm:  tensor(0.0020)\n",
      "mse_tt:  tensor(1.5232e-09)\n",
      "###########\n",
      "0 1 2 3\n",
      "2 10 0.45 3\n",
      "###########\n"
     ]
    },
    {
     "name": "stderr",
     "output_type": "stream",
     "text": [
      "/idiap/temp/sshetty/miniconda/envs/pyml/lib/python3.9/site-packages/sklearn/mixture/_base.py:268: ConvergenceWarning: Initialization 1 did not converge. Try different init parameters, or increase max_iter, tol or check for degenerate data.\n",
      "  warnings.warn(\n"
     ]
    },
    {
     "name": "stdout",
     "output_type": "stream",
     "text": [
      "mse_bgmm:  tensor(0.0016)\n",
      "mse_tt:  tensor(2.2228e-09)\n",
      "###########\n",
      "0 1 2 4\n",
      "2 10 0.45 4\n",
      "###########\n"
     ]
    },
    {
     "name": "stderr",
     "output_type": "stream",
     "text": [
      "/idiap/temp/sshetty/miniconda/envs/pyml/lib/python3.9/site-packages/sklearn/mixture/_base.py:268: ConvergenceWarning: Initialization 1 did not converge. Try different init parameters, or increase max_iter, tol or check for degenerate data.\n",
      "  warnings.warn(\n"
     ]
    },
    {
     "name": "stdout",
     "output_type": "stream",
     "text": [
      "mse_bgmm:  tensor(0.0021)\n",
      "mse_tt:  tensor(4.5113e-09)\n",
      "###########\n",
      "0 2 0 0\n",
      "2 20 0.15 0\n",
      "###########\n"
     ]
    },
    {
     "name": "stderr",
     "output_type": "stream",
     "text": [
      "/idiap/temp/sshetty/miniconda/envs/pyml/lib/python3.9/site-packages/sklearn/mixture/_base.py:268: ConvergenceWarning: Initialization 1 did not converge. Try different init parameters, or increase max_iter, tol or check for degenerate data.\n",
      "  warnings.warn(\n"
     ]
    },
    {
     "name": "stdout",
     "output_type": "stream",
     "text": [
      "mse_bgmm:  tensor(0.0217)\n",
      "mse_tt:  tensor(1.2354e-06)\n",
      "###########\n",
      "0 2 0 1\n",
      "2 20 0.15 1\n",
      "###########\n"
     ]
    },
    {
     "name": "stderr",
     "output_type": "stream",
     "text": [
      "/idiap/temp/sshetty/miniconda/envs/pyml/lib/python3.9/site-packages/sklearn/mixture/_base.py:268: ConvergenceWarning: Initialization 1 did not converge. Try different init parameters, or increase max_iter, tol or check for degenerate data.\n",
      "  warnings.warn(\n"
     ]
    },
    {
     "name": "stdout",
     "output_type": "stream",
     "text": [
      "mse_bgmm:  tensor(0.0215)\n",
      "mse_tt:  tensor(2.3618e-06)\n",
      "###########\n",
      "0 2 0 2\n",
      "2 20 0.15 2\n",
      "###########\n"
     ]
    },
    {
     "name": "stderr",
     "output_type": "stream",
     "text": [
      "/idiap/temp/sshetty/miniconda/envs/pyml/lib/python3.9/site-packages/sklearn/mixture/_base.py:268: ConvergenceWarning: Initialization 1 did not converge. Try different init parameters, or increase max_iter, tol or check for degenerate data.\n",
      "  warnings.warn(\n"
     ]
    },
    {
     "name": "stdout",
     "output_type": "stream",
     "text": [
      "mse_bgmm:  tensor(0.0120)\n",
      "mse_tt:  tensor(1.0411e-06)\n",
      "###########\n",
      "0 2 0 3\n",
      "2 20 0.15 3\n",
      "###########\n"
     ]
    },
    {
     "name": "stderr",
     "output_type": "stream",
     "text": [
      "/idiap/temp/sshetty/miniconda/envs/pyml/lib/python3.9/site-packages/sklearn/mixture/_base.py:268: ConvergenceWarning: Initialization 1 did not converge. Try different init parameters, or increase max_iter, tol or check for degenerate data.\n",
      "  warnings.warn(\n"
     ]
    },
    {
     "name": "stdout",
     "output_type": "stream",
     "text": [
      "mse_bgmm:  tensor(0.1563)\n",
      "mse_tt:  tensor(6.2914e-06)\n",
      "###########\n",
      "0 2 0 4\n",
      "2 20 0.15 4\n",
      "###########\n"
     ]
    },
    {
     "name": "stderr",
     "output_type": "stream",
     "text": [
      "/idiap/temp/sshetty/miniconda/envs/pyml/lib/python3.9/site-packages/sklearn/mixture/_base.py:268: ConvergenceWarning: Initialization 1 did not converge. Try different init parameters, or increase max_iter, tol or check for degenerate data.\n",
      "  warnings.warn(\n"
     ]
    },
    {
     "name": "stdout",
     "output_type": "stream",
     "text": [
      "mse_bgmm:  tensor(0.0398)\n",
      "mse_tt:  tensor(1.9327e-06)\n",
      "###########\n",
      "0 2 1 0\n",
      "2 20 0.3 0\n",
      "###########\n"
     ]
    },
    {
     "name": "stderr",
     "output_type": "stream",
     "text": [
      "/idiap/temp/sshetty/miniconda/envs/pyml/lib/python3.9/site-packages/sklearn/mixture/_base.py:268: ConvergenceWarning: Initialization 1 did not converge. Try different init parameters, or increase max_iter, tol or check for degenerate data.\n",
      "  warnings.warn(\n"
     ]
    },
    {
     "name": "stdout",
     "output_type": "stream",
     "text": [
      "mse_bgmm:  tensor(0.0023)\n",
      "mse_tt:  tensor(1.2806e-08)\n",
      "###########\n",
      "0 2 1 1\n",
      "2 20 0.3 1\n",
      "###########\n"
     ]
    },
    {
     "name": "stderr",
     "output_type": "stream",
     "text": [
      "/idiap/temp/sshetty/miniconda/envs/pyml/lib/python3.9/site-packages/sklearn/mixture/_base.py:268: ConvergenceWarning: Initialization 1 did not converge. Try different init parameters, or increase max_iter, tol or check for degenerate data.\n",
      "  warnings.warn(\n"
     ]
    },
    {
     "name": "stdout",
     "output_type": "stream",
     "text": [
      "mse_bgmm:  tensor(0.0013)\n",
      "mse_tt:  tensor(7.6098e-09)\n",
      "###########\n",
      "0 2 1 2\n",
      "2 20 0.3 2\n",
      "###########\n"
     ]
    },
    {
     "name": "stderr",
     "output_type": "stream",
     "text": [
      "/idiap/temp/sshetty/miniconda/envs/pyml/lib/python3.9/site-packages/sklearn/mixture/_base.py:268: ConvergenceWarning: Initialization 1 did not converge. Try different init parameters, or increase max_iter, tol or check for degenerate data.\n",
      "  warnings.warn(\n"
     ]
    },
    {
     "name": "stdout",
     "output_type": "stream",
     "text": [
      "mse_bgmm:  tensor(0.0021)\n",
      "mse_tt:  tensor(9.4207e-09)\n",
      "###########\n",
      "0 2 1 3\n",
      "2 20 0.3 3\n",
      "###########\n"
     ]
    },
    {
     "name": "stderr",
     "output_type": "stream",
     "text": [
      "/idiap/temp/sshetty/miniconda/envs/pyml/lib/python3.9/site-packages/sklearn/mixture/_base.py:268: ConvergenceWarning: Initialization 1 did not converge. Try different init parameters, or increase max_iter, tol or check for degenerate data.\n",
      "  warnings.warn(\n"
     ]
    },
    {
     "name": "stdout",
     "output_type": "stream",
     "text": [
      "mse_bgmm:  tensor(0.0027)\n",
      "mse_tt:  tensor(1.7309e-08)\n",
      "###########\n",
      "0 2 1 4\n",
      "2 20 0.3 4\n",
      "###########\n"
     ]
    },
    {
     "name": "stderr",
     "output_type": "stream",
     "text": [
      "/idiap/temp/sshetty/miniconda/envs/pyml/lib/python3.9/site-packages/sklearn/mixture/_base.py:268: ConvergenceWarning: Initialization 1 did not converge. Try different init parameters, or increase max_iter, tol or check for degenerate data.\n",
      "  warnings.warn(\n"
     ]
    },
    {
     "name": "stdout",
     "output_type": "stream",
     "text": [
      "mse_bgmm:  tensor(0.0030)\n",
      "mse_tt:  tensor(1.3660e-08)\n",
      "###########\n",
      "0 2 2 0\n",
      "2 20 0.45 0\n",
      "###########\n"
     ]
    },
    {
     "name": "stderr",
     "output_type": "stream",
     "text": [
      "/idiap/temp/sshetty/miniconda/envs/pyml/lib/python3.9/site-packages/sklearn/mixture/_base.py:268: ConvergenceWarning: Initialization 1 did not converge. Try different init parameters, or increase max_iter, tol or check for degenerate data.\n",
      "  warnings.warn(\n"
     ]
    },
    {
     "name": "stdout",
     "output_type": "stream",
     "text": [
      "mse_bgmm:  tensor(0.0015)\n",
      "mse_tt:  tensor(7.8087e-10)\n",
      "###########\n",
      "0 2 2 1\n",
      "2 20 0.45 1\n",
      "###########\n"
     ]
    },
    {
     "name": "stderr",
     "output_type": "stream",
     "text": [
      "/idiap/temp/sshetty/miniconda/envs/pyml/lib/python3.9/site-packages/sklearn/mixture/_base.py:268: ConvergenceWarning: Initialization 1 did not converge. Try different init parameters, or increase max_iter, tol or check for degenerate data.\n",
      "  warnings.warn(\n"
     ]
    },
    {
     "name": "stdout",
     "output_type": "stream",
     "text": [
      "mse_bgmm:  tensor(0.0031)\n",
      "mse_tt:  tensor(1.9502e-09)\n",
      "###########\n",
      "0 2 2 2\n",
      "2 20 0.45 2\n",
      "###########\n"
     ]
    },
    {
     "name": "stderr",
     "output_type": "stream",
     "text": [
      "/idiap/temp/sshetty/miniconda/envs/pyml/lib/python3.9/site-packages/sklearn/mixture/_base.py:268: ConvergenceWarning: Initialization 1 did not converge. Try different init parameters, or increase max_iter, tol or check for degenerate data.\n",
      "  warnings.warn(\n"
     ]
    },
    {
     "name": "stdout",
     "output_type": "stream",
     "text": [
      "mse_bgmm:  tensor(0.0031)\n",
      "mse_tt:  tensor(3.9998e-09)\n",
      "###########\n",
      "0 2 2 3\n",
      "2 20 0.45 3\n",
      "###########\n"
     ]
    },
    {
     "name": "stderr",
     "output_type": "stream",
     "text": [
      "/idiap/temp/sshetty/miniconda/envs/pyml/lib/python3.9/site-packages/sklearn/mixture/_base.py:268: ConvergenceWarning: Initialization 1 did not converge. Try different init parameters, or increase max_iter, tol or check for degenerate data.\n",
      "  warnings.warn(\n"
     ]
    },
    {
     "name": "stdout",
     "output_type": "stream",
     "text": [
      "mse_bgmm:  tensor(0.0023)\n",
      "mse_tt:  tensor(1.4578e-09)\n",
      "###########\n",
      "0 2 2 4\n",
      "2 20 0.45 4\n",
      "###########\n"
     ]
    },
    {
     "name": "stderr",
     "output_type": "stream",
     "text": [
      "/idiap/temp/sshetty/miniconda/envs/pyml/lib/python3.9/site-packages/sklearn/mixture/_base.py:268: ConvergenceWarning: Initialization 1 did not converge. Try different init parameters, or increase max_iter, tol or check for degenerate data.\n",
      "  warnings.warn(\n"
     ]
    },
    {
     "name": "stdout",
     "output_type": "stream",
     "text": [
      "mse_bgmm:  tensor(0.0025)\n",
      "mse_tt:  tensor(5.9326e-10)\n",
      "###########\n",
      "1 0 0 0\n",
      "5 5 0.15 0\n",
      "###########\n",
      "mse_bgmm:  tensor(0.0200)\n",
      "mse_tt:  tensor(3.6971e-05)\n",
      "###########\n",
      "1 0 0 1\n",
      "5 5 0.15 1\n",
      "###########\n"
     ]
    },
    {
     "name": "stderr",
     "output_type": "stream",
     "text": [
      "/idiap/temp/sshetty/miniconda/envs/pyml/lib/python3.9/site-packages/sklearn/mixture/_base.py:268: ConvergenceWarning: Initialization 1 did not converge. Try different init parameters, or increase max_iter, tol or check for degenerate data.\n",
      "  warnings.warn(\n"
     ]
    },
    {
     "name": "stdout",
     "output_type": "stream",
     "text": [
      "mse_bgmm:  tensor(4.1408)\n",
      "mse_tt:  tensor(2.2580e-05)\n",
      "###########\n",
      "1 0 0 2\n",
      "5 5 0.15 2\n",
      "###########\n"
     ]
    },
    {
     "name": "stderr",
     "output_type": "stream",
     "text": [
      "/idiap/temp/sshetty/miniconda/envs/pyml/lib/python3.9/site-packages/sklearn/mixture/_base.py:268: ConvergenceWarning: Initialization 1 did not converge. Try different init parameters, or increase max_iter, tol or check for degenerate data.\n",
      "  warnings.warn(\n"
     ]
    },
    {
     "name": "stdout",
     "output_type": "stream",
     "text": [
      "mse_bgmm:  tensor(0.0595)\n",
      "mse_tt:  tensor(4.3673e-05)\n",
      "###########\n",
      "1 0 0 3\n",
      "5 5 0.15 3\n",
      "###########\n",
      "mse_bgmm:  tensor(0.0684)\n",
      "mse_tt:  tensor(3.9662e-05)\n",
      "###########\n",
      "1 0 0 4\n",
      "5 5 0.15 4\n",
      "###########\n",
      "mse_bgmm:  tensor(0.0167)\n",
      "mse_tt:  tensor(2.8373e-05)\n",
      "###########\n",
      "1 0 1 0\n",
      "5 5 0.3 0\n",
      "###########\n"
     ]
    },
    {
     "name": "stderr",
     "output_type": "stream",
     "text": [
      "/idiap/temp/sshetty/miniconda/envs/pyml/lib/python3.9/site-packages/sklearn/mixture/_base.py:268: ConvergenceWarning: Initialization 1 did not converge. Try different init parameters, or increase max_iter, tol or check for degenerate data.\n",
      "  warnings.warn(\n"
     ]
    },
    {
     "name": "stdout",
     "output_type": "stream",
     "text": [
      "mse_bgmm:  tensor(0.0132)\n",
      "mse_tt:  tensor(1.7505e-06)\n",
      "###########\n",
      "1 0 1 1\n",
      "5 5 0.3 1\n",
      "###########\n"
     ]
    },
    {
     "name": "stderr",
     "output_type": "stream",
     "text": [
      "/idiap/temp/sshetty/miniconda/envs/pyml/lib/python3.9/site-packages/sklearn/mixture/_base.py:268: ConvergenceWarning: Initialization 1 did not converge. Try different init parameters, or increase max_iter, tol or check for degenerate data.\n",
      "  warnings.warn(\n"
     ]
    },
    {
     "name": "stdout",
     "output_type": "stream",
     "text": [
      "mse_bgmm:  tensor(9.1601)\n",
      "mse_tt:  tensor(1.8098e-06)\n",
      "###########\n",
      "1 0 1 2\n",
      "5 5 0.3 2\n",
      "###########\n",
      "mse_bgmm:  tensor(0.0185)\n",
      "mse_tt:  tensor(1.7394e-06)\n",
      "###########\n",
      "1 0 1 3\n",
      "5 5 0.3 3\n",
      "###########\n",
      "mse_bgmm:  tensor(0.0244)\n",
      "mse_tt:  tensor(1.9602e-06)\n",
      "###########\n",
      "1 0 1 4\n",
      "5 5 0.3 4\n",
      "###########\n"
     ]
    },
    {
     "name": "stderr",
     "output_type": "stream",
     "text": [
      "/idiap/temp/sshetty/miniconda/envs/pyml/lib/python3.9/site-packages/sklearn/mixture/_base.py:268: ConvergenceWarning: Initialization 1 did not converge. Try different init parameters, or increase max_iter, tol or check for degenerate data.\n",
      "  warnings.warn(\n"
     ]
    },
    {
     "name": "stdout",
     "output_type": "stream",
     "text": [
      "mse_bgmm:  tensor(0.8076)\n",
      "mse_tt:  tensor(2.0173e-06)\n",
      "###########\n",
      "1 0 2 0\n",
      "5 5 0.45 0\n",
      "###########\n"
     ]
    },
    {
     "name": "stderr",
     "output_type": "stream",
     "text": [
      "/idiap/temp/sshetty/miniconda/envs/pyml/lib/python3.9/site-packages/sklearn/mixture/_base.py:268: ConvergenceWarning: Initialization 1 did not converge. Try different init parameters, or increase max_iter, tol or check for degenerate data.\n",
      "  warnings.warn(\n"
     ]
    },
    {
     "name": "stdout",
     "output_type": "stream",
     "text": [
      "mse_bgmm:  tensor(0.0026)\n"
     ]
    }
   ],
   "source": [
    "dim_list = [2,5,10]\n",
    "mix_list = [5,10,20]\n",
    "s_list =[0.15,0.3,0.45]\n",
    "\n",
    "Ndim = len(dim_list)\n",
    "Nmix = len(mix_list)\n",
    "Ns = len(s_list)\n",
    "Nt = 5\n",
    "\n",
    "tt_data_err = torch.empty((Ndim, Nmix, Ns,Nt))\n",
    "tt_data_time = torch.empty((Ndim, Nmix, Ns,Nt))\n",
    "tt_data_rank = torch.empty((Ndim, Nmix, Ns,Nt))\n",
    "\n",
    "bgmm_data_err = torch.empty((Ndim, Nmix, Ns,Nt))\n",
    "bgmm_data_time = torch.empty((Ndim, Nmix, Ns,Nt))\n",
    "L = 1.0\n",
    "\n",
    "for i, dim_ in enumerate(dim_list):\n",
    "    for j, nmix_ in enumerate(mix_list):\n",
    "        for k, s_ in enumerate(s_list):\n",
    "            for p in range(Nt):\n",
    "                print(\"###########\")\n",
    "                print(i,j,k,p)\n",
    "                print(dim_,nmix_,s_,p)\n",
    "                print(\"###########\")\n",
    "                gmm = GMM(n=dim_,nmix=nmix_,L=L,mx_coef=None,mu=None,s=s_, device=device)\n",
    "                pdf = gmm.pdf\n",
    "                ndata_train = int(1e4)*dim_\n",
    "                x_train = 2*L*(-0.5 + torch.rand((ndata_train,dim_)).to(device))\n",
    "                y_train = pdf(x_train).view(-1,1)\n",
    "                ndata_test = 10000\n",
    "                x_test = 2*L*(-0.5 + torch.rand((ndata_test,dim_)).to(device))\n",
    "                y_test = pdf(x_test)\n",
    "                x_test_np = x_test.detach().cpu().numpy()\n",
    "                y_test_np = y_test.detach().cpu().numpy()\n",
    "                bgmm = BGMM(nmix = nmix_)\n",
    "                x_train_np = gmm.generate_sample(ndata_train)\n",
    "                bgmm.load_data(x_train_np)\n",
    "                t01 = time.time()\n",
    "                bgmm.fit()\n",
    "                t02=time.time()\n",
    "                y_bgmm = bgmm.pdf(x_test_np)\n",
    "                mse_bgmm =  (((y_bgmm.reshape(-1)-y_test_np.reshape(-1))/(1e-9+np.abs(y_test_np).reshape(-1)))**2).mean()\n",
    "                 \n",
    "                dt = t02-t01\n",
    "                bgmm_data_err[i,j,k,p] = 1*mse_bgmm\n",
    "                bgmm_data_time[i,j,k,p] = dt\n",
    "                print(\"mse_bgmm: \", mse_bgmm)\n",
    "                \n",
    "                n_discretization = torch.tensor([200]*dim_).to(device)\n",
    "                domain = [torch.linspace(-L,L,n_discretization[i_]).to(device) for i_ in range(dim_)] \n",
    "                t1 = time.time()\n",
    "                tt = cross_approximate(fcn=pdf,  max_batch=10**6, domain=domain, \n",
    "                                        rmax=200, nswp=20, eps=1e-3, verbose=False, \n",
    "                                        kickrank=10, device=device)\n",
    "                t2 = time.time()\n",
    "\n",
    "                y_tt =  get_value(tt_model=tt, x=x_test.to(device),  domain=domain, \n",
    "                                    n_discretization=n_discretization , max_batch=10**5, device=device)\n",
    "\n",
    "                mse_tt = (((y_tt.view(-1)-y_test.view(-1))/(1e-9+y_test.view(-1).abs()))**2).mean()\n",
    "                print(\"mse_tt: \", mse_tt)\n",
    "                tt_data_err[i,j,k,p] = 1*mse_tt\n",
    "                tt_data_rank[i,j,k,p] = max(tt.ranks_tt)\n",
    "                tt_data_time[i,j,k,p] = (t2-t1)\n",
    "\n",
    "\n",
    "                torch.save({'dim_list':dim_list,'s_list':s_list,'mix_list':mix_list,\n",
    "                          'tt_data_err':tt_data_err,\n",
    "                         'tt_data_time':tt_data_time,\n",
    "                         'tt_data_rank':tt_data_rank},'tt_data_2.pt')\n",
    "                torch.save({'dim_list':dim_list,'s_list':s_list,'mix_list':mix_list,\n",
    "                          'bgmm_data_err':bgmm_data_err,\n",
    "                         'bgmm_data_time':bgmm_data_time},'bgmm_data_2.pt')"
   ]
  },
  {
   "cell_type": "code",
   "execution_count": null,
   "id": "f999a701",
   "metadata": {},
   "outputs": [],
   "source": [
    "tt_data = torch.load('tt_data_2.pt')\n",
    "bgmm_data = torch.load('bgmm_data_2.pt')"
   ]
  },
  {
   "cell_type": "code",
   "execution_count": null,
   "id": "3e4962b9",
   "metadata": {},
   "outputs": [],
   "source": [
    "tt_mean = tt_data['tt_data_err'].mean(dim=(-1,-2))\n",
    "tt_std = tt_data['tt_data_err'].std(dim=(-1,-2))\n",
    "\n",
    "bgmm_mean = bgmm_data['bgmm_data_err'].mean(dim=(-1,-2))\n",
    "bgmm_std = bgmm_data['bgmm_data_err'].std(dim=(-1,-2))"
   ]
  },
  {
   "cell_type": "code",
   "execution_count": null,
   "id": "8d6d9993-5b5e-4ffa-8f53-8974110f3323",
   "metadata": {},
   "outputs": [],
   "source": [
    "tt_bgmm = (tt_data['tt_data_err']/bgmm_data['bgmm_data_err']).detach().cpu()"
   ]
  },
  {
   "cell_type": "code",
   "execution_count": null,
   "id": "70dc9e1d-b3f4-4726-b4f4-86043d4017ae",
   "metadata": {},
   "outputs": [],
   "source": [
    "y_mean = tt_bgmm.mean(dim=(-1,-2))\n",
    "y_std = tt_bgmm.std(dim=(-1,-2))"
   ]
  },
  {
   "cell_type": "code",
   "execution_count": null,
   "id": "82bf7fe3",
   "metadata": {},
   "outputs": [],
   "source": [
    "dim_list = tt_data['dim_list']\n",
    "dim_list"
   ]
  },
  {
   "cell_type": "code",
   "execution_count": null,
   "id": "eb0fee0a",
   "metadata": {},
   "outputs": [],
   "source": [
    "mix_list = tt_data['mix_list']\n",
    "mix_list"
   ]
  },
  {
   "cell_type": "code",
   "execution_count": null,
   "id": "70826373-40cf-4673-8ea3-09c2f23c4a7e",
   "metadata": {},
   "outputs": [],
   "source": [
    "s_list = tt_data['s_list']\n",
    "s_list"
   ]
  },
  {
   "cell_type": "code",
   "execution_count": null,
   "id": "f59cffee-56e8-4c4d-a356-83a640e5a68c",
   "metadata": {},
   "outputs": [],
   "source": [
    "y_mean.shape"
   ]
  },
  {
   "cell_type": "code",
   "execution_count": null,
   "id": "22bf0f8a-b582-4087-8db7-8aec1348622b",
   "metadata": {},
   "outputs": [],
   "source": [
    "import numpy as np\n",
    "import matplotlib\n",
    "import matplotlib.pyplot as plt\n",
    "matplotlib.rcParams.update({'font.size': 10})\n",
    "\n",
    "# Define your data\n",
    "conditions = ['k=5','k=10', 'k=20']\n",
    "m1_means =  y_mean[0] # Mean values for Method 1\n",
    "m1_stdevs = y_std[0]   # Standard deviations for Method 1\n",
    "m2_means = y_mean[1]   # Mean values for Method 2\n",
    "m2_stdevs =  y_std[1]   # Standard deviations for Method 2\n",
    "m3_means = y_mean[2]   # Mean values for Method 2\n",
    "m3_stdevs =  y_std[2]   # Standard deviations for Method 2\n",
    "m4_means = y_mean[3]   # Mean values for Method 2\n",
    "m4_stdevs = y_std[3]   # Standard deviations for Method 2\n",
    "\n",
    "\n",
    "\n",
    "# Set the width of the bars\n",
    "bar_width = 0.1\n",
    "\n",
    "# Set the positions of the bars on the x-axis\n",
    "r1 = np.arange(len(conditions))-0.1\n",
    "r2 = [x + bar_width for x in r1]\n",
    "r3 = [x + bar_width for x in r2]\n",
    "r4 = [x + bar_width for x in r3]\n",
    "\n",
    "# Plot the bars\n",
    "plt.bar(r1, m1_means,  width=bar_width, label='d=10', capsize=5)\n",
    "plt.bar(r2, m2_means,  width=bar_width, label='d=20', capsize=5)\n",
    "plt.bar(r3, m3_means,  width=bar_width, label='d=30', capsize=5)\n",
    "plt.bar(r4, m4_means,  width=bar_width, label='d=40', capsize=5)\n",
    "\n",
    "# Add labels, title, and legend\n",
    "# plt.xlabel('number of mixture components',fontsize='12')\n",
    "plt.ylabel('Error ratio TT/NN',fontsize='13')\n",
    "# plt.title('TT vs NN')\n",
    "plt.xticks([r + bar_width/2 for r in range(len(conditions))], conditions, fontsize=12)\n",
    "plt.legend(ncol=4)\n",
    "plt.yticks(fontsize=12)\n",
    "plt.yscale('log')\n",
    "plt.savefig('tt_vs_nn.jpeg', bbox_inches='tight',pad_inches=0.01, dpi=1000)\n",
    "# Show the plot\n",
    "plt.show()\n"
   ]
  },
  {
   "cell_type": "code",
   "execution_count": null,
   "id": "3da23969",
   "metadata": {},
   "outputs": [],
   "source": []
  },
  {
   "cell_type": "code",
   "execution_count": null,
   "id": "a7edc12a-b8bb-461e-ba8d-0eb9d612061b",
   "metadata": {},
   "outputs": [],
   "source": []
  },
  {
   "cell_type": "code",
   "execution_count": null,
   "id": "82295f86-373d-4382-baae-b70535824379",
   "metadata": {},
   "outputs": [],
   "source": []
  }
 ],
 "metadata": {
  "kernelspec": {
   "display_name": "Python 3 (ipykernel)",
   "language": "python",
   "name": "python3"
  },
  "language_info": {
   "codemirror_mode": {
    "name": "ipython",
    "version": 3
   },
   "file_extension": ".py",
   "mimetype": "text/x-python",
   "name": "python",
   "nbconvert_exporter": "python",
   "pygments_lexer": "ipython3",
   "version": "3.9.7"
  }
 },
 "nbformat": 4,
 "nbformat_minor": 5
}
