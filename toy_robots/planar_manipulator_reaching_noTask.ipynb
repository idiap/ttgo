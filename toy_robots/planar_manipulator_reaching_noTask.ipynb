{
 "cells": [
  {
   "cell_type": "markdown",
   "metadata": {},
   "source": [
    "Copyright (c) 2008 Idiap Research Institute, http://www.idiap.ch/\n",
    "    \n",
    "Written by Suhan Shetty <suhan.shetty@idiap.ch>,\n"
   ]
  },
  {
   "cell_type": "markdown",
   "metadata": {},
   "source": [
    "### Motion Planning without task-parameters"
   ]
  },
  {
   "cell_type": "code",
   "execution_count": 1,
   "metadata": {},
   "outputs": [
    {
     "name": "stderr",
     "output_type": "stream",
     "text": [
      "/idiap/temp/sshetty/miniconda/envs/pyml/lib/python3.9/site-packages/tqdm/auto.py:22: TqdmWarning: IProgress not found. Please update jupyter and ipywidgets. See https://ipywidgets.readthedocs.io/en/stable/user_install.html\n",
      "  from .autonotebook import tqdm as notebook_tqdm\n",
      "Matplotlib created a temporary config/cache directory at /tmp/matplotlib-q4z1awsf because the default path (/idiap/home/sshetty/.cache/matplotlib) is not a writable directory; it is highly recommended to set the MPLCONFIGDIR environment variable to a writable directory, in particular to speed up the import of Matplotlib and to better support multiprocessing.\n"
     ]
    }
   ],
   "source": [
    "%load_ext autoreload\n",
    "%autoreload 2\n",
    "import torch\n",
    "import numpy as np \n",
    "torch.set_default_tensor_type(torch.DoubleTensor)\n",
    "from planar_manipulator import PlanarManipulator\n",
    "from plot_utils import plot_chain\n",
    "\n",
    "np.set_printoptions(3, suppress=True)\n",
    "torch.set_printoptions(3, sci_mode=False)\n",
    "\n",
    "import sys\n",
    "sys.path.append('../')\n",
    "from ttgo import TTGO\n",
    "import tt_utils\n",
    "from cost_utils import PlanarManipulatorCost\n",
    "from utils import Point2PointMotion\n",
    "\n",
    "import warnings\n",
    "warnings.filterwarnings('ignore')\n"
   ]
  },
  {
   "cell_type": "code",
   "execution_count": 2,
   "metadata": {},
   "outputs": [
    {
     "name": "stdout",
     "output_type": "stream",
     "text": [
      "Note: Choose cuda if you have enough memory\n"
     ]
    },
    {
     "data": {
      "text/plain": [
       "device(type='cuda')"
      ]
     },
     "execution_count": 2,
     "metadata": {},
     "output_type": "execute_result"
    }
   ],
   "source": [
    "print(\"Note: Choose cuda if you have enough memory\")\n",
    "device = torch.device(\"cuda\" if torch.cuda.is_available() else \"cpu\")\n",
    "device"
   ]
  },
  {
   "cell_type": "code",
   "execution_count": 3,
   "metadata": {},
   "outputs": [],
   "source": [
    "file_name = None # trained model"
   ]
  },
  {
   "cell_type": "code",
   "execution_count": 27,
   "metadata": {},
   "outputs": [],
   "source": [
    "# Define the robot\n",
    "n_joints = 4\n",
    "link_lengths = torch.tensor([1.]*n_joints).to(device)\n",
    "max_theta = torch.pi\n",
    "min_theta = -1*max_theta\n",
    "n_kp = 10;\n",
    "dt = 0.01;\n",
    "d0_w = 10;\n",
    "# Define the environment and the task (Cost function)\n",
    "\n",
    "x_obst = [torch.tensor([1.5,1.]).to(device) ,torch.tensor([1.6,2.1]).to(device) ,torch.tensor([3.0,0]).to(device) ,torch.tensor([2.,-0.5]).to(device) ]#,torch.tensor([0.5,0.])]\n",
    "r_obst = [0.4,0.1,0.4,0.4]\n",
    "margin=0.02\n",
    "w_goal= 0.; w_obst=0.6; w_ee=0.; w_control=0.4;\n",
    "b_goal=0.1;b_obst=1; b_ee=1; b_control=1.;\n",
    "\n",
    "theta_0 = torch.tensor([ -0.05*np.pi, 0.55*np.pi, 0.45*np.pi, -0.45*np.pi]).to(device) #torch.tensor([2.1*torch.pi/4,-1.5*torch.pi/4]).view(1,-1)\n",
    "theta_3 = torch.tensor([-np.pi*0.,   np.pi*0.1 ,  np.pi*0.3,  np.pi*0.1]).to(device) \n",
    "\n",
    "K=2\n",
    "robot = PlanarManipulator(n_joints=n_joints,link_lengths=link_lengths,max_theta=max_theta,n_kp=n_kp, device=device)\n",
    "bounds = [robot.min_config, robot.max_config]\n",
    "p2p_motion = Point2PointMotion(n=n_joints,dt=dt,K=K,basis='rbf',bounds=bounds, device=device)\n",
    "costPlanarManipulator = PlanarManipulatorCost(robot,p2p_motion=p2p_motion,x_obst=x_obst,r_obst=r_obst, margin=margin,\n",
    "                                              w_goal=w_goal,w_obst=w_obst,w_ee=w_ee, w_control=w_control,\n",
    "                                              b_goal=b_goal, b_obst=b_obst,b_ee=b_ee, b_control=b_control,\n",
    "                                              device=device)"
   ]
  },
  {
   "cell_type": "markdown",
   "metadata": {},
   "source": [
    "Define the domain and the cost functions"
   ]
  },
  {
   "cell_type": "code",
   "execution_count": 28,
   "metadata": {},
   "outputs": [],
   "source": [
    "# Pick and place location (via-points: x_1 and x_2)\n",
    "domain_w = [torch.linspace(min_theta,max_theta,d0_w).to(device)]*(K*n_joints)\n",
    "def cost(x):\n",
    "    return costPlanarManipulator.cost_j2j(x,theta_0,theta_3)[:,0]\n",
    "\n",
    "def cost_to_print(x):\n",
    "    return costPlanarManipulator.cost_j2j(x,theta_0,theta_3)\n",
    "\n",
    "def pdf(x):\n",
    "    return torch.exp(-cost(x)**2)\n",
    "\n",
    "\n",
    "domain = domain_w\n"
   ]
  },
  {
   "cell_type": "code",
   "execution_count": 29,
   "metadata": {},
   "outputs": [
    {
     "name": "stdout",
     "output_type": "stream",
     "text": [
      "cross device is cuda\n",
      "Cross-approximation over a 8D domain containing 390625 grid points:\n",
      "iter: 0 | tt-error: 1.000e+00, test-error:nan | time:   0.1158 | largest rank:   1\n",
      "iter: 1 | tt-error: 1.446e+23, test-error:inf | time:   0.3233 | largest rank:   6 <- max_iter was reached: 2\n",
      "Did 2190 function evaluations, which took 0.1617s (1.354e+04 evals/s)\n",
      "\n"
     ]
    }
   ],
   "source": [
    "\n",
    "tt_model = tt_utils.cross_approximate(fcn=pdf,  domain=domain, \n",
    "                            rmax=200, nswp=2, eps=1e-3, verbose=True, \n",
    "                            kickrank=5, val_size=1, device=device)"
   ]
  },
  {
   "cell_type": "code",
   "execution_count": 30,
   "metadata": {},
   "outputs": [],
   "source": [
    "# This step is not necessary but it will likely improve the quality of solution at little computation cost\n",
    "# Refine the discretization and interpolate the model to have finer discretization\n",
    "import tt_utils\n",
    "tt_model_new, domain_new  =  tt_utils.refine_approximation(tt_model=tt_model.clone(),\n",
    "                                                               domain=domain, \n",
    "                                                               site_list=torch.arange(len(domain)), \n",
    "                                                               scale_factor=10, device=device)\n",
    "\n",
    "ttgo = TTGO(domain=[x.to(device) for x in domain_new], tt_model=tt_model_new.to(device), cost=cost, device=device)"
   ]
  },
  {
   "cell_type": "markdown",
   "metadata": {},
   "source": [
    "## Visualization"
   ]
  },
  {
   "cell_type": "code",
   "execution_count": 63,
   "metadata": {},
   "outputs": [
    {
     "data": {
      "text/plain": [
       "tensor([[0.05, 0.00, 0.13],\n",
       "        [0.15, 0.00, 0.37]], device='cuda:0')"
      ]
     },
     "execution_count": 63,
     "metadata": {},
     "output_type": "execute_result"
    }
   ],
   "source": [
    "# samples= ttgo.sample_random(n_samples=100)\n",
    "samples = ttgo.sample_tt(n_samples=10,alpha=0.99)\n",
    "state_tt_k = ttgo.choose_top_k_sample(samples,k=2)[0]\n",
    "\n",
    "state_tt_opt_k = 1*state_tt_k\n",
    "for i in range(state_tt_k.shape[0]):\n",
    "    state_tt_opt_k[i,:], _ = ttgo.optimize(state_tt_k[i])\n",
    "x = state_tt_opt_k#1*state_tt.reshape(1,-1)\n",
    "\n",
    "costPlanarManipulator.cost_j2j(x,theta_0,theta_3)\n"
   ]
  },
  {
   "cell_type": "code",
   "execution_count": 64,
   "metadata": {},
   "outputs": [],
   "source": [
    "\n",
    "batch_size = x.shape[0]\n",
    "theta_1 = theta_0.repeat(batch_size,1)\n",
    "theta_2 = theta_3.repeat(batch_size,1)\n",
    "w = 1*x # weights\n",
    "theta_t = p2p_motion.gen_traj_p2p(theta_1,theta_2,w) #joint angles: batch x time x joint\n",
    "T = theta_t.shape[1]\n",
    "\n",
    "key_loc_t,joint_loc_t, ee_loc_t, theta_ee_t = robot.forward_kin(theta_t.view(-1,n_joints)) # (batchxtime) x joint x key x positions\n",
    "joint_loc_t = joint_loc_t.view(batch_size,-1,n_joints+1,2)\n",
    "# joint_loc_t.shape"
   ]
  },
  {
   "cell_type": "code",
   "execution_count": 65,
   "metadata": {},
   "outputs": [
    {
     "data": {
      "image/png": "[encoded data removed]",
      "text/plain": [
       "<Figure size 360x360 with 1 Axes>"
      ]
     },
     "metadata": {},
     "output_type": "display_data"
    }
   ],
   "source": [
    "joint_loc = joint_loc_t[0].cpu()\n",
    "x_obst_np = [x.cpu().numpy() for x in x_obst]\n",
    "link_lengths_np = link_lengths.cpu().numpy()\n",
    "plt=plot_chain(joint_loc=joint_loc, link_lengths=link_lengths_np, x_obst=x_obst_np, r_obst=r_obst, rect_patch=[], x_target=[], \n",
    "       batch=True, figsize=5, skip_frame=2, title=None, save_as=None, color_intensity=0.9, motion=True, alpha=0., \n",
    "           contrast=0.4, idx_highlight=[0,int(joint_loc.shape[0]-1)], lw=3, task='reaching')\n",
    "plt.savefig(\"reach-2d-no-task-1.png\",dpi=300, pad_inches=0.01,bbox_inches='tight' )"
   ]
  },
  {
   "cell_type": "code",
   "execution_count": null,
   "metadata": {},
   "outputs": [],
   "source": []
  }
 ],
 "metadata": {
  "kernelspec": {
   "display_name": "Python 3",
   "language": "python",
   "name": "python3"
  },
  "language_info": {
   "codemirror_mode": {
    "name": "ipython",
    "version": 3
   },
   "file_extension": ".py",
   "mimetype": "text/x-python",
   "name": "python",
   "nbconvert_exporter": "python",
   "pygments_lexer": "ipython3",
   "version": "3.9.7"
  }
 },
 "nbformat": 4,
 "nbformat_minor": 4
}
