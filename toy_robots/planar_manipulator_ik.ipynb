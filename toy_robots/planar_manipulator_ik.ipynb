{
 "cells": [
  {
   "cell_type": "markdown",
   "metadata": {},
   "source": [
    "This notebook demonstrates inverse kinematics of manipulator using TTGO.\n",
    "\n",
    "Copyright (c) 2008 Idiap Research Institute, http://www.idiap.ch/\n",
    "    Written by Suhan Shetty <suhan.shetty@idiap.ch>,\n"
   ]
  },
  {
   "cell_type": "code",
   "execution_count": 1,
   "metadata": {},
   "outputs": [
    {
     "name": "stderr",
     "output_type": "stream",
     "text": [
      "/Users/sshetty/miniconda3/envs/pyml/lib/python3.10/site-packages/tqdm/auto.py:22: TqdmWarning: IProgress not found. Please update jupyter and ipywidgets. See https://ipywidgets.readthedocs.io/en/stable/user_install.html\n",
      "  from .autonotebook import tqdm as notebook_tqdm\n"
     ]
    }
   ],
   "source": [
    "import torch\n",
    "import numpy as np\n",
    "import sys\n",
    "sys.path.append('../')\n",
    "\n",
    "from planar_manipulator import PlanarManipulator\n",
    "from cost_utils import PlanarManipulatorCost\n",
    "from plot_utils import plot_chain\n",
    "from utils import test_ttgo\n",
    "import tt_utils\n",
    "from ttgo import TTGO\n",
    "import time\n",
    "%load_ext autoreload\n",
    "%autoreload 2\n",
    "np.set_printoptions(precision=4, suppress=True)"
   ]
  },
  {
   "cell_type": "code",
   "execution_count": 2,
   "metadata": {},
   "outputs": [
    {
     "data": {
      "text/plain": [
       "device(type='cpu')"
      ]
     },
     "execution_count": 2,
     "metadata": {},
     "output_type": "execute_result"
    }
   ],
   "source": [
    "device = torch.device(\"cuda\" if torch.cuda.is_available() else \"cpu\")\n",
    "device"
   ]
  },
  {
   "cell_type": "markdown",
   "metadata": {},
   "source": [
    "Define the robot paramters"
   ]
  },
  {
   "cell_type": "code",
   "execution_count": 3,
   "metadata": {},
   "outputs": [],
   "source": [
    "n_joints = 3 # number of links\n",
    "link_lengths = torch.tensor([1.4/n_joints]*n_joints).to(device)\n",
    "max_theta = np.pi/1.1 # joint angle limits\n",
    "min_theta = -1*max_theta\n",
    "# define the robot\n",
    "robot = PlanarManipulator(n_joints=n_joints,link_lengths=link_lengths,max_theta=max_theta,n_kp=5,\n",
    "                          device=device)"
   ]
  },
  {
   "cell_type": "code",
   "execution_count": 4,
   "metadata": {},
   "outputs": [],
   "source": [
    "link_lengths = torch.tensor([1.4/n_joints]*n_joints).to(device)\n",
    "x_obst = [torch.tensor([0.5,0.5]),torch.tensor([-0.35,0.]),\n",
    "          torch.tensor([-0.25,0.75]),torch.tensor([0,-0.75])]\n",
    "x_obst = [x.to(device) for x in x_obst]\n",
    "\n",
    "r_obst = [0.25,0.15,0.25,0.3]\n",
    "margin=0.025 # margin for collision avoidance\n",
    "w_goal= 0.5; w_obst= 0.5; # weights for each sub-cost\n",
    "b_goal= 0.5; b_obst= 4 # nominal costs\n",
    "\n",
    "robot = PlanarManipulator(n_joints=n_joints,link_lengths=link_lengths,max_theta=max_theta,n_kp=10,\n",
    "                          device=device)\n",
    "costPlanarManipulator = PlanarManipulatorCost(robot,x_obst=x_obst,r_obst=r_obst, margin=margin, \n",
    "                                              w_goal=w_goal, w_obst=w_obst,\n",
    "                                              b_goal=b_goal, b_obst=b_obst, device=device)"
   ]
  },
  {
   "cell_type": "markdown",
   "metadata": {},
   "source": [
    "Discretization of the domain"
   ]
  },
  {
   "cell_type": "code",
   "execution_count": 5,
   "metadata": {},
   "outputs": [],
   "source": [
    "# Define the range of target poses of the end-effector\n",
    "pose_max = torch.sum(link_lengths)\n",
    "pose_min = -1*pose_max\n",
    "\n",
    "# Discretize the domain\n",
    "d0_x = 50\n",
    "d0_theta = 50\n",
    "domain_task=  [torch.linspace(pose_min,pose_max,d0_x).to(device)]*2 # position of ee\n",
    "domain_decision = [torch.linspace(min_theta,max_theta,d0_theta).to(device)]*n_joints # joint angles\n",
    "domain =  domain_task + domain_decision \n"
   ]
  },
  {
   "cell_type": "code",
   "execution_count": null,
   "metadata": {},
   "outputs": [],
   "source": []
  },
  {
   "cell_type": "code",
   "execution_count": 6,
   "metadata": {},
   "outputs": [],
   "source": [
    "\n",
    "def cost(x):\n",
    "    return costPlanarManipulator.cost_ik(x)[:,0]\n",
    "\n"
   ]
  },
  {
   "cell_type": "markdown",
   "metadata": {},
   "source": [
    "### Fit TT-Model for the PMF"
   ]
  },
  {
   "cell_type": "code",
   "execution_count": 8,
   "metadata": {},
   "outputs": [
    {
     "name": "stdout",
     "output_type": "stream",
     "text": [
      "Find tt_model of pdf_goal:\n",
      "cross device is cpu\n",
      "Cross-approximation over a 5D domain containing 3.125e+08 grid points:\n",
      "iter: 0  | eps: 9.524e-01 | time:   0.0138 | largest rank:   1\n",
      "iter: 1  | eps: 2.950e-01 | time:   0.0634 | largest rank:   6\n",
      "iter: 2  | eps: 7.734e-02 | time:   0.1592 | largest rank:  11\n",
      "iter: 3  | eps: 3.192e-02 | time:   0.3932 | largest rank:  16\n",
      "iter: 4  | eps: 1.207e-02 | time:   0.7053 | largest rank:  21\n",
      "iter: 5  | eps: 4.716e-03 | time:   1.1016 | largest rank:  26\n",
      "iter: 6  | eps: 1.368e-03 | time:   1.7070 | largest rank:  31\n",
      "iter: 7  | eps: 4.145e-04 | time:   2.4498 | largest rank:  36 <- converged: eps < 0.001\n",
      "Did 1158600 function evaluations, which took 0.6735s (1.72e+06 evals/s)\n",
      "\n",
      "tensor([ 1,  6, 28, 22,  9,  1])\n",
      "Find tt_model of pdf_obst:\n",
      "cross device is cpu\n",
      "Cross-approximation over a 3D domain containing 125000 grid points:\n",
      "iter: 0  | eps: 5.167e-01 | time:   0.0144 | largest rank:   1\n",
      "iter: 1  | eps: 2.885e-01 | time:   0.1281 | largest rank:   6\n",
      "iter: 2  | eps: 1.807e-01 | time:   0.4607 | largest rank:  11\n",
      "iter: 3  | eps: 1.324e-01 | time:   1.1360 | largest rank:  16\n",
      "iter: 4  | eps: 8.316e-02 | time:   2.2241 | largest rank:  21\n",
      "iter: 5  | eps: 6.851e-02 | time:   3.8955 | largest rank:  26\n",
      "iter: 6  | eps: 4.255e-02 | time:   6.2084 | largest rank:  31\n",
      "iter: 7  | eps: 2.799e-02 | time:   9.3355 | largest rank:  36\n",
      "iter: 8  | eps: 2.096e-02 | time:  13.3645 | largest rank:  41\n",
      "iter: 9  | eps: 8.293e-03 | time:  18.3880 | largest rank:  46\n",
      "iter: 10 | eps: 2.628e-14 | time:  24.3708 | largest rank:  50 <- converged: eps < 0.001\n",
      "Did 1051250 function evaluations, which took 22.91s (4.589e+04 evals/s)\n",
      "\n",
      "tensor([ 1, 50, 40,  1])\n",
      "Take product: pdf(x_task,x_decision) = pdf_goal(x_task,x_decision)*pdf_obst(x_decision)\n",
      "Rank of TT-model:  tensor([  1,   6,  26, 331,  38,   1])\n"
     ]
    }
   ],
   "source": [
    "use_fusion = True # more efficient if True\n",
    "# for target reaching\n",
    "\n",
    "def cost_goal(x):\n",
    "    d_goal = costPlanarManipulator.cost_goal(x)\n",
    "    return d_goal\n",
    "\n",
    "def pdf_goal(x):\n",
    "    d_goal = cost_goal(x)#costPlanarManipulator.cost_ik(x)[:,1]\n",
    "    return torch.exp(-(d_goal/1.0)**2) \n",
    "\n",
    "def cost_obst(q): \n",
    "    return costPlanarManipulator.cost_ik(q)[:,2]\n",
    "\n",
    "def pdf_obst_q(q):\n",
    "    kp_loc = robot.forward_kin(q)[0] # get position of key-points and the end-effector\n",
    "    d_obst = costPlanarManipulator.dist_obst(kp_loc)\n",
    "    return torch.exp(-(d_obst/4)**2) \n",
    "\n",
    "if use_fusion:\n",
    "    print(\"Find tt_model of pdf_goal:\")\n",
    "    tt_goal = tt_utils.cross_approximate(fcn=pdf_goal,  domain=domain, \n",
    "                            rmax=100, nswp=20, eps=1e-3, verbose=True, \n",
    "                            kickrank=5, device=device)\n",
    "    \n",
    "    print(tt_goal.ranks_tt)\n",
    "\n",
    "\n",
    "\n",
    "    print(\"Find tt_model of pdf_obst:\")\n",
    "    tt_obst_q = tt_utils.cross_approximate(fcn=pdf_obst_q,  domain=domain_decision, \n",
    "                            rmax=100, nswp=20, eps=1e-3, verbose=True, \n",
    "                            kickrank=5, device=device)\n",
    "    print(tt_obst_q.ranks_tt)\n",
    "\n",
    "\n",
    "    # make sure the dimensions of tt_obst matches with that of tt_model desired\n",
    "    # i.e. pdf_obst(x_task,q) = pdf_obst_q(q)\n",
    "    tt_obst = tt_utils.extend_model(tt_model=tt_obst_q,site=0,n_cores=2,d=[d0_x]*2).to(device)\n",
    "\n",
    "    print(\"Take product: pdf(x_task,x_decision) = pdf_goal(x_task,x_decision)*pdf_obst(x_decision)\")\n",
    "    tt_model = tt_goal.to(device)*tt_obst.to(device)\n",
    "\n",
    "    tt_model.round_tt(1e-3)\n",
    "    \n",
    "\n",
    "else: # compute the pdf directly using the cost function (less efficient) \n",
    "    def pdf(x):\n",
    "        return torch.exp(-1*cost(x)**2)\n",
    "    tt_model = tt_utils.cross_approximate(fcn=pdf,  domain=domain, \n",
    "                            rmax=200, nswp=20, eps=1e-3, verbose=True, \n",
    "                            kickrank=5, device=device)\n",
    "\n",
    "print(\"Rank of TT-model: \", tt_model.ranks_tt)"
   ]
  },
  {
   "cell_type": "code",
   "execution_count": null,
   "metadata": {},
   "outputs": [],
   "source": [
    "# Refine the discretization and interpolate the model\n",
    "scale_factor = 10\n",
    "site_list = torch.arange(len(domain))#len(domain_task)+torch.arange(len(domain_decision))\n",
    "domain_new = tt_utils.refine_domain(domain=domain, \n",
    "                                    site_list=site_list,\n",
    "                                    scale_factor=scale_factor, device=device)\n",
    "tt_model_new = tt_utils.refine_model(tt_model=tt_model, \n",
    "                                    site_list=site_list,\n",
    "                                    scale_factor=scale_factor, device=device)\n",
    "ttgo = TTGO(domain=domain_new,tt_model=tt_model_new.to(device), cost=cost, device=device)"
   ]
  },
  {
   "cell_type": "markdown",
   "metadata": {},
   "source": [
    "### Test the model"
   ]
  },
  {
   "cell_type": "code",
   "execution_count": 10,
   "metadata": {},
   "outputs": [],
   "source": [
    "# Generate test set (feasible target points)\n",
    "ns = 1000\n",
    "test_theta = torch.zeros(ns,n_joints).to(device)\n",
    "for i in range(n_joints):\n",
    "    unif = torch.distributions.uniform.Uniform(low=min_theta,high=max_theta)\n",
    "    sample = torch.tensor([unif.sample() for i in range(ns)]).to(device)\n",
    "    test_theta[:,i] = sample\n",
    "    \n",
    "_, _, test_x, test_orient = robot.forward_kin(test_theta)\n",
    "\n",
    "test_set = torch.cat((test_x,test_theta),dim=-1)\n",
    "cost_values = cost(test_set)\n",
    "test_set = test_set[cost(test_set)<0.05]\n",
    "ns = min(test_set.shape[0],50)\n",
    "test_task = test_set[:ns,:len(domain_task)]\n"
   ]
  },
  {
   "cell_type": "code",
   "execution_count": 11,
   "metadata": {},
   "outputs": [],
   "source": [
    "# # # Save the model\n",
    "# file_name = 'planar_ik_.pickle'\n",
    "# torch.save({\n",
    "#     'tt_model':ttgo.tt_model,\n",
    "#     'w': (w_goal,w_obst),\n",
    "#     'b': (b_goal,b_obst),\n",
    "#     'd0':(d0_x,d0_theta),\n",
    "#     'margin': margin,\n",
    "#     'domain': domain,\n",
    "#     'test_task': test_task,\n",
    "#     'x_obst':x_obst,\n",
    "#     'r_obst':r_obst,\n",
    "#     'n_joints':n_joints,\n",
    "#     'link_lengths':link_lengths\n",
    "#     }, file_name)\n"
   ]
  },
  {
   "cell_type": "code",
   "execution_count": 12,
   "metadata": {},
   "outputs": [
    {
     "name": "stdout",
     "output_type": "stream",
     "text": [
      "total-cost | dist-to-goal | num-of-collisions \n",
      "################################################################\n",
      "################################################################\n",
      "deterministic:False  |  alpha:0.9  |  n_samples_tt:50  |  n_samples_rand:50 | \n",
      "################################################################\n",
      "################################################################\n",
      "Cost TT (raw)           :  tensor([0.05, 0.04, 0.03], device='cuda:0')\n",
      "Cost TT (optimized)     :  tensor([0.00, 0.00, 0.01], device='cuda:0')\n",
      "Cost rand (raw)           :  tensor([0.21, 0.19, 0.15], device='cuda:0')\n",
      "Cost rand (optimized)     :  tensor([0.02, 0.01, 0.01], device='cuda:0')\n",
      "-------------------------------------\n",
      "Performance, c_total <  0.05  (intersection)\n",
      "-------------------------------------\n",
      "Success-rate (tt vs rand) :  1.0 0.9\n",
      "# iterations (tt vs rand) :  5.333333333333334 7.0\n",
      "Cost-mean-tt-raw: tensor([0.05, 0.05, 0.03], device='cuda:0')\n",
      "Cost-mean-tt-opt: tensor([0.00, 0.00, 0.01], device='cuda:0')\n",
      "Cost-mean-rand-raw: tensor([0.21, 0.19, 0.13], device='cuda:0')\n",
      "Cost-mean-rand-opt: tensor([0.00, 0.00, 0.00], device='cuda:0')\n",
      "-------------------------------------\n",
      "Performance, c_total <  0.05  (union)\n",
      "-------------------------------------\n",
      "Success-rate (tt vs rand) :  1.0 0.9\n",
      "# iterations (tt vs rand) :  5.38 6.88\n",
      "Cost-mean-tt-raw: tensor([0.05, 0.04, 0.03], device='cuda:0')\n",
      "Cost-mean-tt-opt: tensor([0.00, 0.00, 0.01], device='cuda:0')\n",
      "Cost-mean-rand-raw: tensor([0.21, 0.19, 0.15], device='cuda:0')\n",
      "Cost-mean-rand-opt: tensor([0.02, 0.01, 0.01], device='cuda:0')\n"
     ]
    }
   ],
   "source": [
    "n_samples_tt = 50\n",
    "alpha = 0.9\n",
    "print(\"total-cost | dist-to-goal | num-of-collisions \")\n",
    "_ = test_ttgo(ttgo=ttgo.clone(), cost= costPlanarManipulator.cost_ik, test_task=test_task, \n",
    "          n_samples_tt=n_samples_tt, deterministic=False, alpha=alpha, device=device, \n",
    "          test_rand=True, cut_total=0.05)\n"
   ]
  },
  {
   "cell_type": "markdown",
   "metadata": {},
   "source": [
    "### Visualization"
   ]
  },
  {
   "cell_type": "code",
   "execution_count": 73,
   "metadata": {},
   "outputs": [],
   "source": [
    "# choose a task-parameter (target position of end-effector)\n",
    "s = np.random.choice(np.arange(ns))\n",
    "x_task = test_task[s]\n",
    "\n",
    "# Sample from TT-model\n",
    "alpha=0.8\n",
    "n_samples = 500\n",
    "t1 = time.time()\n",
    "# samples= ttgo.sample_random(n_samples=n_samples, x_task=x_task[None,:])\n",
    "samples= ttgo.sample_tt(n_samples=n_samples, x_task=x_task[None,:], \n",
    "                        alpha=alpha, deterministic=False)\n",
    "# Fine tune the approximation\n",
    "best_estimate_tt = ttgo.choose_best_sample(samples)[0]\n",
    "best_estimate_tt_opt = ttgo.optimize(best_estimate_tt)\n",
    "t2 = time.time()\n"
   ]
  },
  {
   "cell_type": "code",
   "execution_count": 74,
   "metadata": {},
   "outputs": [],
   "source": [
    "# For multiple solutions\n",
    "k = 10\n",
    "top_k_estimate_tt = ttgo.choose_top_k_sample(samples,k)[0]\n",
    "top_k_estimate_tt_opt = 1*top_k_estimate_tt\n",
    "for i in range(k):\n",
    "    top_k_estimate_tt_opt[i,:], _ = ttgo.optimize(top_k_estimate_tt[i,:].view(1,-1))\n",
    "\n"
   ]
  },
  {
   "cell_type": "code",
   "execution_count": 75,
   "metadata": {},
   "outputs": [
    {
     "data": {
      "image/png": "[encoded data removed]",
      "text/plain": [
       "<Figure size 360x360 with 1 Axes>"
      ]
     },
     "metadata": {},
     "output_type": "display_data"
    },
    {
     "data": {
      "image/png": "[encoded data removed]",
      "text/plain": [
       "<Figure size 360x360 with 1 Axes>"
      ]
     },
     "metadata": {},
     "output_type": "display_data"
    }
   ],
   "source": [
    "\n",
    "figsize=5    \n",
    "    \n",
    "_,joint_loc,_,_ = robot.forward_kin(top_k_estimate_tt[:,x_task.shape[-1]:])\n",
    "joint_loc = joint_loc.cpu().numpy()\n",
    "link = link_lengths.cpu().numpy()\n",
    "x_obst_np = [x.cpu().numpy() for x in x_obst]\n",
    "x_target = [x_task[:2].cpu().numpy()]\n",
    "\n",
    "title=\"TTGO\"\n",
    "plt = plot_chain(joint_loc=joint_loc, link_lengths=link, x_obst=x_obst_np, r_obst=r_obst, \n",
    "           x_target=x_target, batch=True, skip_frame=1,figsize=figsize, title=title, \n",
    "           color_intensity=0.9, motion=False, alpha=0.5, contrast=0.3,lw=3)\n",
    "\n",
    "\n",
    "_,joint_loc,_,_ = robot.forward_kin(top_k_estimate_tt_opt[:,x_task.shape[-1]:])\n",
    "joint_loc = joint_loc.cpu().numpy()\n",
    "\n",
    "title = \"TTGO + Refinement\"\n",
    "plt = plot_chain(joint_loc=joint_loc, link_lengths=link, x_obst=x_obst_np, r_obst=r_obst, \n",
    "           x_target=x_target, batch=True, skip_frame=1, figsize=figsize, title=title, \n",
    "           color_intensity=0., motion=False, alpha=0.5, contrast=0., task='ik',lw=3)"
   ]
  },
  {
   "cell_type": "code",
   "execution_count": null,
   "metadata": {},
   "outputs": [],
   "source": []
  },
  {
   "cell_type": "code",
   "execution_count": null,
   "metadata": {},
   "outputs": [],
   "source": []
  }
 ],
 "metadata": {
  "kernelspec": {
   "display_name": "Python 3 (ipykernel)",
   "language": "python",
   "name": "python3"
  },
  "language_info": {
   "codemirror_mode": {
    "name": "ipython",
    "version": 3
   },
   "file_extension": ".py",
   "mimetype": "text/x-python",
   "name": "python",
   "nbconvert_exporter": "python",
   "pygments_lexer": "ipython3",
   "version": "3.10.8"
  },
  "vscode": {
   "interpreter": {
    "hash": "cf96f6c213ba3f9333b362e3bb271376c1f8feeec3b85b92580d68346ee16de3"
   }
  }
 },
 "nbformat": 4,
 "nbformat_minor": 4
}
