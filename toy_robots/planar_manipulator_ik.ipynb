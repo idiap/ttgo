{
 "cells": [
  {
   "cell_type": "markdown",
   "metadata": {},
   "source": [
    "This notebook demonstrates inverse kinematics of manipulator using TTGO.\n",
    "\n",
    "Copyright (c) 2008 Idiap Research Institute, http://www.idiap.ch/\n",
    "    Written by Suhan Shetty <suhan.shetty@idiap.ch>,\n"
   ]
  },
  {
   "cell_type": "code",
   "execution_count": 1,
   "metadata": {},
   "outputs": [
    {
     "name": "stderr",
     "output_type": "stream",
     "text": [
      "/idiap/temp/sshetty/miniconda/envs/pyml/lib/python3.9/site-packages/tqdm/auto.py:22: TqdmWarning: IProgress not found. Please update jupyter and ipywidgets. See https://ipywidgets.readthedocs.io/en/stable/user_install.html\n",
      "  from .autonotebook import tqdm as notebook_tqdm\n",
      "Matplotlib created a temporary config/cache directory at /tmp/matplotlib-_a4mh4xj because the default path (/idiap/home/sshetty/.cache/matplotlib) is not a writable directory; it is highly recommended to set the MPLCONFIGDIR environment variable to a writable directory, in particular to speed up the import of Matplotlib and to better support multiprocessing.\n"
     ]
    }
   ],
   "source": [
    "import torch\n",
    "import numpy as np\n",
    "import sys\n",
    "sys.path.append('../')\n",
    "\n",
    "from planar_manipulator import PlanarManipulator\n",
    "from cost_utils import PlanarManipulatorCost\n",
    "from plot_utils import plot_chain\n",
    "from utils import test_ttgo\n",
    "import tt_utils\n",
    "from ttgo import TTGO\n",
    "import time\n",
    "%load_ext autoreload\n",
    "%autoreload 2\n",
    "np.set_printoptions(precision=4, suppress=True)"
   ]
  },
  {
   "cell_type": "code",
   "execution_count": 2,
   "metadata": {},
   "outputs": [
    {
     "name": "stdout",
     "output_type": "stream",
     "text": [
      "Note: Choose cuda if you have enough memory\n"
     ]
    },
    {
     "data": {
      "text/plain": [
       "device(type='cuda')"
      ]
     },
     "execution_count": 2,
     "metadata": {},
     "output_type": "execute_result"
    }
   ],
   "source": [
    "print(\"Note: Choose cuda if you have enough memory\")\n",
    "device = torch.device(\"cuda\" if torch.cuda.is_available() else \"cpu\")\n",
    "device"
   ]
  },
  {
   "cell_type": "markdown",
   "metadata": {},
   "source": [
    "Define the robot paramters"
   ]
  },
  {
   "cell_type": "code",
   "execution_count": 3,
   "metadata": {},
   "outputs": [],
   "source": [
    "n_joints = 3 # number of links\n",
    "link_lengths = torch.tensor([1.4/n_joints]*n_joints).to(device)\n",
    "max_theta = np.pi/1.1 # joint angle limits\n",
    "min_theta = -1*max_theta\n",
    "# define the robot\n",
    "robot = PlanarManipulator(n_joints=n_joints,link_lengths=link_lengths,max_theta=max_theta,n_kp=5,\n",
    "                          device=device)"
   ]
  },
  {
   "cell_type": "code",
   "execution_count": 4,
   "metadata": {},
   "outputs": [],
   "source": [
    "link_lengths = torch.tensor([1.4/n_joints]*n_joints).to(device)\n",
    "x_obst = [torch.tensor([0.5,0.5]),torch.tensor([-0.35,0.]),\n",
    "          torch.tensor([-0.25,0.75]),torch.tensor([0,-0.75])]\n",
    "x_obst = [x.to(device) for x in x_obst]\n",
    "\n",
    "r_obst = [0.25,0.15,0.25,0.3]\n",
    "margin=0.03 # margin for collision avoidance\n",
    "w_goal= 0.5; w_obst= 0.5; # weights for each sub-cost\n",
    "b_goal= 0.5; b_obst= 4 # nominal costs\n",
    "\n",
    "robot = PlanarManipulator(n_joints=n_joints,link_lengths=link_lengths,max_theta=max_theta,n_kp=10,\n",
    "                          device=device)\n",
    "costPlanarManipulator = PlanarManipulatorCost(robot,x_obst=x_obst,r_obst=r_obst, margin=margin, \n",
    "                                              w_goal=w_goal, w_obst=w_obst,\n",
    "                                              b_goal=b_goal, b_obst=b_obst, device=device)"
   ]
  },
  {
   "cell_type": "markdown",
   "metadata": {},
   "source": [
    "Discretization of the domain"
   ]
  },
  {
   "cell_type": "code",
   "execution_count": 5,
   "metadata": {},
   "outputs": [],
   "source": [
    "# Define the range of target poses of the end-effector\n",
    "pose_max = torch.sum(link_lengths)\n",
    "pose_min = -1*pose_max\n",
    "\n",
    "# Discretize the domain (increase it for more accuracy)\n",
    "d0_x = 10\n",
    "d0_theta = 10\n",
    "domain_task=  [torch.linspace(pose_min,pose_max,d0_x).to(device)]*2 # position of ee\n",
    "domain_decision = [torch.linspace(min_theta,max_theta,d0_theta).to(device)]*n_joints # joint angles\n",
    "domain =  domain_task + domain_decision \n"
   ]
  },
  {
   "cell_type": "code",
   "execution_count": 6,
   "metadata": {},
   "outputs": [],
   "source": [
    "\n",
    "def cost(x):\n",
    "    return costPlanarManipulator.cost_ik(x)[:,0]"
   ]
  },
  {
   "cell_type": "markdown",
   "metadata": {},
   "source": [
    "### Fit TT-Model for the PMF"
   ]
  },
  {
   "cell_type": "code",
   "execution_count": 7,
   "metadata": {},
   "outputs": [
    {
     "name": "stdout",
     "output_type": "stream",
     "text": [
      "Find tt_model of pdf_goal:\n",
      "cross device is cuda\n",
      "Cross-approximation over a 5D domain containing 100000 grid points:\n",
      "iter: 0  | tt-error: 1.099e+00, test-error:7.133e-01 | time:   0.7906 | largest rank:   1\n",
      "iter: 1  | tt-error: 1.265e+00, test-error:2.609e-01 | time:   0.8424 | largest rank:   6\n",
      "iter: 2  | tt-error: 2.365e-01, test-error:1.184e-01 | time:   0.8967 | largest rank:  11\n",
      "iter: 3  | tt-error: 1.208e-01, test-error:3.173e-02 | time:   0.9538 | largest rank:  16\n",
      "iter: 4  | tt-error: 2.986e-02, test-error:9.860e-03 | time:   1.0127 | largest rank:  21\n",
      "iter: 5  | tt-error: 1.033e-02, test-error:5.665e-03 | time:   1.0767 | largest rank:  26\n",
      "iter: 6  | tt-error: 5.562e-03, test-error:1.348e-03 | time:   1.1423 | largest rank:  31\n",
      "iter: 7  | tt-error: 1.333e-03, test-error:4.039e-04 | time:   1.2102 | largest rank:  36\n",
      "iter: 8  | tt-error: 4.272e-04, test-error:2.172e-04 | time:   1.2831 | largest rank:  41 <- converged: eps < 0.001\n",
      "Did 185970 function evaluations, which took 0.1764s (1.054e+06 evals/s)\n",
      "\n",
      "tensor([ 1,  9, 41, 40, 10,  1])\n",
      "Find tt_model of pdf_obst:\n",
      "cross device is cuda\n",
      "Cross-approximation over a 3D domain containing 1000 grid points:\n",
      "iter: 0  | tt-error: 1.190e+00, test-error:5.755e-01 | time:   0.0263 | largest rank:   1\n",
      "iter: 1  | tt-error: 6.857e-01, test-error:2.749e-01 | time:   0.0545 | largest rank:   6\n",
      "iter: 2  | tt-error: 2.559e-01, test-error:5.926e-16 | time:   0.0826 | largest rank:  10\n",
      "iter: 3  | tt-error: 6.203e-16, test-error:8.151e-16 | time:   0.1120 | largest rank:  10 <- converged: eps < 0.001\n",
      "Did 5550 function evaluations, which took 0.05264s (1.054e+05 evals/s)\n",
      "\n",
      "tensor([ 1, 10, 10,  1])\n",
      "Take product: pdf(x_task,x_decision) = pdf_goal(x_task,x_decision)*pdf_obst(x_decision)\n",
      "Rank of TT-model:  tensor([ 1,  7, 24, 28, 10,  1])\n"
     ]
    }
   ],
   "source": [
    "use_fusion = True # more efficient way to construct the tt-model if True\n",
    "# for target reaching\n",
    "\n",
    "def cost_goal(x):\n",
    "    d_goal = costPlanarManipulator.cost_goal(x)\n",
    "    return d_goal\n",
    "\n",
    "def pdf_goal(x):\n",
    "    d_goal = cost_goal(x)#costPlanarManipulator.cost_ik(x)[:,1]\n",
    "    return torch.exp(-(d_goal/1.0)**2) \n",
    "\n",
    "def cost_obst(q): \n",
    "    return costPlanarManipulator.cost_ik(q)[:,2]\n",
    "\n",
    "def pdf_obst_q(q):\n",
    "    kp_loc = robot.forward_kin(q)[0] # get position of key-points and the end-effector\n",
    "    d_obst = costPlanarManipulator.dist_obst(kp_loc)\n",
    "    return torch.exp(-(d_obst/4)**2) \n",
    "\n",
    "if use_fusion:\n",
    "    print(\"Find tt_model of pdf_goal:\")\n",
    "    tt_goal = tt_utils.cross_approximate(fcn=pdf_goal,  domain=domain, \n",
    "                            rmax=100, nswp=20, eps=1e-3, verbose=True, \n",
    "                            kickrank=5, device=device)\n",
    "    \n",
    "    print(tt_goal.ranks_tt)\n",
    "\n",
    "\n",
    "\n",
    "    print(\"Find tt_model of pdf_obst:\")\n",
    "    tt_obst_q = tt_utils.cross_approximate(fcn=pdf_obst_q,  domain=domain_decision, \n",
    "                            rmax=100, nswp=20, eps=1e-3, verbose=True, \n",
    "                            kickrank=5, device=device)\n",
    "    print(tt_obst_q.ranks_tt)\n",
    "\n",
    "\n",
    "    # make sure the dimensions of tt_obst matches with that of tt_model desired\n",
    "    # i.e. pdf_obst(x_task,q) = pdf_obst_q(q)\n",
    "    tt_obst = tt_utils.extend_model(tt_model=tt_obst_q,site=0,n_cores=2,d=[d0_x]*2).to(device)\n",
    "\n",
    "    print(\"Take product: pdf(x_task,x_decision) = pdf_goal(x_task,x_decision)*pdf_obst(x_decision)\")\n",
    "    tt_model = tt_goal.to(device)+tt_obst.to(device)\n",
    "\n",
    "    tt_model.round_tt(1e-3)\n",
    "    \n",
    "\n",
    "else: # compute the pdf directly using the cost function (less efficient) \n",
    "    def pdf(x):\n",
    "        return torch.exp(-1*cost(x)**2)\n",
    "    tt_model = tt_utils.cross_approximate(fcn=pdf,  domain=domain, \n",
    "                            rmax=200, nswp=20, eps=1e-3, verbose=True, \n",
    "                            kickrank=5, device=device)\n",
    "\n",
    "print(\"Rank of TT-model: \", tt_model.ranks_tt)"
   ]
  },
  {
   "cell_type": "code",
   "execution_count": 8,
   "metadata": {},
   "outputs": [],
   "source": [
    "# This step is not necessary but it will likely improve the quality of solution at little computation cost\n",
    "# Refine the discretization and interpolate the model to have finer discretization\n",
    "import tt_utils\n",
    "tt_model_new, domain_new  =  tt_utils.refine_approximation(tt_model=tt_model.clone(),\n",
    "                                                               domain=domain, \n",
    "                                                               site_list=torch.arange(len(domain)), \n",
    "                                                               scale_factor=30, device=device)\n",
    "\n",
    "ttgo = TTGO(domain=[x.to(device) for x in domain_new], tt_model=tt_model_new.to(device), cost=cost, device=device)"
   ]
  },
  {
   "cell_type": "markdown",
   "metadata": {},
   "source": [
    "### Test the model"
   ]
  },
  {
   "cell_type": "code",
   "execution_count": 9,
   "metadata": {},
   "outputs": [],
   "source": [
    "# Generate test set (feasible target points)\n",
    "ns = 1000\n",
    "test_theta = torch.zeros(ns,n_joints).to(device)\n",
    "for i in range(n_joints):\n",
    "    unif = torch.distributions.uniform.Uniform(low=min_theta,high=max_theta)\n",
    "    sample = torch.tensor([unif.sample() for i in range(ns)]).to(device)\n",
    "    test_theta[:,i] = sample\n",
    "    \n",
    "_, _, test_x, test_orient = robot.forward_kin(test_theta)\n",
    "\n",
    "test_set = torch.cat((test_x,test_theta),dim=-1)\n",
    "cost_values = cost(test_set)\n",
    "test_set = test_set[cost(test_set)<0.05]\n",
    "ns = min(test_set.shape[0],50)\n",
    "test_task = test_set[:ns,:len(domain_task)]\n"
   ]
  },
  {
   "cell_type": "code",
   "execution_count": 10,
   "metadata": {},
   "outputs": [],
   "source": [
    "# # # Save the model\n",
    "# file_name = 'planar_ik_.pickle'\n",
    "# torch.save({\n",
    "#     'tt_model':ttgo.tt_model,\n",
    "#     'w': (w_goal,w_obst),\n",
    "#     'b': (b_goal,b_obst),\n",
    "#     'd0':(d0_x,d0_theta),\n",
    "#     'margin': margin,\n",
    "#     'domain': domain,\n",
    "#     'test_task': test_task,\n",
    "#     'x_obst':x_obst,\n",
    "#     'r_obst':r_obst,\n",
    "#     'n_joints':n_joints,\n",
    "#     'link_lengths':link_lengths\n",
    "#     }, file_name)\n"
   ]
  },
  {
   "cell_type": "code",
   "execution_count": 11,
   "metadata": {},
   "outputs": [
    {
     "name": "stdout",
     "output_type": "stream",
     "text": [
      "total-cost | dist-to-goal | num-of-collisions \n",
      "################################################################\n",
      "################################################################\n",
      "deterministic:False  |  alpha:0.9  |  n_samples_tt:50  |  n_samples_rand:50 | \n",
      "################################################################\n",
      "################################################################\n",
      "Cost TT (raw)           :  tensor([0.06, 0.06, 0.02], device='cuda:0')\n",
      "Cost TT (optimized)     :  tensor([0.01, 0.01, 0.00], device='cuda:0')\n",
      "Cost rand (raw)           :  tensor([0.21, 0.18, 0.23], device='cuda:0')\n",
      "Cost rand (optimized)     :  tensor([0.01, 0.01, 0.01], device='cuda:0')\n",
      "-------------------------------------\n",
      "Performance, c_total <  0.02  (intersection)\n",
      "-------------------------------------\n",
      "Success-rate (tt vs rand) :  0.94 0.86\n",
      "# iterations (tt vs rand) :  5.7317073170731705 7.195121951219512\n",
      "Cost-mean-tt-raw: tensor([0.06, 0.05, 0.02], device='cuda:0')\n",
      "Cost-mean-tt-opt: tensor([0.00, 0.00, 0.00], device='cuda:0')\n",
      "Cost-mean-rand-raw: tensor([0.19, 0.18, 0.08], device='cuda:0')\n",
      "Cost-mean-rand-opt: tensor([0.00, 0.00, 0.00], device='cuda:0')\n",
      "-------------------------------------\n",
      "Performance, c_total <  0.02  (union)\n",
      "-------------------------------------\n",
      "Success-rate (tt vs rand) :  0.94 0.86\n",
      "# iterations (tt vs rand) :  5.693877551020408 7.061224489795918\n",
      "Cost-mean-tt-raw: tensor([0.06, 0.06, 0.02], device='cuda:0')\n",
      "Cost-mean-tt-opt: tensor([0.01, 0.00, 0.00], device='cuda:0')\n",
      "Cost-mean-rand-raw: tensor([0.21, 0.18, 0.22], device='cuda:0')\n",
      "Cost-mean-rand-opt: tensor([0.01, 0.01, 0.02], device='cuda:0')\n"
     ]
    }
   ],
   "source": [
    "from utils import test_ttgo\n",
    "\n",
    "n_samples_tt = 50\n",
    "alpha = 0.9\n",
    "print(\"total-cost | dist-to-goal | num-of-collisions \")\n",
    "_ = test_ttgo(ttgo=ttgo.clone(), cost= costPlanarManipulator.cost_ik, test_task=test_task, \n",
    "          n_samples_tt=n_samples_tt, deterministic=False, alpha=alpha, device=device, \n",
    "          test_rand=True, cut_total=0.02)\n"
   ]
  },
  {
   "attachments": {},
   "cell_type": "markdown",
   "metadata": {},
   "source": [
    "### Test and Visualization"
   ]
  },
  {
   "cell_type": "code",
   "execution_count": 22,
   "metadata": {},
   "outputs": [],
   "source": [
    "# choose a task-parameter randomly from the data set (target position of end-effector)\n",
    "s = np.random.choice(np.arange(ns))\n",
    "x_task = test_task[s]"
   ]
  },
  {
   "cell_type": "code",
   "execution_count": 31,
   "metadata": {},
   "outputs": [],
   "source": [
    "# Sample from TT-model and choose the best solution\n",
    "# alpha: (0,1). prioritized sampling. 0=> exact sampling, \n",
    "# alpha closer to zero means higher diversity in solution but needs more samples\n",
    "# alpha closer to one, needs fewr samples but less diversity in solution\n",
    "alpha=0.8\n",
    "n_samples = 500\n",
    "t1 = time.time()\n",
    "# samples= ttgo.sample_random(n_samples=n_samples, x_task=x_task[None,:])\n",
    "samples= ttgo.sample_tt(n_samples=n_samples, x_task=x_task[None,:], \n",
    "                        alpha=alpha, deterministic=False)\n",
    "# Fine tune the approximation\n",
    "best_estimate_tt = ttgo.choose_best_sample(samples)[0]\n",
    "best_estimate_tt_opt = ttgo.optimize(best_estimate_tt)\n",
    "t2 = time.time()"
   ]
  },
  {
   "cell_type": "code",
   "execution_count": 32,
   "metadata": {},
   "outputs": [],
   "source": [
    "# Find multiple solutions \n",
    "k = 10\n",
    "top_k_estimate_tt = ttgo.choose_top_k_sample(samples,k)[0]"
   ]
  },
  {
   "cell_type": "code",
   "execution_count": 33,
   "metadata": {},
   "outputs": [],
   "source": [
    "# Fine-tune/Refine the solution using gradient-based optimization\n",
    "\n",
    "is_site_fixed = torch.zeros(len(domain)).to(device)\n",
    "is_site_fixed[:len(domain_task)] = 1 # fix the task-variables\n",
    "top_k_estimate_tt_opt = ttgo.gradient_optimization(x=top_k_estimate_tt.to(device), \n",
    "                                                   is_site_fixed=is_site_fixed, GN=False, \n",
    "                                                   lr=1e-2,n_step=50)\n",
    "# Non-batch way to optimize (one at a time)\n",
    "# top_k_estimate_tt_opt = 1*top_k_estimate_tt \n",
    "# for i in range(k):\n",
    "#     top_k_estimate_tt_opt[i,:], _ = ttgo.optimize(top_k_estimate_tt[i,:].view(1,-1))\n",
    "\n"
   ]
  },
  {
   "cell_type": "code",
   "execution_count": 34,
   "metadata": {},
   "outputs": [
    {
     "data": {
      "image/png": "[encoded data removed]",
      "text/plain": [
       "<Figure size 360x360 with 1 Axes>"
      ]
     },
     "metadata": {},
     "output_type": "display_data"
    },
    {
     "data": {
      "image/png": "[encoded data removed]",
      "text/plain": [
       "<Figure size 360x360 with 1 Axes>"
      ]
     },
     "metadata": {},
     "output_type": "display_data"
    }
   ],
   "source": [
    "# Visualization \n",
    "\n",
    "figsize=5    \n",
    "    \n",
    "_,joint_loc,_,_ = robot.forward_kin(top_k_estimate_tt[:,x_task.shape[-1]:])\n",
    "joint_loc = joint_loc.cpu().numpy()\n",
    "link = link_lengths.cpu().numpy()\n",
    "x_obst_np = [x.cpu().numpy() for x in x_obst]\n",
    "x_target = [x_task[:2].cpu().numpy()]\n",
    "\n",
    "title=\"TTGO\"\n",
    "plt = plot_chain(joint_loc=joint_loc, link_lengths=link, x_obst=x_obst_np, r_obst=r_obst, \n",
    "           x_target=x_target, batch=True, skip_frame=1,figsize=figsize, title=title, \n",
    "           color_intensity=0.9, motion=False, alpha=0.5, contrast=0.3,lw=3)\n",
    "\n",
    "\n",
    "_,joint_loc,_,_ = robot.forward_kin(top_k_estimate_tt_opt[:,x_task.shape[-1]:])\n",
    "joint_loc = joint_loc.cpu().numpy()\n",
    "\n",
    "title = \"TTGO + Refinement\"\n",
    "plt = plot_chain(joint_loc=joint_loc, link_lengths=link, x_obst=x_obst_np, r_obst=r_obst, \n",
    "           x_target=x_target, batch=True, skip_frame=1, figsize=figsize, title=title, \n",
    "           color_intensity=0., motion=False, alpha=0.5, contrast=0., task='ik',lw=3)"
   ]
  },
  {
   "cell_type": "code",
   "execution_count": null,
   "metadata": {},
   "outputs": [],
   "source": []
  }
 ],
 "metadata": {
  "kernelspec": {
   "display_name": "Python 3 (ipykernel)",
   "language": "python",
   "name": "python3"
  },
  "language_info": {
   "codemirror_mode": {
    "name": "ipython",
    "version": 3
   },
   "file_extension": ".py",
   "mimetype": "text/x-python",
   "name": "python",
   "nbconvert_exporter": "python",
   "pygments_lexer": "ipython3",
   "version": "3.9.7"
  },
  "vscode": {
   "interpreter": {
    "hash": "cf96f6c213ba3f9333b362e3bb271376c1f8feeec3b85b92580d68346ee16de3"
   }
  }
 },
 "nbformat": 4,
 "nbformat_minor": 4
}
