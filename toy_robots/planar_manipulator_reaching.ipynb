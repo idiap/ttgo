{
 "cells": [
  {
   "cell_type": "markdown",
   "metadata": {},
   "source": [
    "Various reaching tasks with planar manipulator modeled in single notebook\n",
    "\n",
    "Copyright (c) 2008 Idiap Research Institute, http://www.idiap.ch/\n",
    "    Written by Suhan Shetty <suhan.shetty@idiap.ch>,\n"
   ]
  },
  {
   "cell_type": "code",
   "execution_count": 1,
   "metadata": {},
   "outputs": [
    {
     "name": "stderr",
     "output_type": "stream",
     "text": [
      "/idiap/temp/sshetty/miniconda/envs/pyml/lib/python3.9/site-packages/tqdm/auto.py:22: TqdmWarning: IProgress not found. Please update jupyter and ipywidgets. See https://ipywidgets.readthedocs.io/en/stable/user_install.html\n",
      "  from .autonotebook import tqdm as notebook_tqdm\n",
      "Matplotlib created a temporary config/cache directory at /tmp/matplotlib-rax94yrt because the default path (/idiap/home/sshetty/.cache/matplotlib) is not a writable directory; it is highly recommended to set the MPLCONFIGDIR environment variable to a writable directory, in particular to speed up the import of Matplotlib and to better support multiprocessing.\n"
     ]
    }
   ],
   "source": [
    "%load_ext autoreload\n",
    "%autoreload 2\n",
    "import torch\n",
    "import numpy as np \n",
    "\n",
    "from planar_manipulator import PlanarManipulator\n",
    "from plot_utils import plot_chain\n",
    "\n",
    "np.set_printoptions(3, suppress=True)\n",
    "torch.set_printoptions(3, sci_mode=False)\n",
    "\n",
    "import sys\n",
    "sys.path.append('../')\n",
    "from ttgo import TTGO\n",
    "import tt_utils\n",
    "\n",
    "from cost_utils import PlanarManipulatorCost\n",
    "from utils import Point2PointMotion\n",
    "\n",
    "import warnings\n",
    "warnings.filterwarnings('ignore')\n"
   ]
  },
  {
   "cell_type": "code",
   "execution_count": 2,
   "metadata": {},
   "outputs": [
    {
     "data": {
      "text/plain": [
       "device(type='cuda')"
      ]
     },
     "execution_count": 2,
     "metadata": {},
     "output_type": "execute_result"
    }
   ],
   "source": [
    "device =  torch.device(\"cuda\" if torch.cuda.is_available() else \"cpu\")\n",
    "device"
   ]
  },
  {
   "cell_type": "code",
   "execution_count": 3,
   "metadata": {},
   "outputs": [],
   "source": [
    "file_name = None # trained model"
   ]
  },
  {
   "cell_type": "code",
   "execution_count": 4,
   "metadata": {},
   "outputs": [],
   "source": [
    "# Define the robot\n",
    "n_joints = 2\n",
    "link_lengths = torch.tensor([1./n_joints]*n_joints).to(device)\n",
    "max_theta = torch.pi\n",
    "min_theta = -1*max_theta\n",
    "n_kp = 10;\n",
    "dt = 0.02;\n",
    "d0_x = 30; d0_theta = 30; d0_w = 30;\n",
    "# Define the environment and the task (Cost function)\n",
    "x_obst = [torch.tensor([-0.3,-0.]).to(device).to(device)]#,torch.tensor([0.5,0.])]\n",
    "r_obst = [0.175]*1\n",
    "\n",
    "# x_obst = [torch.tensor([-0.35,-0.]).to(device),torch.tensor([-0.95,-0.]).to(device)]#,torch.tensor([0.5,0.])]\n",
    "# r_obst = [0.2]*2\n",
    "# x_obst = [torch.tensor([-0.35,-0.25]).to(device),torch.tensor([-0.95,-0.]).to(device)]#,torch.tensor([0.5,0.])]\n",
    "# r_obst = [0.1]*2\n",
    "margin=0.02\n",
    "w_goal= 1; w_obst=1; w_ee=0.; w_control=1;\n",
    "b_goal=0.25;b_obst=4; b_ee=10; b_control=4.;\n",
    "\n",
    "theta_0 = torch.tensor([2.1*torch.pi/4,-1.5*torch.pi/4]).to(device).view(1,-1)\n",
    "theta_3 = 1*theta_0\n",
    "\n",
    "K=2\n",
    "\n",
    "robot = PlanarManipulator(n_joints=n_joints,link_lengths=link_lengths,max_theta=max_theta,n_kp=n_kp, device=device)\n",
    "bounds = [robot.min_config, robot.max_config]\n",
    "p2p_motion = Point2PointMotion(n=n_joints,dt=dt,K=K,basis='bs',bounds=bounds, device=device)\n",
    "costPlanarManipulator = PlanarManipulatorCost(robot,p2p_motion=p2p_motion,x_obst=x_obst,r_obst=r_obst, margin=margin,\n",
    "                                              w_goal=w_goal,w_obst=w_obst,w_ee=w_ee, w_control=w_control,\n",
    "                                              b_goal=b_goal, b_obst=b_obst,b_ee=b_ee, b_control=b_control, device=device)"
   ]
  },
  {
   "cell_type": "markdown",
   "metadata": {},
   "source": [
    "Define the domain and the cost functions"
   ]
  },
  {
   "cell_type": "code",
   "execution_count": 5,
   "metadata": {},
   "outputs": [
    {
     "name": "stdout",
     "output_type": "stream",
     "text": [
      "Find tt_model of pdf_goal:\n",
      "cross device is cuda\n",
      "Cross-approximation over a 4D domain containing 162000 grid points:\n",
      "iter: 0  | tt-error: 1.001e+00, test-error:9.709e-01 | time:   1.2827 | largest rank:   1\n",
      "iter: 1  | tt-error: 3.314e+00, test-error:5.890e-01 | time:   1.3099 | largest rank:   6\n",
      "iter: 2  | tt-error: 6.617e-01, test-error:2.992e-01 | time:   1.3406 | largest rank:  11\n",
      "iter: 3  | tt-error: 3.404e-01, test-error:6.321e-02 | time:   1.3779 | largest rank:  16\n",
      "iter: 4  | tt-error: 6.149e-02, test-error:2.027e-02 | time:   1.4208 | largest rank:  21\n",
      "iter: 5  | tt-error: 2.034e-02, test-error:1.449e-03 | time:   1.4693 | largest rank:  26\n",
      "iter: 6  | tt-error: 1.448e-03, test-error:2.160e-04 | time:   1.5238 | largest rank:  31\n",
      "iter: 7  | tt-error: 2.098e-04, test-error:3.138e-05 | time:   1.5801 | largest rank:  36 <- converged: eps < 0.001\n",
      "Did 267642 function evaluations, which took 0.08747s (3.06e+06 evals/s)\n",
      "\n",
      "Find tt_model of pdf_control:\n",
      "cross device is cuda\n",
      "Cross-approximation over a 6D domain containing 7.29e+08 grid points:\n",
      "iter: 0  | tt-error: 1.482e+00, test-error:1.773e-01 | time:   0.0354 | largest rank:   1\n",
      "iter: 1  | tt-error: 2.048e-01, test-error:1.148e-01 | time:   0.0832 | largest rank:   6\n",
      "iter: 2  | tt-error: 1.088e-01, test-error:6.186e-02 | time:   0.1370 | largest rank:  11\n",
      "iter: 3  | tt-error: 6.387e-02, test-error:3.373e-02 | time:   0.1978 | largest rank:  16\n",
      "iter: 4  | tt-error: 4.801e-02, test-error:4.411e-02 | time:   0.2720 | largest rank:  21\n",
      "iter: 5  | tt-error: 4.449e-02, test-error:1.490e-02 | time:   0.3565 | largest rank:  26\n",
      "iter: 6  | tt-error: 1.939e-02, test-error:1.804e-02 | time:   0.4573 | largest rank:  31\n",
      "iter: 7  | tt-error: 2.100e-02, test-error:1.976e-02 | time:   0.5665 | largest rank:  36\n",
      "iter: 8  | tt-error: 2.224e-02, test-error:1.368e-02 | time:   0.6838 | largest rank:  41\n",
      "iter: 9  | tt-error: 3.808e-02, test-error:3.638e-02 | time:   0.8105 | largest rank:  46\n",
      "iter: 10 | tt-error: 3.613e-02, test-error:1.083e-02 | time:   0.9464 | largest rank:  50\n",
      "iter: 11 | tt-error: 1.608e-02, test-error:1.723e-02 | time:   1.0833 | largest rank:  50\n",
      "iter: 12 | tt-error: 1.739e-02, test-error:1.578e-02 | time:   1.2197 | largest rank:  50\n",
      "iter: 13 | tt-error: 1.256e-02, test-error:1.665e-02 | time:   1.3563 | largest rank:  50\n",
      "iter: 14 | tt-error: 1.447e-02, test-error:1.576e-02 | time:   1.4942 | largest rank:  50\n",
      "iter: 15 | tt-error: 1.265e-02, test-error:1.849e-02 | time:   1.6308 | largest rank:  50\n",
      "iter: 16 | tt-error: 1.537e-02, test-error:1.922e-02 | time:   1.7638 | largest rank:  50\n",
      "iter: 17 | tt-error: 9.544e-03, test-error:2.019e-02 | time:   1.8988 | largest rank:  50\n",
      "iter: 18 | tt-error: 2.024e-02, test-error:2.042e-02 | time:   2.0459 | largest rank:  50\n",
      "iter: 19 | tt-error: 1.684e-02, test-error:2.069e-02 | time:   2.1827 | largest rank:  50 <- max_iter was reached: 20\n",
      "Did 6493410 function evaluations, which took 0.2401s (2.705e+07 evals/s)\n",
      "\n",
      "Find tt_model of pdf_obst:\n",
      "cross device is cuda\n",
      "Cross-approximation over a 6D domain containing 7.29e+08 grid points:\n",
      "iter: 0  | tt-error: 1.444e+00, test-error:2.772e-01 | time:   0.0682 | largest rank:   1\n",
      "iter: 1  | tt-error: 4.888e-01, test-error:2.882e-01 | time:   0.1833 | largest rank:   6\n",
      "iter: 2  | tt-error: 2.345e-01, test-error:1.160e-01 | time:   0.3958 | largest rank:  11\n",
      "iter: 3  | tt-error: 1.157e-01, test-error:7.587e-02 | time:   0.7948 | largest rank:  16\n",
      "iter: 4  | tt-error: 6.769e-02, test-error:6.985e-02 | time:   1.4037 | largest rank:  21\n",
      "iter: 5  | tt-error: 5.529e-02, test-error:5.359e-02 | time:   2.3088 | largest rank:  26\n",
      "iter: 6  | tt-error: 5.655e-02, test-error:4.173e-02 | time:   3.5927 | largest rank:  31\n",
      "iter: 7  | tt-error: 3.896e-02, test-error:3.196e-02 | time:   5.1096 | largest rank:  36\n",
      "iter: 8  | tt-error: 3.113e-02, test-error:2.899e-02 | time:   6.9482 | largest rank:  41\n",
      "iter: 9  | tt-error: 2.892e-02, test-error:2.377e-02 | time:   9.1424 | largest rank:  46\n",
      "iter: 10 | tt-error: 2.002e-02, test-error:2.082e-02 | time:  11.6447 | largest rank:  50\n",
      "iter: 11 | tt-error: 2.074e-02, test-error:1.866e-02 | time:  14.1376 | largest rank:  50\n",
      "iter: 12 | tt-error: 1.885e-02, test-error:2.013e-02 | time:  16.6394 | largest rank:  50\n",
      "iter: 13 | tt-error: 1.971e-02, test-error:1.923e-02 | time:  19.1374 | largest rank:  50\n",
      "iter: 14 | tt-error: 1.671e-02, test-error:1.870e-02 | time:  21.6509 | largest rank:  50\n",
      "iter: 15 | tt-error: 1.588e-02, test-error:1.932e-02 | time:  24.1375 | largest rank:  50\n",
      "iter: 16 | tt-error: 2.101e-02, test-error:1.972e-02 | time:  26.6278 | largest rank:  50\n",
      "iter: 17 | tt-error: 2.015e-02, test-error:1.909e-02 | time:  29.1208 | largest rank:  50\n",
      "iter: 18 | tt-error: 1.999e-02, test-error:2.183e-02 | time:  31.6173 | largest rank:  50\n",
      "iter: 19 | tt-error: 2.039e-02, test-error:2.266e-02 | time:  34.1627 | largest rank:  50 <- max_iter was reached: 20\n",
      "Did 6493410 function evaluations, which took 30.77s (2.11e+05 evals/s)\n",
      "\n",
      "Take product: pdf(x_task,x_decision) = pdf_goal(x_task,x_decision)*pdf_obst(x_decision)*pdf_obst(x_decision)\n"
     ]
    }
   ],
   "source": [
    "# Pick and place location (via-points: x_1 and x_2)\n",
    "x_min_place = -0.75; x_max_place = -0.5;\n",
    "y_min_place = -0.5; y_max_place = 0.5;\n",
    "\n",
    "x_min_pick =  0.5; x_max_pick = 0.75;\n",
    "y_min_pick = -0.5; y_max_pick = 0.5;\n",
    "\n",
    "d0_y = int(d0_x/5);\n",
    "domain_x1 = [torch.linspace(x_min_pick,x_max_pick,d0_x).to(device),\n",
    "            torch.linspace(y_min_pick,y_max_pick,d0_y).to(device)]\n",
    "domain_x2= [torch.linspace(x_min_place,x_max_place,d0_x).to(device),\n",
    "            torch.linspace(y_min_place,y_max_place,d0_y).to(device)]\n",
    "\n",
    "domain_theta = [torch.linspace(min_theta, max_theta,d0_theta).to(device)]*n_joints\n",
    "domain_w = [torch.linspace(min_theta,max_theta,d0_w).to(device)]*(K*n_joints)\n",
    "\n",
    "\n",
    "task = 'reaching'\n",
    "domain_task = domain_x2\n",
    "domain_decision = domain_theta + domain_w\n",
    "domain = domain_task+domain_decision\n",
    "domain = [x.to(device) for x in domain]\n",
    "def cost(x):\n",
    "    # x: (x_task, theta_1, w01)\n",
    "    return costPlanarManipulator.cost_j2p(x,theta_0)[:,0]\n",
    "\n",
    "def cost_to_print(x):\n",
    "    # x: (x_task,theta_1,w01)\n",
    "    return costPlanarManipulator.cost_j2p(x,theta_0)\n",
    "\n",
    "def pdf_goal(x):\n",
    "    # x: (x_task, theta_1)\n",
    "    d_goal = costPlanarManipulator.cost_goal(x)#costPlanarManipulator.cost_ik(x)[:,1]\n",
    "    return torch.exp(-(d_goal/0.25)**2) \n",
    "\n",
    "\n",
    "def pdf_obst(x):\n",
    "    # x: (theta_1, w01)\n",
    "    d_obst = costPlanarManipulator.cost_obst(x,theta_0)#costPlanarManipulator.cost_ik(x)[:,1]\n",
    "    return torch.exp(-(d_obst/100)**2) \n",
    "\n",
    "\n",
    "def pdf_control(x):\n",
    "    # x: (theta_1,w01)\n",
    "    d_control = costPlanarManipulator.cost_control(x,theta_0)#costPlanarManipulator.cost_ik(x)[:,1]\n",
    "    return torch.exp(-(d_control/4)**2) \n",
    "\n",
    "\n",
    "print(\"Find tt_model of pdf_goal:\")\n",
    "domain_goal = domain_x2 + domain_theta\n",
    "tt_goal = tt_utils.cross_approximate(fcn=pdf_goal,  domain=domain_goal, \n",
    "                        rmax=100, nswp=20, eps=1e-3, verbose=True, \n",
    "                        kickrank=5, device=device)\n",
    "\n",
    "print(\"Find tt_model of pdf_control:\")\n",
    "domain_control = domain_theta + domain_w\n",
    "tt_control = tt_utils.cross_approximate(fcn=pdf_control,  domain=domain_control, \n",
    "                        rmax=50, nswp=20, eps=1e-3, verbose=True, \n",
    "                        kickrank=5, device=device)\n",
    "\n",
    "print(\"Find tt_model of pdf_obst:\")\n",
    "domain_obst = domain_theta + domain_w\n",
    "tt_obst = tt_utils.cross_approximate(fcn=pdf_obst,  domain=domain_obst, \n",
    "                        rmax=50, nswp=20, eps=1e-3, verbose=True, \n",
    "                        kickrank=5, device=device)\n",
    "\n",
    "\n",
    "# make sure the dimensions of the tt models matches with that of tt_model desired by adding dummy variables/cores\n",
    "\n",
    "tt_goal = tt_utils.extend_model(tt_model=tt_goal,site=-1,n_cores=len(domain_w),d=[d0_w]*len(domain_w)).to(device)\n",
    "tt_obst = tt_utils.extend_model(tt_model=tt_obst,site=0,n_cores=2,d=[d0_x]*2).to(device)\n",
    "tt_control = tt_utils.extend_model(tt_model=tt_control,site=0,n_cores=2,d=[d0_x]*2).to(device)\n",
    "\n",
    "print(\"Take product: pdf(x_task,x_decision) = pdf_goal(x_task,x_decision)*pdf_obst(x_decision)*pdf_obst(x_decision)\")\n",
    "tt_model = tt_goal.to('cpu')*tt_control.to('cpu')\n",
    "tt_model.round_tt(1e-3) \n",
    "tt_model = tt_model*tt_obst.to('cpu')\n",
    "tt_model.round_tt(1e-3) \n",
    "\n",
    "\n",
    "domain = domain_task+domain_decision\n",
    "domain = [x.to(device) for x in domain]\n",
    "\n"
   ]
  },
  {
   "cell_type": "code",
   "execution_count": 6,
   "metadata": {},
   "outputs": [],
   "source": [
    "# Refine the discretization and interpolate the model\n",
    "scale_factor = 10\n",
    "site_list = torch.arange(len(domain))#len(domain_task)+torch.arange(len(domain_decision))\n",
    "domain_new = tt_utils.refine_domain(domain=domain, \n",
    "                                    site_list=site_list,\n",
    "                                    scale_factor=scale_factor, device=device)\n",
    "tt_model_new = tt_utils.refine_model(tt_model=tt_model.to(device), \n",
    "                                    site_list=site_list,\n",
    "                                    scale_factor=scale_factor, device=device)"
   ]
  },
  {
   "cell_type": "code",
   "execution_count": 7,
   "metadata": {},
   "outputs": [],
   "source": [
    "ttgo = TTGO(tt_model=tt_model_new.to(device), domain=domain_new,cost=cost, device=device)"
   ]
  },
  {
   "cell_type": "code",
   "execution_count": 8,
   "metadata": {},
   "outputs": [],
   "source": [
    "# # Either load a trained model or train a new model:\n",
    "# if not (file_name is None):\n",
    "#     # Load the trained model and the system params:\n",
    "#     model = torch.load(file_name)\n",
    "#     ttgo.tt_model = model['tt_model']; ttgo.to('cpu')\n",
    "#     w_goal, w_obst, w_ee, w_control = model['w']\n",
    "#     b_goal, b_obst, b_ee, b_control = model['b']\n",
    "#     margin = model['margin']\n",
    "#     domain = model['domain']\n",
    "#     x_obst= model['x_obst']\n",
    "#     r_obst = model['r_obst']\n",
    "#     n_joints = model['n_joints']\n",
    "#     n_kp = model['n_kp']\n",
    "#     dt = model['dt']\n",
    "#     theta_0 = model['theta_0']\n",
    "#     theta_3 = model['theta_3']\n",
    "# else:\n",
    "#     ttgo.cross_approximate(rmax=100, nswp=5, kickrank=3)"
   ]
  },
  {
   "cell_type": "code",
   "execution_count": 9,
   "metadata": {},
   "outputs": [],
   "source": [
    "# generate test set\n",
    "ns = 50\n",
    "test_task = torch.zeros(ns,len(domain_task)).to(device)\n",
    "for i in range(len(domain_task)):\n",
    "    unif = torch.distributions.uniform.Uniform(low=domain_task[i][0],high=domain_task[i][-1])\n",
    "    test_task[:,i]= torch.tensor([unif.sample() for i in range(ns)]).to(device)\n"
   ]
  },
  {
   "cell_type": "code",
   "execution_count": 10,
   "metadata": {},
   "outputs": [],
   "source": [
    "# # Save the model for future purpose\n",
    "# torch.save({\n",
    "#     'tt_model':ttgo.tt_model,\n",
    "#     'w': (w_goal,w_obst,w_ee,w_control),\n",
    "#     'b': (b_goal,b_obst,b_ee,b_control),\n",
    "#     'margin': margin,\n",
    "#     'domain': domain,\n",
    "#     'test_task': test_task,\n",
    "#     'x_obst':x_obst,\n",
    "#     'r_obst':r_obst,\n",
    "#     'n_joints':n_joints,\n",
    "#     'n_kp':10,\n",
    "#     'dt':0.02,\n",
    "#     'theta_0':theta_0,\n",
    "#     'theta_3':theta_3\n",
    "# }, 'planar_via_2.pickle')"
   ]
  },
  {
   "cell_type": "code",
   "execution_count": 11,
   "metadata": {},
   "outputs": [],
   "source": [
    "# n_samples_tt = 100\n",
    "# alpha = 0.9\n",
    "# norm=1\n",
    "# print(\"total-cost | dist-to-goal | collision-cost | ee-cost | control-cost \")\n",
    "# from utils import test_ttgo\n",
    "# _ = test_ttgo(ttgo=ttgo.clone(), cost=cost_to_print, test_task=test_task, n_samples_tt=n_samples_tt, \n",
    "#      alpha=alpha, device='cpu', test_rand=True)\n"
   ]
  },
  {
   "cell_type": "markdown",
   "metadata": {},
   "source": [
    "## Visualization"
   ]
  },
  {
   "cell_type": "code",
   "execution_count": 15,
   "metadata": {},
   "outputs": [],
   "source": [
    "k = np.random.choice(np.arange(ns))\n",
    "x_task = test_task[k].view(1,-1).to(device)\n",
    "# samples, samples_idx = ttgo.sample_random(n_samples=1000, x_task=x_task)\n",
    "samples= ttgo.sample_tt(n_samples=100, x_task=x_task, alpha=0.75)\n",
    "state_tt = ttgo.choose_best_sample(samples)[0]\n",
    "state_tt_opt, _ = ttgo.optimize(state_tt.to(\"cpu\"))\n",
    "state_tt_opt = state_tt.to(device)\n",
    "x = 1*state_tt_opt.reshape(1,-1)\n"
   ]
  },
  {
   "cell_type": "code",
   "execution_count": 16,
   "metadata": {},
   "outputs": [],
   "source": [
    "\n",
    "batch_size = x.shape[0]\n",
    "x_goal_1 = x[:,:2] # desired position of ee at via point\n",
    "theta_1 = x[:,2:2+n_joints] # via configuration\n",
    "w = x[:,2+n_joints:] # weights of the basis function\n",
    "w01 = w[:,:int(w.shape[-1])] # weights for the first part of the motion: theta_0 to theta_1 \n",
    "theta_t_01 = p2p_motion.gen_traj_p2p(theta_0.view(1,-1).repeat(batch_size,1),theta_1,w01)#batchxtimexjoint_angle\n",
    "T01 = theta_t_01.shape[1]\n",
    "kp_loc_t_01, joint_loc_t_01, ee_loc_t_01,_ = robot.forward_kin(theta_t_01.view(-1,n_joints))\n",
    "joint_loc = joint_loc_t_01.view(batch_size,T01,*joint_loc_t_01.shape[1:])[0].cpu()\n",
    "x_target = [x_goal_1.view(-1).cpu().numpy()]\n"
   ]
  },
  {
   "cell_type": "code",
   "execution_count": 17,
   "metadata": {},
   "outputs": [
    {
     "data": {
      "image/png": "[encoded data removed]",
      "text/plain": [
       "<Figure size 360x360 with 1 Axes>"
      ]
     },
     "metadata": {},
     "output_type": "display_data"
    }
   ],
   "source": [
    "x_obst_np = [x.cpu().numpy() for x in x_obst]\n",
    "link_lengths_np = link_lengths.cpu().numpy()\n",
    "rect_patch = [[x_min_pick,y_min_pick, x_max_pick-x_min_pick,  y_max_pick-y_min_pick],\n",
    "              [x_min_place,y_min_place, x_max_place-x_min_place,  y_max_place-y_min_place]]\n",
    "plt=plot_chain(joint_loc=joint_loc, link_lengths=link_lengths_np, x_obst=x_obst_np,\n",
    "               r_obst=r_obst, rect_patch=rect_patch, x_target=x_target, \n",
    "               batch=True, figsize=5, skip_frame=2, title=None, save_as=None, \n",
    "               color_intensity=0.9, motion=True, alpha=0.8, \n",
    "               contrast=0.4, idx_highlight=[int(joint_loc.shape[0]-1)], lw=3, task=task)\n",
    "# plt.savefig(\"reach-2d-tt-opt-7.png\",dpi=300, pad_inches=0.01)"
   ]
  },
  {
   "cell_type": "code",
   "execution_count": null,
   "metadata": {},
   "outputs": [],
   "source": []
  },
  {
   "cell_type": "code",
   "execution_count": null,
   "metadata": {},
   "outputs": [],
   "source": []
  }
 ],
 "metadata": {
  "kernelspec": {
   "display_name": "Python 3 (ipykernel)",
   "language": "python",
   "name": "python3"
  },
  "language_info": {
   "codemirror_mode": {
    "name": "ipython",
    "version": 3
   },
   "file_extension": ".py",
   "mimetype": "text/x-python",
   "name": "python",
   "nbconvert_exporter": "python",
   "pygments_lexer": "ipython3",
   "version": "3.9.7"
  },
  "vscode": {
   "interpreter": {
    "hash": "cf96f6c213ba3f9333b362e3bb271376c1f8feeec3b85b92580d68346ee16de3"
   }
  }
 },
 "nbformat": 4,
 "nbformat_minor": 4
}
